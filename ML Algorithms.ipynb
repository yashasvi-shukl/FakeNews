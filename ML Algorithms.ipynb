{
 "cells": [
  {
   "cell_type": "code",
   "execution_count": 52,
   "id": "f8817572",
   "metadata": {},
   "outputs": [
    {
     "data": {
      "text/html": [
       "        <script type=\"text/javascript\">\n",
       "        window.PlotlyConfig = {MathJaxConfig: 'local'};\n",
       "        if (window.MathJax) {MathJax.Hub.Config({SVG: {font: \"STIX-Web\"}});}\n",
       "        if (typeof require !== 'undefined') {\n",
       "        require.undef(\"plotly\");\n",
       "        requirejs.config({\n",
       "            paths: {\n",
       "                'plotly': ['https://cdn.plot.ly/plotly-2.6.3.min']\n",
       "            }\n",
       "        });\n",
       "        require(['plotly'], function(Plotly) {\n",
       "            window._Plotly = Plotly;\n",
       "        });\n",
       "        }\n",
       "        </script>\n",
       "        "
      ]
     },
     "metadata": {},
     "output_type": "display_data"
    },
    {
     "data": {
      "text/html": [
       "        <script type=\"text/javascript\">\n",
       "        window.PlotlyConfig = {MathJaxConfig: 'local'};\n",
       "        if (window.MathJax) {MathJax.Hub.Config({SVG: {font: \"STIX-Web\"}});}\n",
       "        if (typeof require !== 'undefined') {\n",
       "        require.undef(\"plotly\");\n",
       "        requirejs.config({\n",
       "            paths: {\n",
       "                'plotly': ['https://cdn.plot.ly/plotly-2.6.3.min']\n",
       "            }\n",
       "        });\n",
       "        require(['plotly'], function(Plotly) {\n",
       "            window._Plotly = Plotly;\n",
       "        });\n",
       "        }\n",
       "        </script>\n",
       "        "
      ]
     },
     "metadata": {},
     "output_type": "display_data"
    }
   ],
   "source": [
    "import warnings\n",
    "warnings.filterwarnings('ignore')\n",
    "\n",
    "import pandas as pd\n",
    "import numpy as np\n",
    "import seaborn as sn\n",
    "import matplotlib.pyplot as plt\n",
    "from sklearn.metrics import confusion_matrix, accuracy_score\n",
    "from sklearn.linear_model import LogisticRegression\n",
    "from sklearn.metrics import classification_report\n",
    "from sklearn import tree\n",
    "from sklearn.neighbors import KNeighborsClassifier\n",
    "from sklearn.svm import LinearSVC\n",
    "from sklearn.ensemble import GradientBoostingClassifier\n",
    "from sklearn.model_selection import GridSearchCV\n",
    "import xgboost as xgb\n",
    "from xgboost.sklearn import XGBClassifier\n",
    "from sklearn.ensemble import ExtraTreesClassifier\n",
    "from sklearn.ensemble import RandomForestClassifier\n",
    "\n",
    "\n",
    "\n",
    "from sklearn.manifold import TSNE\n",
    "import plotly as py\n",
    "import cufflinks as cf\n",
    "py.offline.init_notebook_mode(connected=True)\n",
    "cf.go_offline()\n",
    "import plotly.io as pio\n",
    "pio.renderers.default='notebook'"
   ]
  },
  {
   "cell_type": "code",
   "execution_count": 53,
   "id": "8d1d99a8",
   "metadata": {
    "scrolled": true
   },
   "outputs": [
    {
     "data": {
      "text/html": [
       "<div>\n",
       "<style scoped>\n",
       "    .dataframe tbody tr th:only-of-type {\n",
       "        vertical-align: middle;\n",
       "    }\n",
       "\n",
       "    .dataframe tbody tr th {\n",
       "        vertical-align: top;\n",
       "    }\n",
       "\n",
       "    .dataframe thead th {\n",
       "        text-align: right;\n",
       "    }\n",
       "</style>\n",
       "<table border=\"1\" class=\"dataframe\">\n",
       "  <thead>\n",
       "    <tr style=\"text-align: right;\">\n",
       "      <th></th>\n",
       "      <th>label</th>\n",
       "      <th>cleaned_article</th>\n",
       "      <th>num_punctuations</th>\n",
       "      <th>no_of_stopwords</th>\n",
       "      <th>no_of_quesMarks</th>\n",
       "      <th>no_of_exclamation</th>\n",
       "      <th>no_of_sentence</th>\n",
       "      <th>sentiment</th>\n",
       "      <th>cc_cd</th>\n",
       "      <th>determiner</th>\n",
       "      <th>...</th>\n",
       "      <th>noun</th>\n",
       "      <th>adverb</th>\n",
       "      <th>verb</th>\n",
       "      <th>article_len</th>\n",
       "      <th>negations</th>\n",
       "      <th>polarity</th>\n",
       "      <th>word_count</th>\n",
       "      <th>avg_word_len</th>\n",
       "      <th>num_unique_words</th>\n",
       "      <th>num_chars</th>\n",
       "    </tr>\n",
       "  </thead>\n",
       "  <tbody>\n",
       "    <tr>\n",
       "      <th>0</th>\n",
       "      <td>1</td>\n",
       "      <td>seeking best woman final return fridaysunday y...</td>\n",
       "      <td>139</td>\n",
       "      <td>634</td>\n",
       "      <td>5</td>\n",
       "      <td>0</td>\n",
       "      <td>41</td>\n",
       "      <td>Positive</td>\n",
       "      <td>37</td>\n",
       "      <td>98</td>\n",
       "      <td>...</td>\n",
       "      <td>236</td>\n",
       "      <td>27</td>\n",
       "      <td>150</td>\n",
       "      <td>4563</td>\n",
       "      <td>6</td>\n",
       "      <td>0.049887</td>\n",
       "      <td>357</td>\n",
       "      <td>6.392157</td>\n",
       "      <td>234</td>\n",
       "      <td>2638</td>\n",
       "    </tr>\n",
       "    <tr>\n",
       "      <th>1</th>\n",
       "      <td>0</td>\n",
       "      <td>harsh reality come taking responsibility life ...</td>\n",
       "      <td>112</td>\n",
       "      <td>702</td>\n",
       "      <td>2</td>\n",
       "      <td>3</td>\n",
       "      <td>37</td>\n",
       "      <td>Positive</td>\n",
       "      <td>53</td>\n",
       "      <td>79</td>\n",
       "      <td>...</td>\n",
       "      <td>196</td>\n",
       "      <td>85</td>\n",
       "      <td>230</td>\n",
       "      <td>5470</td>\n",
       "      <td>15</td>\n",
       "      <td>0.029320</td>\n",
       "      <td>347</td>\n",
       "      <td>6.573487</td>\n",
       "      <td>263</td>\n",
       "      <td>2627</td>\n",
       "    </tr>\n",
       "  </tbody>\n",
       "</table>\n",
       "<p>2 rows × 24 columns</p>\n",
       "</div>"
      ],
      "text/plain": [
       "   label                                    cleaned_article  num_punctuations  \\\n",
       "0      1  seeking best woman final return fridaysunday y...               139   \n",
       "1      0  harsh reality come taking responsibility life ...               112   \n",
       "\n",
       "   no_of_stopwords  no_of_quesMarks  no_of_exclamation  no_of_sentence  \\\n",
       "0              634                5                  0              41   \n",
       "1              702                2                  3              37   \n",
       "\n",
       "  sentiment  cc_cd  determiner  ...  noun  adverb  verb  article_len  \\\n",
       "0  Positive     37          98  ...   236      27   150         4563   \n",
       "1  Positive     53          79  ...   196      85   230         5470   \n",
       "\n",
       "   negations  polarity  word_count  avg_word_len  num_unique_words  num_chars  \n",
       "0          6  0.049887         357      6.392157               234       2638  \n",
       "1         15  0.029320         347      6.573487               263       2627  \n",
       "\n",
       "[2 rows x 24 columns]"
      ]
     },
     "execution_count": 53,
     "metadata": {},
     "output_type": "execute_result"
    }
   ],
   "source": [
    "df = pd.read_csv('training_set.csv') # Importing the training dataset\n",
    "df.head(2)"
   ]
  },
  {
   "cell_type": "code",
   "execution_count": 54,
   "id": "3d187aa7",
   "metadata": {},
   "outputs": [
    {
     "data": {
      "text/plain": [
       "(96517, 24)"
      ]
     },
     "execution_count": 54,
     "metadata": {},
     "output_type": "execute_result"
    }
   ],
   "source": [
    "df.shape"
   ]
  },
  {
   "cell_type": "code",
   "execution_count": 55,
   "id": "77d8c4a5",
   "metadata": {},
   "outputs": [],
   "source": [
    "#df = df[['cleaned_article', 'label', 'num_punctuations', 'no_of_quesMarks', 'sentiment', 'no_of_exclamation', 'foreign_w', 'modal', 'polarity', 'avg_word_len']]\n"
   ]
  },
  {
   "cell_type": "code",
   "execution_count": 56,
   "id": "450f6214",
   "metadata": {
    "scrolled": true
   },
   "outputs": [],
   "source": [
    "# Sentiment is a categorical data, we have to encode it for model training\n",
    "from sklearn.preprocessing import OneHotEncoder\n",
    "def Encoding_sentiment(df):\n",
    "    df.dropna(inplace = True)\n",
    "    encoder = OneHotEncoder(drop = 'first') # Creating object of OneHotEncoder class\n",
    "    encoded_sentiment = encoder.fit_transform(pd.DataFrame(df['sentiment'])).toarray().astype(int) # Fitting to the data\n",
    "    column_names = encoder.get_feature_names_out() # Getting feature name\n",
    "    encoded_sentiment = pd.DataFrame(encoded_sentiment, columns = column_names)  # Creating dataframe of encoded feature\n",
    "    df_new = pd.concat([df, encoded_sentiment], axis = 1) # Concatinating newly created sentiment dataframe into original dataframe\n",
    "    df_new.drop('sentiment', axis = 1, inplace = True) # dropping sentiment column as I have already encoded this categorical feature\n",
    "\n",
    "    return df_new"
   ]
  },
  {
   "cell_type": "code",
   "execution_count": 57,
   "id": "d5731b0f",
   "metadata": {
    "scrolled": false
   },
   "outputs": [],
   "source": [
    "df = Encoding_sentiment(df) # Calling the function to encode Sentiment column which is a categorial feature"
   ]
  },
  {
   "cell_type": "code",
   "execution_count": 58,
   "id": "b06764ea",
   "metadata": {},
   "outputs": [
    {
     "data": {
      "text/plain": [
       "Index(['label', 'cleaned_article', 'num_punctuations', 'no_of_stopwords',\n",
       "       'no_of_quesMarks', 'no_of_exclamation', 'no_of_sentence', 'cc_cd',\n",
       "       'determiner', 'foreign_w', 'conj_prep', 'adjective', 'modal', 'noun',\n",
       "       'adverb', 'verb', 'article_len', 'negations', 'polarity', 'word_count',\n",
       "       'avg_word_len', 'num_unique_words', 'num_chars', 'sentiment_Neutral',\n",
       "       'sentiment_Positive'],\n",
       "      dtype='object')"
      ]
     },
     "execution_count": 58,
     "metadata": {},
     "output_type": "execute_result"
    }
   ],
   "source": [
    "df.columns"
   ]
  },
  {
   "cell_type": "code",
   "execution_count": null,
   "id": "2a8dd278",
   "metadata": {},
   "outputs": [],
   "source": []
  },
  {
   "cell_type": "code",
   "execution_count": 59,
   "id": "dd67c05c",
   "metadata": {},
   "outputs": [
    {
     "data": {
      "text/plain": [
       "90697"
      ]
     },
     "execution_count": 59,
     "metadata": {},
     "output_type": "execute_result"
    }
   ],
   "source": [
    "df = df[(df['word_count'] >7) & (df['word_count']<800)]\n",
    "len(df)"
   ]
  },
  {
   "cell_type": "markdown",
   "id": "c3ea4f35",
   "metadata": {},
   "source": [
    "# Model Building"
   ]
  },
  {
   "cell_type": "code",
   "execution_count": 60,
   "id": "d82e7a1b",
   "metadata": {},
   "outputs": [],
   "source": [
    "X = df.drop(['cleaned_article'], axis = 1) # Training features\n",
    "y = df['label'] # Target variable"
   ]
  },
  {
   "cell_type": "code",
   "execution_count": 61,
   "id": "1f0ea6fb",
   "metadata": {},
   "outputs": [],
   "source": [
    "# Creating train and test vextor for model training and testing\n",
    "from sklearn.model_selection import train_test_split\n",
    "X_train_og, X_test_og, y_train_og, y_test_og = train_test_split(X, y, test_size=0.2, random_state=20)"
   ]
  },
  {
   "cell_type": "code",
   "execution_count": null,
   "id": "5f1caa3f",
   "metadata": {},
   "outputs": [],
   "source": []
  },
  {
   "cell_type": "code",
   "execution_count": 62,
   "id": "5aee2cfb",
   "metadata": {},
   "outputs": [],
   "source": [
    "X_train = X_train_og.drop(['label'], axis = 1)\n",
    "X_test = X_test_og.drop(['label'], axis = 1).values\n",
    "y_train = y_train_og.values\n",
    "y_test = y_test_og.values"
   ]
  },
  {
   "cell_type": "code",
   "execution_count": 63,
   "id": "c126ae69",
   "metadata": {
    "scrolled": true
   },
   "outputs": [],
   "source": [
    "# Scaling the data using Standard Scaler with mean = 0 and standard deviation = 1\n",
    "from sklearn.preprocessing import StandardScaler\n",
    "sc = StandardScaler()\n",
    "sc.fit(X_train)\n",
    "X_train = sc.transform(X_train)\n",
    "X_test = sc.transform(X_test)"
   ]
  },
  {
   "cell_type": "code",
   "execution_count": 64,
   "id": "61fe5ae1",
   "metadata": {
    "scrolled": false
   },
   "outputs": [],
   "source": [
    "# Importing testing dataset 1\n",
    "test_df1 = pd.read_csv('Test/test1.csv') \n",
    "# Removing all those rows which has count of article words less than 7 or greater than 800\n",
    "test_df1 = test_df1[(test_df1['word_count'] > 7) & (test_df1['word_count'] < 800)]  \n",
    "\n",
    "test_df1 = Encoding_sentiment(test_df1) # Encoding categorical features\n",
    "test_df1.dropna(inplace = True)\n",
    "\n",
    "test_df1.label = test_df1.label.astype(int)\n",
    "test_X1 = test_df1.drop(['cleaned_article','label'], axis = 1).values # Testing features\n",
    "label_y1 = test_df1['label'].values # Testing labels\n",
    "test_X1 = sc.transform(test_X1) # scaling features"
   ]
  },
  {
   "cell_type": "code",
   "execution_count": 65,
   "id": "84242297",
   "metadata": {},
   "outputs": [
    {
     "name": "stdout",
     "output_type": "stream",
     "text": [
      "label                 0\n",
      "cleaned_article       0\n",
      "num_punctuations      0\n",
      "no_of_stopwords       0\n",
      "no_of_quesMarks       0\n",
      "no_of_exclamation     0\n",
      "no_of_sentence        0\n",
      "cc_cd                 0\n",
      "determiner            0\n",
      "foreign_w             0\n",
      "conj_prep             0\n",
      "adjective             0\n",
      "modal                 0\n",
      "noun                  0\n",
      "adverb                0\n",
      "verb                  0\n",
      "article_len           0\n",
      "negations             0\n",
      "polarity              0\n",
      "word_count            0\n",
      "avg_word_len          0\n",
      "num_unique_words      0\n",
      "num_chars             0\n",
      "sentiment_Neutral     0\n",
      "sentiment_Positive    0\n",
      "dtype: int64\n"
     ]
    }
   ],
   "source": [
    "# Importing testing dataset 2 and necessary coversation for model building and feature transformation\n",
    "test_df2 = pd.read_csv('Test/test2.csv')\n",
    "test_df2.fillna('', inplace = True)\n",
    "test_df2 = test_df2[(test_df2['word_count'] > 7) & (test_df2['word_count'] < 800)]\n",
    "test_df2 = Encoding_sentiment(test_df2)\n",
    "test_df2.dropna(inplace = True)\n",
    "print(test_df1.isna().sum())\n",
    "test_df2.label = test_df2.label.astype(int)\n",
    "\n",
    "test_X2 = test_df2.drop(['cleaned_article','label'], axis = 1).values\n",
    "test_df2.dropna(inplace = True)\n",
    "label_y2 = test_df2['label'].values\n",
    "test_X2 = sc.transform(test_X2)"
   ]
  },
  {
   "cell_type": "markdown",
   "id": "c985fbd1",
   "metadata": {},
   "source": [
    "## Logistic Regression"
   ]
  },
  {
   "cell_type": "code",
   "execution_count": 66,
   "id": "460c5bfb",
   "metadata": {},
   "outputs": [],
   "source": [
    "log_cls = LogisticRegression(penalty='l2', max_iter=400, n_jobs=-1, C=1) # creating class object\n",
    "log_cls.fit(X_train, y_train) # fitting to the training set\n",
    "\n",
    "log_ypred = log_cls.predict(X_test) # predicting on testset"
   ]
  },
  {
   "cell_type": "code",
   "execution_count": 67,
   "id": "480516c3",
   "metadata": {
    "scrolled": true
   },
   "outputs": [
    {
     "data": {
      "text/plain": [
       "<AxesSubplot:>"
      ]
     },
     "execution_count": 67,
     "metadata": {},
     "output_type": "execute_result"
    },
    {
     "data": {
      "image/png": "[encoded data removed]",
      "text/plain": [
       "<Figure size 432x288 with 2 Axes>"
      ]
     },
     "metadata": {
      "needs_background": "light"
     },
     "output_type": "display_data"
    }
   ],
   "source": [
    "cm = confusion_matrix(y_test, log_ypred)\n",
    "sn.heatmap(cm, annot=True, fmt=\"d\")"
   ]
  },
  {
   "cell_type": "code",
   "execution_count": 68,
   "id": "e257dc9f",
   "metadata": {},
   "outputs": [
    {
     "name": "stdout",
     "output_type": "stream",
     "text": [
      "              precision    recall  f1-score   support\n",
      "\n",
      "           0     0.7725    0.7393    0.7555      9027\n",
      "           1     0.7523    0.7843    0.7680      9113\n",
      "\n",
      "    accuracy                         0.7619     18140\n",
      "   macro avg     0.7624    0.7618    0.7617     18140\n",
      "weighted avg     0.7623    0.7619    0.7618     18140\n",
      "\n"
     ]
    }
   ],
   "source": [
    "# Classification report of test set\n",
    "print(classification_report(y_test, log_ypred, digits = 4))"
   ]
  },
  {
   "cell_type": "code",
   "execution_count": 69,
   "id": "70c7ba5c",
   "metadata": {},
   "outputs": [
    {
     "name": "stdout",
     "output_type": "stream",
     "text": [
      "              precision    recall  f1-score   support\n",
      "\n",
      "           0     0.6899    0.4591    0.5513      2544\n",
      "           1     0.4911    0.7167    0.5828      1853\n",
      "\n",
      "    accuracy                         0.5677      4397\n",
      "   macro avg     0.5905    0.5879    0.5671      4397\n",
      "weighted avg     0.6061    0.5677    0.5646      4397\n",
      "\n"
     ]
    }
   ],
   "source": [
    "# Predicting on first test dataset\n",
    "test1_log_ypred = log_cls.predict(test_X1)\n",
    "print(classification_report(label_y1, test1_log_ypred, digits = 4))"
   ]
  },
  {
   "cell_type": "code",
   "execution_count": 70,
   "id": "c320aa55",
   "metadata": {
    "scrolled": false
   },
   "outputs": [
    {
     "name": "stdout",
     "output_type": "stream",
     "text": [
      "              precision    recall  f1-score   support\n",
      "\n",
      "           0     0.6086    0.6150    0.6118      2675\n",
      "           1     0.6213    0.6150    0.6181      2748\n",
      "\n",
      "    accuracy                         0.6150      5423\n",
      "   macro avg     0.6150    0.6150    0.6149      5423\n",
      "weighted avg     0.6150    0.6150    0.6150      5423\n",
      "\n"
     ]
    }
   ],
   "source": [
    "# Predicting on 2nd test dataset\n",
    "test2_log_pred = log_cls.predict(test_X2)\n",
    "print(classification_report(label_y2, test2_log_pred, digits = 4))"
   ]
  },
  {
   "cell_type": "markdown",
   "id": "1fbaae26",
   "metadata": {},
   "source": [
    "### Inference:\n",
    "\n",
    "From he above classification report we can see model is performing satisfactory on training datatset with accuracy of about 76%. However, model is not good enough to predict on test dataset. The accuracy on 1st test data is 57% and on 2nd dataset it is 62%. "
   ]
  },
  {
   "cell_type": "code",
   "execution_count": null,
   "id": "9d1c2da2",
   "metadata": {},
   "outputs": [],
   "source": []
  },
  {
   "cell_type": "code",
   "execution_count": null,
   "id": "a09138d4",
   "metadata": {},
   "outputs": [],
   "source": []
  },
  {
   "cell_type": "markdown",
   "id": "109ee771",
   "metadata": {},
   "source": [
    "## K-NN"
   ]
  },
  {
   "cell_type": "code",
   "execution_count": 71,
   "id": "92a98e86",
   "metadata": {},
   "outputs": [
    {
     "data": {
      "text/plain": [
       "<AxesSubplot:>"
      ]
     },
     "execution_count": 71,
     "metadata": {},
     "output_type": "execute_result"
    },
    {
     "data": {
      "image/png": "[encoded data removed]",
      "text/plain": [
       "<Figure size 432x288 with 2 Axes>"
      ]
     },
     "metadata": {
      "needs_background": "light"
     },
     "output_type": "display_data"
    }
   ],
   "source": [
    "knn_cls = KNeighborsClassifier(n_neighbors=7, n_jobs=-1)\n",
    "knn_cls.fit(X_train, y_train)\n",
    "knn_ypred = knn_cls.predict(X_test)\n",
    "\n",
    "cm = confusion_matrix(y_test, knn_ypred)\n",
    "sn.heatmap(cm, annot=True, fmt=\"d\")"
   ]
  },
  {
   "cell_type": "code",
   "execution_count": 72,
   "id": "b240211e",
   "metadata": {},
   "outputs": [
    {
     "name": "stdout",
     "output_type": "stream",
     "text": [
      "              precision    recall  f1-score   support\n",
      "\n",
      "           0     0.8015    0.7109    0.7535      9027\n",
      "           1     0.7425    0.8256    0.7818      9113\n",
      "\n",
      "    accuracy                         0.7685     18140\n",
      "   macro avg     0.7720    0.7683    0.7677     18140\n",
      "weighted avg     0.7718    0.7685    0.7677     18140\n",
      "\n"
     ]
    }
   ],
   "source": [
    "# Classification report on test set\n",
    "print(classification_report(y_test, knn_ypred, digits = 4))"
   ]
  },
  {
   "cell_type": "code",
   "execution_count": 73,
   "id": "1d89deac",
   "metadata": {},
   "outputs": [
    {
     "name": "stdout",
     "output_type": "stream",
     "text": [
      "              precision    recall  f1-score   support\n",
      "\n",
      "           0     0.7499    0.5020    0.6014      2544\n",
      "           1     0.5297    0.7701    0.6277      1853\n",
      "\n",
      "    accuracy                         0.6150      4397\n",
      "   macro avg     0.6398    0.6360    0.6145      4397\n",
      "weighted avg     0.6571    0.6150    0.6124      4397\n",
      "\n"
     ]
    }
   ],
   "source": [
    "# Classification report for test-1 dataset\n",
    "test1_knn_ypred = knn_cls.predict(test_X1)\n",
    "print(classification_report(label_y1, test1_knn_ypred, digits = 4))"
   ]
  },
  {
   "cell_type": "code",
   "execution_count": 74,
   "id": "2f7e7588",
   "metadata": {
    "scrolled": true
   },
   "outputs": [
    {
     "name": "stdout",
     "output_type": "stream",
     "text": [
      "              precision    recall  f1-score   support\n",
      "\n",
      "           0     0.6574    0.6385    0.6478      2675\n",
      "           1     0.6577    0.6761    0.6668      2748\n",
      "\n",
      "    accuracy                         0.6576      5423\n",
      "   macro avg     0.6576    0.6573    0.6573      5423\n",
      "weighted avg     0.6576    0.6576    0.6574      5423\n",
      "\n"
     ]
    }
   ],
   "source": [
    "# Classification report for test-2 dataset\n",
    "test2_knn_ypred = knn_cls.predict(test_X2)\n",
    "print(classification_report(label_y2, test2_knn_ypred, digits = 4))"
   ]
  },
  {
   "cell_type": "markdown",
   "id": "a2664e64",
   "metadata": {},
   "source": [
    "### Inference:\n",
    "From the above performance of KNN algorithm, we can see model is giving 77% accuracy on test set, 62% on 1st test dataset and 66% on 2nd test dataset. One thing which need to be observed is that even though KNN does not have good accuracy on training set, it is giving good accuracy compared to other algorithms on 1st first test dataset which is completely different from training set."
   ]
  },
  {
   "cell_type": "code",
   "execution_count": null,
   "id": "c35ab1e3",
   "metadata": {},
   "outputs": [],
   "source": []
  },
  {
   "cell_type": "code",
   "execution_count": null,
   "id": "fff34710",
   "metadata": {},
   "outputs": [],
   "source": []
  },
  {
   "cell_type": "markdown",
   "id": "d996685a",
   "metadata": {},
   "source": [
    "## Linear SVM"
   ]
  },
  {
   "cell_type": "code",
   "execution_count": 79,
   "id": "9b43022e",
   "metadata": {},
   "outputs": [
    {
     "data": {
      "text/plain": [
       "<AxesSubplot:>"
      ]
     },
     "execution_count": 79,
     "metadata": {},
     "output_type": "execute_result"
    },
    {
     "data": {
      "image/png": "[encoded data removed]",
      "text/plain": [
       "<Figure size 432x288 with 2 Axes>"
      ]
     },
     "metadata": {
      "needs_background": "light"
     },
     "output_type": "display_data"
    }
   ],
   "source": [
    "\n",
    "svm_clf = LinearSVC(max_iter = 1500)\n",
    "svm_clf.fit(X_train, y_train)\n",
    "svm_ypred = svm_clf.predict(X_test)\n",
    "\n",
    "cm = confusion_matrix(y_test, svm_ypred)\n",
    "sn.heatmap(cm, annot=True, fmt=\"d\")"
   ]
  },
  {
   "cell_type": "code",
   "execution_count": 80,
   "id": "99ed8e82",
   "metadata": {},
   "outputs": [
    {
     "name": "stdout",
     "output_type": "stream",
     "text": [
      "              precision    recall  f1-score   support\n",
      "\n",
      "           0     0.7702    0.7369    0.7532      9027\n",
      "           1     0.7501    0.7822    0.7658      9113\n",
      "\n",
      "    accuracy                         0.7596     18140\n",
      "   macro avg     0.7601    0.7595    0.7595     18140\n",
      "weighted avg     0.7601    0.7596    0.7595     18140\n",
      "\n"
     ]
    }
   ],
   "source": [
    "# Classification report on train-test data\n",
    "print(classification_report(y_test, svm_ypred, digits = 4))"
   ]
  },
  {
   "cell_type": "code",
   "execution_count": 81,
   "id": "97e5eaa3",
   "metadata": {},
   "outputs": [
    {
     "name": "stdout",
     "output_type": "stream",
     "text": [
      "              precision    recall  f1-score   support\n",
      "\n",
      "           0     0.6870    0.4607    0.5515      2544\n",
      "           1     0.4902    0.7118    0.5805      1853\n",
      "\n",
      "    accuracy                         0.5665      4397\n",
      "   macro avg     0.5886    0.5863    0.5660      4397\n",
      "weighted avg     0.6040    0.5665    0.5638      4397\n",
      "\n"
     ]
    }
   ],
   "source": [
    "# Classification report for test-1 dataset\n",
    "test1_svm_ypred = svm_clf.predict(test_X1)\n",
    "print(classification_report(label_y1, test1_svm_ypred, digits = 4))"
   ]
  },
  {
   "cell_type": "code",
   "execution_count": 82,
   "id": "5b0d3429",
   "metadata": {},
   "outputs": [
    {
     "name": "stdout",
     "output_type": "stream",
     "text": [
      "              precision    recall  f1-score   support\n",
      "\n",
      "           0     0.6068    0.6116    0.6092      2675\n",
      "           1     0.6190    0.6143    0.6166      2748\n",
      "\n",
      "    accuracy                         0.6129      5423\n",
      "   macro avg     0.6129    0.6129    0.6129      5423\n",
      "weighted avg     0.6130    0.6129    0.6130      5423\n",
      "\n"
     ]
    }
   ],
   "source": [
    "# Classification report for test-2 dataset\n",
    "test2_svm_ypred = svm_clf.predict(test_X2)\n",
    "print(classification_report(label_y2, test2_svm_ypred, digits = 4))"
   ]
  },
  {
   "cell_type": "markdown",
   "id": "2988b137",
   "metadata": {},
   "source": [
    "### Inference:\n",
    "\n",
    "From the above classification report we can see our model is performing satisfactory on test set with accuracy of about 76%. However, model is not good enough to predict on test datasets. The accuracy on 1st test data is 56.65% and on 2nd dataset it is 61.29%. "
   ]
  },
  {
   "cell_type": "code",
   "execution_count": null,
   "id": "ec7b5255",
   "metadata": {},
   "outputs": [],
   "source": []
  },
  {
   "cell_type": "code",
   "execution_count": null,
   "id": "c788c2c4",
   "metadata": {},
   "outputs": [],
   "source": []
  },
  {
   "cell_type": "code",
   "execution_count": null,
   "id": "88e14599",
   "metadata": {},
   "outputs": [],
   "source": []
  },
  {
   "cell_type": "markdown",
   "id": "e4cbe73a",
   "metadata": {},
   "source": [
    "### Passive Aggressive Classifier"
   ]
  },
  {
   "cell_type": "code",
   "execution_count": 108,
   "id": "38cba84b",
   "metadata": {},
   "outputs": [
    {
     "data": {
      "text/plain": [
       "<AxesSubplot:>"
      ]
     },
     "execution_count": 108,
     "metadata": {},
     "output_type": "execute_result"
    },
    {
     "data": {
      "image/png": "[encoded data removed]",
      "text/plain": [
       "<Figure size 432x288 with 2 Axes>"
      ]
     },
     "metadata": {
      "needs_background": "light"
     },
     "output_type": "display_data"
    }
   ],
   "source": [
    "from sklearn.linear_model import PassiveAggressiveClassifier\n",
    "\n",
    "\n",
    "pac_cls = PassiveAggressiveClassifier(max_iter=2500, C = 0.1, n_jobs=-1) # creating class object\n",
    "pac_cls.fit(X_train, y_train) # fitting to the training set\n",
    "\n",
    "pac_ypred = pac_cls.predict(X_test) # predicting on testset\n",
    "\n",
    "# Ploting Confusion Matrix\n",
    "cm = confusion_matrix(y_test, pac_ypred)\n",
    "sn.heatmap(cm, annot=True, fmt=\"d\")"
   ]
  },
  {
   "cell_type": "code",
   "execution_count": 109,
   "id": "9dc0ad43",
   "metadata": {},
   "outputs": [
    {
     "name": "stdout",
     "output_type": "stream",
     "text": [
      "              precision    recall  f1-score   support\n",
      "\n",
      "           0     0.7121    0.7196    0.7159      9027\n",
      "           1     0.7193    0.7118    0.7156      9113\n",
      "\n",
      "    accuracy                         0.7157     18140\n",
      "   macro avg     0.7157    0.7157    0.7157     18140\n",
      "weighted avg     0.7157    0.7157    0.7157     18140\n",
      "\n"
     ]
    }
   ],
   "source": [
    "print(classification_report(y_test, pac_ypred, digits = 4))"
   ]
  },
  {
   "cell_type": "code",
   "execution_count": 110,
   "id": "6548bc64",
   "metadata": {},
   "outputs": [
    {
     "name": "stdout",
     "output_type": "stream",
     "text": [
      "              precision    recall  f1-score   support\n",
      "\n",
      "           0     0.5943    0.5130    0.5506      2544\n",
      "           1     0.4371    0.5192    0.4746      1853\n",
      "\n",
      "    accuracy                         0.5156      4397\n",
      "   macro avg     0.5157    0.5161    0.5126      4397\n",
      "weighted avg     0.5280    0.5156    0.5186      4397\n",
      "\n"
     ]
    }
   ],
   "source": [
    "test1_pac_ypred = pac_cls.predict(test_X1)\n",
    "print(classification_report(label_y1, test1_pac_ypred, digits = 4))"
   ]
  },
  {
   "cell_type": "code",
   "execution_count": 111,
   "id": "46fef347",
   "metadata": {
    "scrolled": true
   },
   "outputs": [
    {
     "name": "stdout",
     "output_type": "stream",
     "text": [
      "              precision    recall  f1-score   support\n",
      "\n",
      "           0     0.5455    0.6516    0.5939      2675\n",
      "           1     0.5817    0.4716    0.5209      2748\n",
      "\n",
      "    accuracy                         0.5604      5423\n",
      "   macro avg     0.5636    0.5616    0.5574      5423\n",
      "weighted avg     0.5639    0.5604    0.5569      5423\n",
      "\n"
     ]
    }
   ],
   "source": [
    "test2_pac_ypred = pac_cls.predict(test_X2)\n",
    "print(classification_report(label_y2, test2_pac_ypred, digits = 4))"
   ]
  },
  {
   "cell_type": "markdown",
   "id": "54bbbbe5",
   "metadata": {},
   "source": [
    "### Inference:\n",
    "From the above classification report we can see our model is performing satisfactory on test set with accuracy of about 71%. However, model is not good in prediction on test dataset. "
   ]
  },
  {
   "cell_type": "code",
   "execution_count": null,
   "id": "edd59e3a",
   "metadata": {},
   "outputs": [],
   "source": []
  },
  {
   "cell_type": "code",
   "execution_count": null,
   "id": "c8503f8b",
   "metadata": {},
   "outputs": [],
   "source": []
  },
  {
   "cell_type": "code",
   "execution_count": null,
   "id": "6c912dfa",
   "metadata": {},
   "outputs": [],
   "source": []
  },
  {
   "cell_type": "markdown",
   "id": "d0a8e19c",
   "metadata": {},
   "source": [
    "## Random Forest"
   ]
  },
  {
   "cell_type": "code",
   "execution_count": 75,
   "id": "e3d41271",
   "metadata": {},
   "outputs": [
    {
     "data": {
      "text/plain": [
       "<AxesSubplot:>"
      ]
     },
     "execution_count": 75,
     "metadata": {},
     "output_type": "execute_result"
    },
    {
     "data": {
      "image/png": "[encoded data removed]",
      "text/plain": [
       "<Figure size 432x288 with 2 Axes>"
      ]
     },
     "metadata": {
      "needs_background": "light"
     },
     "output_type": "display_data"
    }
   ],
   "source": [
    "# Creating classifier object\n",
    "rand_forest_cls = RandomForestClassifier(n_estimators=230, max_depth=27, criterion='entropy', min_samples_split=2, n_jobs = -1)\n",
    "rand_forest_cls.fit(X_train, y_train) # fitting data on classifier\n",
    "randForest_ypred = rand_forest_cls.predict(X_test) # making prediction\n",
    "\n",
    "cm = confusion_matrix(y_test, randForest_ypred)\n",
    "sn.heatmap(cm, annot=True, fmt=\"d\") #ploting confusion matrix"
   ]
  },
  {
   "cell_type": "code",
   "execution_count": 76,
   "id": "18b17369",
   "metadata": {},
   "outputs": [
    {
     "name": "stdout",
     "output_type": "stream",
     "text": [
      "              precision    recall  f1-score   support\n",
      "\n",
      "           0     0.9119    0.8993    0.9056      9027\n",
      "           1     0.9016    0.9140    0.9077      9113\n",
      "\n",
      "    accuracy                         0.9067     18140\n",
      "   macro avg     0.9068    0.9066    0.9067     18140\n",
      "weighted avg     0.9067    0.9067    0.9067     18140\n",
      "\n"
     ]
    }
   ],
   "source": [
    "# Classification report on train-test data\n",
    "print(classification_report(y_test, randForest_ypred, digits = 4))"
   ]
  },
  {
   "cell_type": "code",
   "execution_count": 77,
   "id": "54e97262",
   "metadata": {},
   "outputs": [
    {
     "name": "stdout",
     "output_type": "stream",
     "text": [
      "              precision    recall  f1-score   support\n",
      "\n",
      "           0     0.7504    0.5554    0.6384      2544\n",
      "           1     0.5501    0.7464    0.6334      1853\n",
      "\n",
      "    accuracy                         0.6359      4397\n",
      "   macro avg     0.6503    0.6509    0.6359      4397\n",
      "weighted avg     0.6660    0.6359    0.6363      4397\n",
      "\n"
     ]
    }
   ],
   "source": [
    "# Classification report for test-1 dataset\n",
    "test1_rand_ypred = rand_forest_cls.predict(test_X1)\n",
    "print(classification_report(label_y1, test1_rand_ypred, digits = 4))"
   ]
  },
  {
   "cell_type": "code",
   "execution_count": 78,
   "id": "5ce09345",
   "metadata": {
    "scrolled": true
   },
   "outputs": [
    {
     "name": "stdout",
     "output_type": "stream",
     "text": [
      "              precision    recall  f1-score   support\n",
      "\n",
      "           0     0.7042    0.9103    0.7941      2675\n",
      "           1     0.8779    0.6277    0.7320      2748\n",
      "\n",
      "    accuracy                         0.7671      5423\n",
      "   macro avg     0.7910    0.7690    0.7630      5423\n",
      "weighted avg     0.7922    0.7671    0.7626      5423\n",
      "\n"
     ]
    }
   ],
   "source": [
    "# Classification report for test-2 dataset\n",
    "test2_rand_ypred = rand_forest_cls.predict(test_X2)\n",
    "print(classification_report(label_y2, test2_rand_ypred, digits = 4))"
   ]
  },
  {
   "cell_type": "markdown",
   "id": "7def153f",
   "metadata": {},
   "source": [
    "### Inference:\n",
    "\n",
    "We can see in the above classification reports that RandForest classifier is giving good accuray compared to other algorithms on all three datasets. We are getting 90+ % accuracy on training dataset and 63% & 77.5% accuracy on test1 and test2 datasets."
   ]
  },
  {
   "cell_type": "code",
   "execution_count": null,
   "id": "e01ff09d",
   "metadata": {},
   "outputs": [],
   "source": []
  },
  {
   "cell_type": "code",
   "execution_count": null,
   "id": "58c25747",
   "metadata": {},
   "outputs": [],
   "source": []
  },
  {
   "cell_type": "code",
   "execution_count": null,
   "id": "a9559e8e",
   "metadata": {},
   "outputs": [],
   "source": []
  },
  {
   "cell_type": "markdown",
   "id": "2728ccc3",
   "metadata": {},
   "source": [
    "## Gradient Boosting"
   ]
  },
  {
   "cell_type": "code",
   "execution_count": 83,
   "id": "5eeca16e",
   "metadata": {
    "scrolled": false
   },
   "outputs": [
    {
     "data": {
      "text/plain": [
       "<AxesSubplot:>"
      ]
     },
     "execution_count": 83,
     "metadata": {},
     "output_type": "execute_result"
    },
    {
     "data": {
      "image/png": "[encoded data removed]",
      "text/plain": [
       "<Figure size 432x288 with 2 Axes>"
      ]
     },
     "metadata": {
      "needs_background": "light"
     },
     "output_type": "display_data"
    }
   ],
   "source": [
    "\n",
    "gb_clf = GradientBoostingClassifier(n_estimators=170, learning_rate=0.75, max_depth=27, min_samples_leaf = 5)\n",
    "gb_clf.fit(X_train, y_train)\n",
    "gb_ypred = gb_clf.predict(X_test)\n",
    "\n",
    "cm = confusion_matrix(y_test, gb_ypred)\n",
    "sn.heatmap(cm, annot=True, fmt=\"d\")\n"
   ]
  },
  {
   "cell_type": "code",
   "execution_count": 84,
   "id": "02c4c183",
   "metadata": {},
   "outputs": [
    {
     "name": "stdout",
     "output_type": "stream",
     "text": [
      "              precision    recall  f1-score   support\n",
      "\n",
      "           0     0.9077    0.8955    0.9016      9027\n",
      "           1     0.8979    0.9098    0.9038      9113\n",
      "\n",
      "    accuracy                         0.9027     18140\n",
      "   macro avg     0.9028    0.9027    0.9027     18140\n",
      "weighted avg     0.9028    0.9027    0.9027     18140\n",
      "\n"
     ]
    }
   ],
   "source": [
    "# Classification report on train-test data\n",
    "print(classification_report(y_test, gb_ypred, digits = 4))"
   ]
  },
  {
   "cell_type": "code",
   "execution_count": 85,
   "id": "94eae130",
   "metadata": {},
   "outputs": [
    {
     "name": "stdout",
     "output_type": "stream",
     "text": [
      "              precision    recall  f1-score   support\n",
      "\n",
      "           0     0.7389    0.5373    0.6222      2544\n",
      "           1     0.5379    0.7393    0.6227      1853\n",
      "\n",
      "    accuracy                         0.6225      4397\n",
      "   macro avg     0.6384    0.6383    0.6225      4397\n",
      "weighted avg     0.6542    0.6225    0.6224      4397\n",
      "\n"
     ]
    }
   ],
   "source": [
    "# Classification report for test-1 dataset\n",
    "test1_gb_ypred = gb_clf.predict(test_X1)\n",
    "print(classification_report(label_y1, test1_gb_ypred, digits = 4))"
   ]
  },
  {
   "cell_type": "code",
   "execution_count": 86,
   "id": "3f81fc85",
   "metadata": {},
   "outputs": [
    {
     "name": "stdout",
     "output_type": "stream",
     "text": [
      "              precision    recall  f1-score   support\n",
      "\n",
      "           0     0.7107    0.9174    0.8009      2675\n",
      "           1     0.8878    0.6365    0.7414      2748\n",
      "\n",
      "    accuracy                         0.7750      5423\n",
      "   macro avg     0.7993    0.7769    0.7712      5423\n",
      "weighted avg     0.8004    0.7750    0.7708      5423\n",
      "\n"
     ]
    }
   ],
   "source": [
    "# Classification report for test-2 dataset\n",
    "test2_gb_ypred = gb_clf.predict(test_X2)\n",
    "print(classification_report(label_y2, test2_gb_ypred, digits=4))"
   ]
  },
  {
   "cell_type": "code",
   "execution_count": null,
   "id": "590a78b2",
   "metadata": {},
   "outputs": [],
   "source": []
  },
  {
   "cell_type": "markdown",
   "id": "b47cefab",
   "metadata": {},
   "source": [
    "### Inference:\n",
    "With 170 interation GB is giving good accuracy on dataset. The model is performing with 90% accuracy on test set also precision and recall is almost same. GB is giving 62% accuracy on 1st test dataset and 78% on 2nd test dataset. It is a boosting algorithm, fine tuning paramerter can give more better result."
   ]
  },
  {
   "cell_type": "code",
   "execution_count": null,
   "id": "dcaa2c1c",
   "metadata": {},
   "outputs": [],
   "source": []
  },
  {
   "cell_type": "markdown",
   "id": "2f76b072",
   "metadata": {},
   "source": [
    "### XGBoost Classifier"
   ]
  },
  {
   "cell_type": "code",
   "execution_count": 87,
   "id": "15f52e23",
   "metadata": {},
   "outputs": [],
   "source": [
    "#! pip install xgboost"
   ]
  },
  {
   "cell_type": "code",
   "execution_count": 88,
   "id": "9ff35f12",
   "metadata": {},
   "outputs": [
    {
     "data": {
      "text/plain": [
       "<AxesSubplot:>"
      ]
     },
     "execution_count": 88,
     "metadata": {},
     "output_type": "execute_result"
    },
    {
     "data": {
      "image/png": "[encoded data removed]",
      "text/plain": [
       "<Figure size 432x288 with 2 Axes>"
      ]
     },
     "metadata": {
      "needs_background": "light"
     },
     "output_type": "display_data"
    }
   ],
   "source": [
    "xgb1 = XGBClassifier(\n",
    " use_label_encoder=False,\n",
    " learning_rate =0.1,\n",
    " n_estimators=210,\n",
    " #gamma = 0.2,\n",
    " max_depth=19,\n",
    " min_child_weight=2,\n",
    " eval_metric='mlogloss',\n",
    " #objective=\"binary:logistic\",\n",
    " nthread=-1)\n",
    "\n",
    "xgb1.fit(X_train, y_train)\n",
    "xgb_ypred = xgb1.predict(X_test)\n",
    "\n",
    "cm = confusion_matrix(y_test, xgb_ypred)\n",
    "sn.heatmap(cm, annot=True, fmt=\"d\")\n"
   ]
  },
  {
   "cell_type": "code",
   "execution_count": 89,
   "id": "107bd72f",
   "metadata": {},
   "outputs": [
    {
     "name": "stdout",
     "output_type": "stream",
     "text": [
      "              precision    recall  f1-score   support\n",
      "\n",
      "           0     0.9086    0.9025    0.9055      9027\n",
      "           1     0.9041    0.9100    0.9070      9113\n",
      "\n",
      "    accuracy                         0.9063     18140\n",
      "   macro avg     0.9063    0.9063    0.9063     18140\n",
      "weighted avg     0.9063    0.9063    0.9063     18140\n",
      "\n"
     ]
    }
   ],
   "source": [
    "# Classification report on train-test data\n",
    "print(classification_report(y_test, xgb_ypred, digits = 4))"
   ]
  },
  {
   "cell_type": "code",
   "execution_count": 90,
   "id": "6512bf40",
   "metadata": {},
   "outputs": [
    {
     "name": "stdout",
     "output_type": "stream",
     "text": [
      "              precision    recall  f1-score   support\n",
      "\n",
      "           0     0.7257    0.5303    0.6128      2544\n",
      "           1     0.5292    0.7248    0.6117      1853\n",
      "\n",
      "    accuracy                         0.6122      4397\n",
      "   macro avg     0.6274    0.6275    0.6122      4397\n",
      "weighted avg     0.6428    0.6122    0.6123      4397\n",
      "\n"
     ]
    }
   ],
   "source": [
    "# Classification report for test-1 dataset\n",
    "test1_xgb_ypred = xgb1.predict(test_X1)\n",
    "print(classification_report(label_y1, test1_xgb_ypred, digits = 4))"
   ]
  },
  {
   "cell_type": "code",
   "execution_count": 91,
   "id": "9619c9f2",
   "metadata": {
    "scrolled": true
   },
   "outputs": [
    {
     "name": "stdout",
     "output_type": "stream",
     "text": [
      "              precision    recall  f1-score   support\n",
      "\n",
      "           0     0.6989    0.9069    0.7895      2675\n",
      "           1     0.8724    0.6197    0.7247      2748\n",
      "\n",
      "    accuracy                         0.7614      5423\n",
      "   macro avg     0.7857    0.7633    0.7571      5423\n",
      "weighted avg     0.7869    0.7614    0.7566      5423\n",
      "\n"
     ]
    }
   ],
   "source": [
    "# Classification report for test-2 dataset\n",
    "test2_xgb_ypred = xgb1.predict(test_X2)\n",
    "print(classification_report(label_y2, test2_xgb_ypred, digits = 4))"
   ]
  },
  {
   "cell_type": "code",
   "execution_count": null,
   "id": "0bfa3180",
   "metadata": {},
   "outputs": [],
   "source": []
  },
  {
   "cell_type": "markdown",
   "id": "dc615bc0",
   "metadata": {},
   "source": [
    "### Inference:\n",
    "This model is performing with 91% accuracy on train dataset also precision and recall is almost same. XGB is giving 61% accuracy on test set1 and 77% on test set 2. XGBoost is a very powerfull alogrim, fine funing this algorithm can outperform other models. It is a boosting algorithm tuning paramerter can give more better result. However, Fine tuning is computationally expensive so I'm avoiding as of now"
   ]
  },
  {
   "cell_type": "code",
   "execution_count": null,
   "id": "3fa9d10e",
   "metadata": {},
   "outputs": [],
   "source": []
  },
  {
   "cell_type": "code",
   "execution_count": null,
   "id": "9d0861bf",
   "metadata": {},
   "outputs": [],
   "source": []
  },
  {
   "cell_type": "code",
   "execution_count": 92,
   "id": "3c312e5b",
   "metadata": {},
   "outputs": [
    {
     "data": {
      "text/html": [
       "<div>\n",
       "<style scoped>\n",
       "    .dataframe tbody tr th:only-of-type {\n",
       "        vertical-align: middle;\n",
       "    }\n",
       "\n",
       "    .dataframe tbody tr th {\n",
       "        vertical-align: top;\n",
       "    }\n",
       "\n",
       "    .dataframe thead th {\n",
       "        text-align: right;\n",
       "    }\n",
       "</style>\n",
       "<table border=\"1\" class=\"dataframe\">\n",
       "  <thead>\n",
       "    <tr style=\"text-align: right;\">\n",
       "      <th></th>\n",
       "      <th>Model</th>\n",
       "      <th>Score</th>\n",
       "    </tr>\n",
       "  </thead>\n",
       "  <tbody>\n",
       "    <tr>\n",
       "      <th>0</th>\n",
       "      <td>Logistic Regression</td>\n",
       "      <td>0.761907</td>\n",
       "    </tr>\n",
       "    <tr>\n",
       "      <th>1</th>\n",
       "      <td>KNN</td>\n",
       "      <td>0.768523</td>\n",
       "    </tr>\n",
       "    <tr>\n",
       "      <th>2</th>\n",
       "      <td>Linear SVM</td>\n",
       "      <td>0.759647</td>\n",
       "    </tr>\n",
       "    <tr>\n",
       "      <th>3</th>\n",
       "      <td>Random Forest</td>\n",
       "      <td>0.906670</td>\n",
       "    </tr>\n",
       "    <tr>\n",
       "      <th>4</th>\n",
       "      <td>Gradient Boosting</td>\n",
       "      <td>0.902701</td>\n",
       "    </tr>\n",
       "    <tr>\n",
       "      <th>5</th>\n",
       "      <td>XGBoost Classifier</td>\n",
       "      <td>0.906284</td>\n",
       "    </tr>\n",
       "  </tbody>\n",
       "</table>\n",
       "</div>"
      ],
      "text/plain": [
       "                 Model     Score\n",
       "0  Logistic Regression  0.761907\n",
       "1                  KNN  0.768523\n",
       "2           Linear SVM  0.759647\n",
       "3        Random Forest  0.906670\n",
       "4    Gradient Boosting  0.902701\n",
       "5   XGBoost Classifier  0.906284"
      ]
     },
     "execution_count": 92,
     "metadata": {},
     "output_type": "execute_result"
    }
   ],
   "source": [
    "from sklearn.metrics import accuracy_score\n",
    "train_result = pd.DataFrame({\n",
    "    'Model' : ['Logistic Regression', 'KNN', 'Linear SVM', 'Random Forest', 'Gradient Boosting', 'XGBoost Classifier'],\n",
    "    'Score' : [accuracy_score(y_test, log_ypred), \n",
    "               accuracy_score(y_test, knn_ypred),\n",
    "               accuracy_score(y_test, svm_ypred),\n",
    "               accuracy_score(y_test, randForest_ypred),\n",
    "               accuracy_score(y_test, gb_ypred),\n",
    "              accuracy_score(y_test, xgb_ypred)]\n",
    "})\n",
    "train_result"
   ]
  },
  {
   "cell_type": "markdown",
   "id": "cfa04268",
   "metadata": {},
   "source": [
    "### Inference:\n",
    "> In the above table we can see all tree based algorithms are working almost similar on train_test_split test set. RF, GBDT and XGBoost has achived accuracy of 90% on the test set."
   ]
  },
  {
   "cell_type": "code",
   "execution_count": 93,
   "id": "c299b2eb",
   "metadata": {},
   "outputs": [
    {
     "data": {
      "text/html": [
       "<div>\n",
       "<style scoped>\n",
       "    .dataframe tbody tr th:only-of-type {\n",
       "        vertical-align: middle;\n",
       "    }\n",
       "\n",
       "    .dataframe tbody tr th {\n",
       "        vertical-align: top;\n",
       "    }\n",
       "\n",
       "    .dataframe thead th {\n",
       "        text-align: right;\n",
       "    }\n",
       "</style>\n",
       "<table border=\"1\" class=\"dataframe\">\n",
       "  <thead>\n",
       "    <tr style=\"text-align: right;\">\n",
       "      <th></th>\n",
       "      <th>Model</th>\n",
       "      <th>Score</th>\n",
       "    </tr>\n",
       "  </thead>\n",
       "  <tbody>\n",
       "    <tr>\n",
       "      <th>0</th>\n",
       "      <td>Logistic Regression</td>\n",
       "      <td>0.567660</td>\n",
       "    </tr>\n",
       "    <tr>\n",
       "      <th>1</th>\n",
       "      <td>KNN</td>\n",
       "      <td>0.614965</td>\n",
       "    </tr>\n",
       "    <tr>\n",
       "      <th>2</th>\n",
       "      <td>Linear SVM</td>\n",
       "      <td>0.566523</td>\n",
       "    </tr>\n",
       "    <tr>\n",
       "      <th>3</th>\n",
       "      <td>Random Forest</td>\n",
       "      <td>0.635888</td>\n",
       "    </tr>\n",
       "    <tr>\n",
       "      <th>4</th>\n",
       "      <td>Gradient Boosting</td>\n",
       "      <td>0.622470</td>\n",
       "    </tr>\n",
       "    <tr>\n",
       "      <th>5</th>\n",
       "      <td>XGBoost Classifier</td>\n",
       "      <td>0.612236</td>\n",
       "    </tr>\n",
       "  </tbody>\n",
       "</table>\n",
       "</div>"
      ],
      "text/plain": [
       "                 Model     Score\n",
       "0  Logistic Regression  0.567660\n",
       "1                  KNN  0.614965\n",
       "2           Linear SVM  0.566523\n",
       "3        Random Forest  0.635888\n",
       "4    Gradient Boosting  0.622470\n",
       "5   XGBoost Classifier  0.612236"
      ]
     },
     "execution_count": 93,
     "metadata": {},
     "output_type": "execute_result"
    }
   ],
   "source": [
    "test1_result = pd.DataFrame({\n",
    "    'Model' : ['Logistic Regression', 'KNN', 'Linear SVM', 'Random Forest', 'Gradient Boosting', 'XGBoost Classifier'],\n",
    "    'Score' : [accuracy_score(label_y1, test1_log_ypred),\n",
    "               accuracy_score(label_y1, test1_knn_ypred),\n",
    "               accuracy_score(label_y1, test1_svm_ypred),\n",
    "              accuracy_score(label_y1, test1_rand_ypred),\n",
    "               accuracy_score(label_y1, test1_gb_ypred),\n",
    "               accuracy_score(label_y1, test1_xgb_ypred)\n",
    "              ]\n",
    "\n",
    "})\n",
    "\n",
    "test1_result"
   ]
  },
  {
   "cell_type": "markdown",
   "id": "c579c2d6",
   "metadata": {},
   "source": [
    "### Inference:\n",
    "> As mentioned before, testset 1 is completely different from training data. This is just to test the model performance when data is unique or different. Here in above table we can see Random Forest is performing better than any other algorithm. However, GBDT and XGBoost has slight variance in performance but both are almost close."
   ]
  },
  {
   "cell_type": "code",
   "execution_count": 94,
   "id": "c82b6d49",
   "metadata": {},
   "outputs": [
    {
     "data": {
      "text/html": [
       "<div>\n",
       "<style scoped>\n",
       "    .dataframe tbody tr th:only-of-type {\n",
       "        vertical-align: middle;\n",
       "    }\n",
       "\n",
       "    .dataframe tbody tr th {\n",
       "        vertical-align: top;\n",
       "    }\n",
       "\n",
       "    .dataframe thead th {\n",
       "        text-align: right;\n",
       "    }\n",
       "</style>\n",
       "<table border=\"1\" class=\"dataframe\">\n",
       "  <thead>\n",
       "    <tr style=\"text-align: right;\">\n",
       "      <th></th>\n",
       "      <th>Model</th>\n",
       "      <th>Score</th>\n",
       "    </tr>\n",
       "  </thead>\n",
       "  <tbody>\n",
       "    <tr>\n",
       "      <th>0</th>\n",
       "      <td>Logistic Regression</td>\n",
       "      <td>0.614973</td>\n",
       "    </tr>\n",
       "    <tr>\n",
       "      <th>1</th>\n",
       "      <td>KNN</td>\n",
       "      <td>0.657570</td>\n",
       "    </tr>\n",
       "    <tr>\n",
       "      <th>2</th>\n",
       "      <td>Linear SVM</td>\n",
       "      <td>0.612945</td>\n",
       "    </tr>\n",
       "    <tr>\n",
       "      <th>3</th>\n",
       "      <td>Random Forest</td>\n",
       "      <td>0.767103</td>\n",
       "    </tr>\n",
       "    <tr>\n",
       "      <th>4</th>\n",
       "      <td>Gradient Boosting</td>\n",
       "      <td>0.775032</td>\n",
       "    </tr>\n",
       "    <tr>\n",
       "      <th>5</th>\n",
       "      <td>XGBoost Classifier</td>\n",
       "      <td>0.761387</td>\n",
       "    </tr>\n",
       "  </tbody>\n",
       "</table>\n",
       "</div>"
      ],
      "text/plain": [
       "                 Model     Score\n",
       "0  Logistic Regression  0.614973\n",
       "1                  KNN  0.657570\n",
       "2           Linear SVM  0.612945\n",
       "3        Random Forest  0.767103\n",
       "4    Gradient Boosting  0.775032\n",
       "5   XGBoost Classifier  0.761387"
      ]
     },
     "execution_count": 94,
     "metadata": {},
     "output_type": "execute_result"
    }
   ],
   "source": [
    "test2_result = pd.DataFrame({\n",
    "    'Model' : ['Logistic Regression', 'KNN', 'Linear SVM', 'Random Forest', 'Gradient Boosting', 'XGBoost Classifier'],\n",
    "    'Score' : [accuracy_score(label_y2, test2_log_pred),\n",
    "               accuracy_score(label_y2, test2_knn_ypred),\n",
    "              accuracy_score(label_y2, test2_svm_ypred),\n",
    "              accuracy_score(label_y2, test2_rand_ypred),\n",
    "               accuracy_score(label_y2, test2_gb_ypred),\n",
    "               accuracy_score(label_y2, test2_xgb_ypred)\n",
    "               \n",
    "              ]\n",
    "\n",
    "})\n",
    "\n",
    "test2_result"
   ]
  },
  {
   "cell_type": "markdown",
   "id": "e296e00d",
   "metadata": {},
   "source": [
    "### Inference:\n",
    "> Second test dataset is similar to training dataset on subject. Trainig dataset and 2nd test dataset both are based on political news of US election. Here in above table it can been seen clearly tree based algorithms are performing better. GBDT has highet accuracy followed by Random Forest and XGBoost."
   ]
  },
  {
   "cell_type": "code",
   "execution_count": null,
   "id": "b4a389a6",
   "metadata": {},
   "outputs": [],
   "source": []
  },
  {
   "cell_type": "code",
   "execution_count": null,
   "id": "c1ffb3a8",
   "metadata": {},
   "outputs": [],
   "source": []
  },
  {
   "cell_type": "code",
   "execution_count": null,
   "id": "8fb3139b",
   "metadata": {},
   "outputs": [],
   "source": []
  },
  {
   "cell_type": "markdown",
   "id": "835e1514",
   "metadata": {},
   "source": [
    "## Saving for Error Analysis"
   ]
  },
  {
   "cell_type": "markdown",
   "id": "b63fe819",
   "metadata": {},
   "source": [
    "### Stategy:\n",
    "\n",
    "##### Label 0 - Fake News\n",
    "##### Label 1 - Real News\n",
    "##### Label 2 - Fake News which are incorrectly classified as Real News\n",
    "##### Label 3 - Real News which are incorrectly classified as Fake News"
   ]
  },
  {
   "cell_type": "code",
   "execution_count": 96,
   "id": "67190366",
   "metadata": {},
   "outputs": [],
   "source": [
    "# Creating a dataframe for visualization \n",
    "# Labeling class 2 for articles incorrectly classified as 1. \n",
    "# (In other words, articles with original label 0 which is getting clasified as 1, I am giving it label 2)\n",
    "# Similarly, labeling as class 3 for all articles which belongs to orginal class 1 but incorectly got classified as 0.\n",
    "# Idea behind this is just to plot labels so we can identify which is predicted value and find some inference why particular\n",
    "# article is predicted as 0 or 1.\n",
    "\n",
    "\n",
    "\n",
    "incorr_df = X_test_og.copy()  # Copying test dataset \n",
    "label = incorr_df.label.values # Storing actual labels of test dataset into a variable \n",
    "\n",
    "for idx in range(len(X_test_og)):\n",
    "    #print(idx)\n",
    "    if label[idx] != randForest_ypred[idx]: # Checking if prediction is not same as original label\n",
    "        if randForest_ypred[idx] == 1: # Checking if predicted label is 1 (Real) incorrectly\n",
    "            label[idx] = 2             # Marking that label value as 2\n",
    "        else:                          \n",
    "            label[idx] = 3             # if predicted label is 0 (Fake) incorrectly, labelling it as 3\n",
    "    else:\n",
    "        continue\n",
    "        \n",
    "incorr_df.label = label     # Replacing labels of test dataset with newly created labels\n",
    "\n",
    "\n",
    "#=================================================================================================================\n",
    "# Similarly for test set 1\n",
    "\n",
    "incorr_test_df1 = test_df1.copy()\n",
    "label_test1 = incorr_test_df1.label.values\n",
    "for idx in range(len(test_df1)):\n",
    "    #print(idx)\n",
    "    if label_test1[idx] != test1_rand_ypred[idx]:\n",
    "        if test1_rand_ypred[idx] == 1: # Actual label is 0 but model classified it as 1\n",
    "            label_test1[idx] = 2 # Giving rows a new label for unique identification i.e., 3\n",
    "        else:\n",
    "            label_test1[idx] = 3 # All those rows which has actual label as 1 but classified as 0 will be labeled as 4\n",
    "    else:\n",
    "        pass\n",
    "    \n",
    "incorr_test_df1.label = label_test1\n",
    "\n",
    "\n",
    "#================================================================================================================\n",
    "# Similarly for test set 2\n",
    "\n",
    "incorr_test_df2 = test_df2.copy()\n",
    "label_test2 = incorr_test_df2.label.values\n",
    "for idx in range(len(test_df2)):\n",
    "    #print(idx)\n",
    "    if label_test2[idx] != test2_rand_ypred[idx]:\n",
    "        if test2_rand_ypred[idx] == 1: # Actual label is 0 but model classified it as 1\n",
    "            label_test2[idx] = 2 # Giving rows a new label for unique identification i.e., 2\n",
    "        else:\n",
    "            label_test2[idx] = 3 # All those rows which has actual label as 1 but classified as 0 will be labeled as 3\n",
    "    else:\n",
    "        pass\n",
    "    \n",
    "incorr_test_df2.label = label_test2"
   ]
  },
  {
   "cell_type": "code",
   "execution_count": 112,
   "id": "9b0123a6",
   "metadata": {},
   "outputs": [],
   "source": [
    "incorr_df.to_csv(\"incorr_df_ErrorAnalysis.csv\", index = False)\n",
    "incorr_test_df1.to_csv(\"incorr_test_df1.csv\", index = False)\n",
    "incorr_test_df2.to_csv(\"incorr_test_df2.csv\", index = False)"
   ]
  },
  {
   "cell_type": "code",
   "execution_count": null,
   "id": "1679afaf",
   "metadata": {},
   "outputs": [],
   "source": []
  },
  {
   "cell_type": "code",
   "execution_count": null,
   "id": "40073ce8",
   "metadata": {},
   "outputs": [],
   "source": []
  }
 ],
 "metadata": {
  "kernelspec": {
   "display_name": "Python 3",
   "language": "python",
   "name": "python3"
  },
  "language_info": {
   "codemirror_mode": {
    "name": "ipython",
    "version": 3
   },
   "file_extension": ".py",
   "mimetype": "text/x-python",
   "name": "python",
   "nbconvert_exporter": "python",
   "pygments_lexer": "ipython3",
   "version": "3.9.7"
  }
 },
 "nbformat": 4,
 "nbformat_minor": 5
}
