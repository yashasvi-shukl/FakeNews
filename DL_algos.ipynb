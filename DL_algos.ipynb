{
 "cells": [
  {
   "cell_type": "code",
   "execution_count": 1,
   "metadata": {
    "execution": {
     "iopub.execute_input": "2022-02-10T06:26:08.309454Z",
     "iopub.status.busy": "2022-02-10T06:26:08.308745Z",
     "iopub.status.idle": "2022-02-10T06:26:13.825947Z",
     "shell.execute_reply": "2022-02-10T06:26:13.825193Z",
     "shell.execute_reply.started": "2022-02-10T06:26:08.309353Z"
    }
   },
   "outputs": [],
   "source": [
    "import warnings\n",
    "warnings.filterwarnings('ignore')\n",
    "\n",
    "import pandas as pd\n",
    "import numpy as np\n",
    "import matplotlib.pyplot as plt\n",
    "from sklearn.metrics import accuracy_score\n",
    "from sklearn.metrics import confusion_matrix, classification_report\n",
    "import seaborn as sn\n",
    "\n",
    "import gensim\n",
    "from gensim.models import Word2Vec\n",
    "\n",
    "import tensorflow\n",
    "from tensorflow.keras.models import Sequential\n",
    "from tensorflow.keras.layers import Dense, Embedding, Bidirectional, LSTM, Dropout"
   ]
  },
  {
   "cell_type": "code",
   "execution_count": 2,
   "metadata": {
    "execution": {
     "iopub.execute_input": "2022-02-10T06:26:13.829560Z",
     "iopub.status.busy": "2022-02-10T06:26:13.829359Z",
     "iopub.status.idle": "2022-02-10T06:26:17.357906Z",
     "shell.execute_reply": "2022-02-10T06:26:17.357158Z",
     "shell.execute_reply.started": "2022-02-10T06:26:13.829536Z"
    }
   },
   "outputs": [
    {
     "data": {
      "text/html": [
       "<div>\n",
       "<style scoped>\n",
       "    .dataframe tbody tr th:only-of-type {\n",
       "        vertical-align: middle;\n",
       "    }\n",
       "\n",
       "    .dataframe tbody tr th {\n",
       "        vertical-align: top;\n",
       "    }\n",
       "\n",
       "    .dataframe thead th {\n",
       "        text-align: right;\n",
       "    }\n",
       "</style>\n",
       "<table border=\"1\" class=\"dataframe\">\n",
       "  <thead>\n",
       "    <tr style=\"text-align: right;\">\n",
       "      <th></th>\n",
       "      <th>label</th>\n",
       "      <th>cleaned_article</th>\n",
       "      <th>num_punctuations</th>\n",
       "      <th>no_of_stopwords</th>\n",
       "      <th>no_of_quesMarks</th>\n",
       "      <th>no_of_exclamation</th>\n",
       "      <th>no_of_sentence</th>\n",
       "      <th>sentiment</th>\n",
       "      <th>cc_cd</th>\n",
       "      <th>determiner</th>\n",
       "      <th>...</th>\n",
       "      <th>noun</th>\n",
       "      <th>adverb</th>\n",
       "      <th>verb</th>\n",
       "      <th>article_len</th>\n",
       "      <th>negations</th>\n",
       "      <th>polarity</th>\n",
       "      <th>word_count</th>\n",
       "      <th>avg_word_len</th>\n",
       "      <th>num_unique_words</th>\n",
       "      <th>num_chars</th>\n",
       "    </tr>\n",
       "  </thead>\n",
       "  <tbody>\n",
       "    <tr>\n",
       "      <th>0</th>\n",
       "      <td>1</td>\n",
       "      <td>seeking best woman final return fridaysunday y...</td>\n",
       "      <td>139</td>\n",
       "      <td>634</td>\n",
       "      <td>5</td>\n",
       "      <td>0</td>\n",
       "      <td>41</td>\n",
       "      <td>Positive</td>\n",
       "      <td>37</td>\n",
       "      <td>98</td>\n",
       "      <td>...</td>\n",
       "      <td>236</td>\n",
       "      <td>27</td>\n",
       "      <td>150</td>\n",
       "      <td>4563</td>\n",
       "      <td>6</td>\n",
       "      <td>0.049887</td>\n",
       "      <td>357</td>\n",
       "      <td>6.392157</td>\n",
       "      <td>234</td>\n",
       "      <td>2638</td>\n",
       "    </tr>\n",
       "    <tr>\n",
       "      <th>1</th>\n",
       "      <td>0</td>\n",
       "      <td>harsh reality come taking responsibility life ...</td>\n",
       "      <td>112</td>\n",
       "      <td>702</td>\n",
       "      <td>2</td>\n",
       "      <td>3</td>\n",
       "      <td>37</td>\n",
       "      <td>Positive</td>\n",
       "      <td>53</td>\n",
       "      <td>79</td>\n",
       "      <td>...</td>\n",
       "      <td>196</td>\n",
       "      <td>85</td>\n",
       "      <td>230</td>\n",
       "      <td>5470</td>\n",
       "      <td>15</td>\n",
       "      <td>0.029320</td>\n",
       "      <td>347</td>\n",
       "      <td>6.573487</td>\n",
       "      <td>263</td>\n",
       "      <td>2627</td>\n",
       "    </tr>\n",
       "    <tr>\n",
       "      <th>2</th>\n",
       "      <td>0</td>\n",
       "      <td>finally obama speaks american need reconcile t...</td>\n",
       "      <td>65</td>\n",
       "      <td>415</td>\n",
       "      <td>1</td>\n",
       "      <td>0</td>\n",
       "      <td>21</td>\n",
       "      <td>Positive</td>\n",
       "      <td>17</td>\n",
       "      <td>67</td>\n",
       "      <td>...</td>\n",
       "      <td>145</td>\n",
       "      <td>28</td>\n",
       "      <td>116</td>\n",
       "      <td>3324</td>\n",
       "      <td>2</td>\n",
       "      <td>0.222891</td>\n",
       "      <td>244</td>\n",
       "      <td>6.950820</td>\n",
       "      <td>172</td>\n",
       "      <td>1939</td>\n",
       "    </tr>\n",
       "    <tr>\n",
       "      <th>3</th>\n",
       "      <td>1</td>\n",
       "      <td>house plan increase trump disaster request was...</td>\n",
       "      <td>46</td>\n",
       "      <td>221</td>\n",
       "      <td>0</td>\n",
       "      <td>0</td>\n",
       "      <td>9</td>\n",
       "      <td>Negative</td>\n",
       "      <td>19</td>\n",
       "      <td>19</td>\n",
       "      <td>...</td>\n",
       "      <td>87</td>\n",
       "      <td>5</td>\n",
       "      <td>33</td>\n",
       "      <td>1514</td>\n",
       "      <td>0</td>\n",
       "      <td>-0.062500</td>\n",
       "      <td>127</td>\n",
       "      <td>7.385827</td>\n",
       "      <td>97</td>\n",
       "      <td>1064</td>\n",
       "    </tr>\n",
       "    <tr>\n",
       "      <th>4</th>\n",
       "      <td>1</td>\n",
       "      <td>leftist cusp power weary icelander poll reykja...</td>\n",
       "      <td>89</td>\n",
       "      <td>523</td>\n",
       "      <td>0</td>\n",
       "      <td>0</td>\n",
       "      <td>26</td>\n",
       "      <td>Positive</td>\n",
       "      <td>35</td>\n",
       "      <td>67</td>\n",
       "      <td>...</td>\n",
       "      <td>193</td>\n",
       "      <td>16</td>\n",
       "      <td>120</td>\n",
       "      <td>3851</td>\n",
       "      <td>0</td>\n",
       "      <td>0.134749</td>\n",
       "      <td>313</td>\n",
       "      <td>6.872204</td>\n",
       "      <td>230</td>\n",
       "      <td>2463</td>\n",
       "    </tr>\n",
       "  </tbody>\n",
       "</table>\n",
       "<p>5 rows × 24 columns</p>\n",
       "</div>"
      ],
      "text/plain": [
       "   label                                    cleaned_article  num_punctuations  \\\n",
       "0      1  seeking best woman final return fridaysunday y...               139   \n",
       "1      0  harsh reality come taking responsibility life ...               112   \n",
       "2      0  finally obama speaks american need reconcile t...                65   \n",
       "3      1  house plan increase trump disaster request was...                46   \n",
       "4      1  leftist cusp power weary icelander poll reykja...                89   \n",
       "\n",
       "   no_of_stopwords  no_of_quesMarks  no_of_exclamation  no_of_sentence  \\\n",
       "0              634                5                  0              41   \n",
       "1              702                2                  3              37   \n",
       "2              415                1                  0              21   \n",
       "3              221                0                  0               9   \n",
       "4              523                0                  0              26   \n",
       "\n",
       "  sentiment  cc_cd  determiner  ...  noun  adverb  verb  article_len  \\\n",
       "0  Positive     37          98  ...   236      27   150         4563   \n",
       "1  Positive     53          79  ...   196      85   230         5470   \n",
       "2  Positive     17          67  ...   145      28   116         3324   \n",
       "3  Negative     19          19  ...    87       5    33         1514   \n",
       "4  Positive     35          67  ...   193      16   120         3851   \n",
       "\n",
       "   negations  polarity  word_count  avg_word_len  num_unique_words  num_chars  \n",
       "0          6  0.049887         357      6.392157               234       2638  \n",
       "1         15  0.029320         347      6.573487               263       2627  \n",
       "2          2  0.222891         244      6.950820               172       1939  \n",
       "3          0 -0.062500         127      7.385827                97       1064  \n",
       "4          0  0.134749         313      6.872204               230       2463  \n",
       "\n",
       "[5 rows x 24 columns]"
      ]
     },
     "execution_count": 2,
     "metadata": {},
     "output_type": "execute_result"
    }
   ],
   "source": [
    "# Importing dataset\n",
    "\n",
    "df = pd.read_csv(\"training_set.csv\")\n",
    "df.head()"
   ]
  },
  {
   "cell_type": "code",
   "execution_count": 3,
   "metadata": {
    "execution": {
     "iopub.execute_input": "2022-02-10T06:26:17.359845Z",
     "iopub.status.busy": "2022-02-10T06:26:17.359358Z",
     "iopub.status.idle": "2022-02-10T06:26:17.445157Z",
     "shell.execute_reply": "2022-02-10T06:26:17.444455Z",
     "shell.execute_reply.started": "2022-02-10T06:26:17.359806Z"
    }
   },
   "outputs": [],
   "source": [
    "df.isna().sum()\n",
    "df.fillna(\"\", inplace = True)\n",
    "\n",
    "df = df.sample(frac = 1)\n",
    "df.reset_index(inplace = True)"
   ]
  },
  {
   "cell_type": "code",
   "execution_count": null,
   "metadata": {},
   "outputs": [],
   "source": []
  },
  {
   "cell_type": "code",
   "execution_count": 4,
   "metadata": {
    "execution": {
     "iopub.execute_input": "2022-02-10T06:26:17.447568Z",
     "iopub.status.busy": "2022-02-10T06:26:17.447287Z",
     "iopub.status.idle": "2022-02-10T06:26:17.454580Z",
     "shell.execute_reply": "2022-02-10T06:26:17.453873Z",
     "shell.execute_reply.started": "2022-02-10T06:26:17.447533Z"
    }
   },
   "outputs": [],
   "source": [
    "# Function to predict on test dataset and classify as real or fake\n",
    "\n",
    "def prediction_result(model, test_df):\n",
    "    y_pred = model.predict(test_df)   # Prediction on 1st test dataset\n",
    "    prediction = []\n",
    "\n",
    "# If predicted value is greater than 0.5 then mark it as real (label 1) else fake (label 0)\n",
    "    for i in range(len(test_df)):\n",
    "        if y_pred[i].item() > 0.5:\n",
    "            prediction.append(1)\n",
    "        else:\n",
    "            prediction.append(0)  \n",
    "    \n",
    "    return prediction\n"
   ]
  },
  {
   "cell_type": "code",
   "execution_count": 5,
   "metadata": {
    "execution": {
     "iopub.execute_input": "2022-02-10T06:26:17.456443Z",
     "iopub.status.busy": "2022-02-10T06:26:17.455629Z",
     "iopub.status.idle": "2022-02-10T06:26:17.463496Z",
     "shell.execute_reply": "2022-02-10T06:26:17.462820Z",
     "shell.execute_reply.started": "2022-02-10T06:26:17.456404Z"
    }
   },
   "outputs": [],
   "source": [
    "def confusion_mat(actual, predicted):\n",
    "    \n",
    "    #Generate the confusion matrix\n",
    "    cf_matrix = confusion_matrix(actual, predicted)\n",
    "\n",
    "    ax = sn.heatmap(cf_matrix, annot=True, fmt=\"d\", cmap='Blues')\n",
    "    ax.set_title('Confusion Matrix\\n\\n');\n",
    "    ax.set_xlabel('\\nPredicted Values')\n",
    "    ax.set_ylabel('Actual Values ');\n",
    "\n",
    "    ## Ticket labels - List must be in alphabetical order\n",
    "    ax.xaxis.set_ticklabels(['Fake','Real'])\n",
    "    ax.yaxis.set_ticklabels(['Fake','Real'])\n",
    "\n",
    "    ## Display the visualization of the Confusion Matrix.\n",
    "    plt.show()"
   ]
  },
  {
   "cell_type": "code",
   "execution_count": 6,
   "metadata": {
    "execution": {
     "iopub.execute_input": "2022-02-10T06:26:17.464766Z",
     "iopub.status.busy": "2022-02-10T06:26:17.464500Z",
     "iopub.status.idle": "2022-02-10T06:26:17.474333Z",
     "shell.execute_reply": "2022-02-10T06:26:17.473433Z",
     "shell.execute_reply.started": "2022-02-10T06:26:17.464734Z"
    }
   },
   "outputs": [],
   "source": [
    "def plot_loss_n_accuracy(history):\n",
    "    print(history.history.keys())\n",
    "\n",
    "    plt.plot(history.history['acc'])\n",
    "    plt.plot(history.history['val_acc'])\n",
    "    plt.title('model accuracy')\n",
    "    plt.ylabel('accuracy')\n",
    "    plt.xlabel('epoch')\n",
    "    plt.legend(['train', 'test'], loc='upper left')\n",
    "    plt.show()\n",
    "\n",
    "    plt.plot(history.history['loss'])\n",
    "    plt.plot(history.history['val_loss'])\n",
    "    plt.title('model loss')\n",
    "    plt.ylabel('loss')\n",
    "    plt.xlabel('epoch')\n",
    "    plt.legend(['train', 'test'], loc='upper left')\n",
    "    plt.show()\n"
   ]
  },
  {
   "cell_type": "code",
   "execution_count": 7,
   "metadata": {
    "execution": {
     "iopub.execute_input": "2022-02-10T06:26:17.476016Z",
     "iopub.status.busy": "2022-02-10T06:26:17.475763Z",
     "iopub.status.idle": "2022-02-10T06:26:20.412605Z",
     "shell.execute_reply": "2022-02-10T06:26:20.411918Z",
     "shell.execute_reply.started": "2022-02-10T06:26:17.475982Z"
    }
   },
   "outputs": [
    {
     "data": {
      "text/plain": [
       "13"
      ]
     },
     "execution_count": 7,
     "metadata": {},
     "output_type": "execute_result"
    }
   ],
   "source": [
    "X = [sent.split() for sent in df.cleaned_article.tolist()]\n",
    "len(X[0])"
   ]
  },
  {
   "cell_type": "code",
   "execution_count": 8,
   "metadata": {
    "execution": {
     "iopub.execute_input": "2022-02-10T06:26:20.414123Z",
     "iopub.status.busy": "2022-02-10T06:26:20.413804Z",
     "iopub.status.idle": "2022-02-10T06:33:05.528579Z",
     "shell.execute_reply": "2022-02-10T06:33:05.527829Z",
     "shell.execute_reply.started": "2022-02-10T06:26:20.414081Z"
    }
   },
   "outputs": [],
   "source": [
    "# Training word2vec\n",
    "\n",
    "DIM = 500\n",
    "\n",
    "w2v_model = Word2Vec(\n",
    "    sentences=X,\n",
    "    vector_size  = DIM,\n",
    "    window = 5,\n",
    "    min_count = 1,\n",
    "    workers = 4\n",
    ")"
   ]
  },
  {
   "cell_type": "code",
   "execution_count": 9,
   "metadata": {
    "execution": {
     "iopub.execute_input": "2022-02-10T06:33:05.530261Z",
     "iopub.status.busy": "2022-02-10T06:33:05.529998Z",
     "iopub.status.idle": "2022-02-10T06:33:05.538436Z",
     "shell.execute_reply": "2022-02-10T06:33:05.534948Z",
     "shell.execute_reply.started": "2022-02-10T06:33:05.530226Z"
    }
   },
   "outputs": [
    {
     "name": "stdout",
     "output_type": "stream",
     "text": [
      "Length of word2vec vectors:  292578\n"
     ]
    }
   ],
   "source": [
    "print(\"Length of word2vec vectors: \",len(w2v_model.wv.key_to_index))\n",
    "#w2v_model.wv.key_to_index"
   ]
  },
  {
   "cell_type": "code",
   "execution_count": 10,
   "metadata": {
    "execution": {
     "iopub.execute_input": "2022-02-10T06:33:05.543007Z",
     "iopub.status.busy": "2022-02-10T06:33:05.542707Z",
     "iopub.status.idle": "2022-02-10T06:33:05.850038Z",
     "shell.execute_reply": "2022-02-10T06:33:05.848362Z",
     "shell.execute_reply.started": "2022-02-10T06:33:05.542977Z"
    }
   },
   "outputs": [
    {
     "data": {
      "text/plain": [
       "[('delhi', 0.6821897625923157),\n",
       " ('chennai', 0.6439680457115173),\n",
       " ('karachi', 0.641853392124176),\n",
       " ('hyderabad', 0.6038353443145752),\n",
       " ('srinagar', 0.5978263020515442),\n",
       " ('dhaka', 0.5919310450553894),\n",
       " ('bombay', 0.585334062576294),\n",
       " ('gurgaon', 0.5820416808128357),\n",
       " ('quetta', 0.578901469707489),\n",
       " ('kuala', 0.5767115354537964)]"
      ]
     },
     "execution_count": 10,
     "metadata": {},
     "output_type": "execute_result"
    }
   ],
   "source": [
    "w2v_model.wv.most_similar('mumbai')"
   ]
  },
  {
   "cell_type": "code",
   "execution_count": 11,
   "metadata": {
    "execution": {
     "iopub.execute_input": "2022-02-10T06:33:05.851468Z",
     "iopub.status.busy": "2022-02-10T06:33:05.851211Z",
     "iopub.status.idle": "2022-02-10T06:33:35.669008Z",
     "shell.execute_reply": "2022-02-10T06:33:35.668166Z",
     "shell.execute_reply.started": "2022-02-10T06:33:05.851433Z"
    }
   },
   "outputs": [
    {
     "name": "stdout",
     "output_type": "stream",
     "text": [
      "[209, 420, 28569, 951, 1103, 321, 372, 2556, 772, 2126, 108, 337, 18]\n"
     ]
    },
    {
     "data": {
      "text/plain": [
       "{'trump': 1,\n",
       " 'state': 2,\n",
       " 'people': 3,\n",
       " 'president': 4,\n",
       " 'time': 5,\n",
       " 'year': 6,\n",
       " 'clinton': 7,\n",
       " 'like': 8,\n",
       " 'american': 9,\n",
       " 'republican': 10,\n",
       " 'government': 11,\n",
       " 'country': 12,\n",
       " 'house': 13,\n",
       " 'election': 14,\n",
       " 'obama': 15,\n",
       " 'united': 16,\n",
       " 'news': 17,\n",
       " 'campaign': 18,\n",
       " 'hillary': 19,\n",
       " 'right': 20,\n",
       " 'donald': 21,\n",
       " 'white': 22,\n",
       " 'official': 23,\n",
       " 'party': 24,\n",
       " 'world': 25,\n",
       " 'told': 26,\n",
       " 'group': 27,\n",
       " 'know': 28,\n",
       " 'want': 29,\n",
       " 'woman': 30,\n",
       " 'medium': 31,\n",
       " 'going': 32,\n",
       " 'think': 33,\n",
       " 'york': 34,\n",
       " 'week': 35,\n",
       " 'million': 36,\n",
       " 'political': 37,\n",
       " 'national': 38,\n",
       " 'russia': 39,\n",
       " 'police': 40,\n",
       " 'vote': 41,\n",
       " 'work': 42,\n",
       " 'percent': 43,\n",
       " 'city': 44,\n",
       " 'washington': 45,\n",
       " 'thing': 46,\n",
       " 'america': 47,\n",
       " 'come': 48,\n",
       " 'security': 49,\n",
       " 'need': 50,\n",
       " 'public': 51,\n",
       " 'report': 52,\n",
       " 'policy': 53,\n",
       " 'according': 54,\n",
       " 'company': 55,\n",
       " 'court': 56,\n",
       " 'life': 57,\n",
       " 'month': 58,\n",
       " 'case': 59,\n",
       " 'support': 60,\n",
       " 'video': 61,\n",
       " 'including': 62,\n",
       " 'email': 63,\n",
       " 'member': 64,\n",
       " 'democrat': 65,\n",
       " 'administration': 66,\n",
       " 'leader': 67,\n",
       " 'attack': 68,\n",
       " 'family': 69,\n",
       " 'russian': 70,\n",
       " 'called': 71,\n",
       " 'federal': 72,\n",
       " 'military': 73,\n",
       " 'office': 74,\n",
       " 'presidential': 75,\n",
       " 'department': 76,\n",
       " 'nation': 77,\n",
       " 'force': 78,\n",
       " 'good': 79,\n",
       " 'change': 80,\n",
       " 'power': 81,\n",
       " 'plan': 82,\n",
       " 'statement': 83,\n",
       " 'dont': 84,\n",
       " 'child': 85,\n",
       " 'issue': 86,\n",
       " 'black': 87,\n",
       " 'democratic': 88,\n",
       " 'help': 89,\n",
       " 'north': 90,\n",
       " 'candidate': 91,\n",
       " 'foreign': 92,\n",
       " 'home': 93,\n",
       " 'point': 94,\n",
       " 'school': 95,\n",
       " 'voter': 96,\n",
       " 'order': 97,\n",
       " 'long': 98,\n",
       " 'china': 99,\n",
       " 'question': 100,\n",
       " 'place': 101,\n",
       " 'business': 102,\n",
       " 'number': 103,\n",
       " 'twitter': 104,\n",
       " 'fact': 105,\n",
       " 'look': 106,\n",
       " 'saying': 107,\n",
       " 'money': 108,\n",
       " 'deal': 109,\n",
       " 'investigation': 110,\n",
       " 'general': 111,\n",
       " 'comment': 112,\n",
       " 'story': 113,\n",
       " 'senate': 114,\n",
       " 'asked': 115,\n",
       " 'left': 116,\n",
       " 'health': 117,\n",
       " 'image': 118,\n",
       " 'interview': 119,\n",
       " 'agency': 120,\n",
       " 'syria': 121,\n",
       " 'took': 122,\n",
       " 'secretary': 123,\n",
       " 'program': 124,\n",
       " 'congress': 125,\n",
       " 'information': 126,\n",
       " 'effort': 127,\n",
       " 'justice': 128,\n",
       " 'officer': 129,\n",
       " 'service': 130,\n",
       " 'decision': 131,\n",
       " 'post': 132,\n",
       " 'friday': 133,\n",
       " 'muslim': 134,\n",
       " 'today': 135,\n",
       " 'tuesday': 136,\n",
       " 'meeting': 137,\n",
       " 'source': 138,\n",
       " 'minister': 139,\n",
       " 'committee': 140,\n",
       " 'senator': 141,\n",
       " 'director': 142,\n",
       " 'mean': 143,\n",
       " 'problem': 144,\n",
       " 'action': 145,\n",
       " 'great': 146,\n",
       " 'wednesday': 147,\n",
       " 'talk': 148,\n",
       " 'reported': 149,\n",
       " 'conservative': 150,\n",
       " 'executive': 151,\n",
       " 'little': 152,\n",
       " 'team': 153,\n",
       " 'later': 154,\n",
       " 'thursday': 155,\n",
       " 'control': 156,\n",
       " 'recent': 157,\n",
       " 'came': 158,\n",
       " 'social': 159,\n",
       " 'matter': 160,\n",
       " 'chief': 161,\n",
       " 'speech': 162,\n",
       " 'real': 163,\n",
       " 'international': 164,\n",
       " 'added': 165,\n",
       " 'university': 166,\n",
       " 'believe': 167,\n",
       " 'human': 168,\n",
       " 'monday': 169,\n",
       " 'rule': 170,\n",
       " 'border': 171,\n",
       " 'community': 172,\n",
       " 'john': 173,\n",
       " 'care': 174,\n",
       " 'area': 175,\n",
       " 'supporter': 176,\n",
       " 'away': 177,\n",
       " 'student': 178,\n",
       " 'free': 179,\n",
       " 'night': 180,\n",
       " 'history': 181,\n",
       " 'working': 182,\n",
       " 'result': 183,\n",
       " 'likely': 184,\n",
       " 'claim': 185,\n",
       " 'clear': 186,\n",
       " 'south': 187,\n",
       " 'major': 188,\n",
       " 'past': 189,\n",
       " 'face': 190,\n",
       " 'wrote': 191,\n",
       " 'event': 192,\n",
       " 'billion': 193,\n",
       " 'thats': 194,\n",
       " 'death': 195,\n",
       " 'intelligence': 196,\n",
       " 'reporter': 197,\n",
       " 'street': 198,\n",
       " 'making': 199,\n",
       " 'word': 200,\n",
       " 'better': 201,\n",
       " 'best': 202,\n",
       " 'head': 203,\n",
       " 'economic': 204,\n",
       " 'line': 205,\n",
       " 'high': 206,\n",
       " 'seen': 207,\n",
       " 'known': 208,\n",
       " 'press': 209,\n",
       " 'trying': 210,\n",
       " 'went': 211,\n",
       " 'center': 212,\n",
       " 'water': 213,\n",
       " 'second': 214,\n",
       " 'organization': 215,\n",
       " 'trade': 216,\n",
       " 'judge': 217,\n",
       " 'nuclear': 218,\n",
       " 'friend': 219,\n",
       " 'breitbart': 220,\n",
       " 'person': 221,\n",
       " 'reason': 222,\n",
       " 'immigration': 223,\n",
       " 'wall': 224,\n",
       " 'local': 225,\n",
       " 'actually': 226,\n",
       " 'stop': 227,\n",
       " 'iran': 228,\n",
       " 'given': 229,\n",
       " 'islamic': 230,\n",
       " 'hand': 231,\n",
       " 'bank': 232,\n",
       " 'important': 233,\n",
       " 'open': 234,\n",
       " 'course': 235,\n",
       " 'article': 236,\n",
       " 'tell': 237,\n",
       " 'korea': 238,\n",
       " 'poll': 239,\n",
       " 'november': 240,\n",
       " 'evidence': 241,\n",
       " 'market': 242,\n",
       " 'crime': 243,\n",
       " 'killed': 244,\n",
       " 'sunday': 245,\n",
       " 'early': 246,\n",
       " 'authority': 247,\n",
       " 'european': 248,\n",
       " 'threat': 249,\n",
       " 'lead': 250,\n",
       " 'taking': 251,\n",
       " 'record': 252,\n",
       " 'view': 253,\n",
       " 'hour': 254,\n",
       " 'idea': 255,\n",
       " 'different': 256,\n",
       " 'live': 257,\n",
       " 'union': 258,\n",
       " 'october': 259,\n",
       " 'private': 260,\n",
       " 'refugee': 261,\n",
       " 'terrorist': 262,\n",
       " 'defense': 263,\n",
       " 'possible': 264,\n",
       " 'legal': 265,\n",
       " 'close': 266,\n",
       " 'process': 267,\n",
       " 'position': 268,\n",
       " 'global': 269,\n",
       " 'role': 270,\n",
       " 'kind': 271,\n",
       " 'syrian': 272,\n",
       " 'march': 273,\n",
       " 'term': 274,\n",
       " 'charge': 275,\n",
       " 'thought': 276,\n",
       " 'fight': 277,\n",
       " 'future': 278,\n",
       " 'financial': 279,\n",
       " 'hope': 280,\n",
       " 'game': 281,\n",
       " 'book': 282,\n",
       " 'facebook': 283,\n",
       " 'taken': 284,\n",
       " 'continue': 285,\n",
       " 'instead': 286,\n",
       " 'race': 287,\n",
       " 'feel': 288,\n",
       " 'worker': 289,\n",
       " 'debate': 290,\n",
       " 'watch': 291,\n",
       " 'start': 292,\n",
       " 'able': 293,\n",
       " 'attorney': 294,\n",
       " 'young': 295,\n",
       " 'senior': 296,\n",
       " 'began': 297,\n",
       " 'read': 298,\n",
       " 'decade': 299,\n",
       " 'protest': 300,\n",
       " 'concern': 301,\n",
       " 'cost': 302,\n",
       " 'violence': 303,\n",
       " 'released': 304,\n",
       " 'level': 305,\n",
       " 'weapon': 306,\n",
       " 'study': 307,\n",
       " 'criminal': 308,\n",
       " 'food': 309,\n",
       " 'putin': 310,\n",
       " 'earlier': 311,\n",
       " 'economy': 312,\n",
       " 'message': 313,\n",
       " 'nominee': 314,\n",
       " 'citizen': 315,\n",
       " 'illegal': 316,\n",
       " 'nearly': 317,\n",
       " 'hard': 318,\n",
       " 'turn': 319,\n",
       " 'representative': 320,\n",
       " 'thousand': 321,\n",
       " 'coming': 322,\n",
       " 'share': 323,\n",
       " 'held': 324,\n",
       " 'account': 325,\n",
       " 'despite': 326,\n",
       " 'response': 327,\n",
       " 'small': 328,\n",
       " 'israel': 329,\n",
       " 'lawyer': 330,\n",
       " 'following': 331,\n",
       " 'sander': 332,\n",
       " 'iraq': 333,\n",
       " 'california': 334,\n",
       " 'texas': 335,\n",
       " 'getting': 336,\n",
       " 'fund': 337,\n",
       " 'love': 338,\n",
       " 'sign': 339,\n",
       " 'letter': 340,\n",
       " 'drug': 341,\n",
       " 'operation': 342,\n",
       " 'sure': 343,\n",
       " 'rate': 344,\n",
       " 'special': 345,\n",
       " 'step': 346,\n",
       " 'outside': 347,\n",
       " 'project': 348,\n",
       " 'agreement': 349,\n",
       " 'saudi': 350,\n",
       " 'lost': 351,\n",
       " 'building': 352,\n",
       " 'leave': 353,\n",
       " 'crisis': 354,\n",
       " 'liberal': 355,\n",
       " 'comey': 356,\n",
       " 'governor': 357,\n",
       " 'morning': 358,\n",
       " 'wanted': 359,\n",
       " 'immigrant': 360,\n",
       " 'barack': 361,\n",
       " 'stand': 362,\n",
       " 'list': 363,\n",
       " 'industry': 364,\n",
       " 'example': 365,\n",
       " 'east': 366,\n",
       " 'recently': 367,\n",
       " 'follow': 368,\n",
       " 'west': 369,\n",
       " 'expected': 370,\n",
       " 'january': 371,\n",
       " 'dollar': 372,\n",
       " 'body': 373,\n",
       " 'large': 374,\n",
       " 'hold': 375,\n",
       " 'middle': 376,\n",
       " 'individual': 377,\n",
       " 'current': 378,\n",
       " 'document': 379,\n",
       " 'politics': 380,\n",
       " 'majority': 381,\n",
       " 'based': 382,\n",
       " 'didnt': 383,\n",
       " 'daily': 384,\n",
       " 'foundation': 385,\n",
       " 'network': 386,\n",
       " 'ally': 387,\n",
       " 'staff': 388,\n",
       " 'return': 389,\n",
       " 'europe': 390,\n",
       " 'college': 391,\n",
       " 'region': 392,\n",
       " 'conference': 393,\n",
       " 'sent': 394,\n",
       " 'movement': 395,\n",
       " 'voting': 396,\n",
       " 'announced': 397,\n",
       " 'fear': 398,\n",
       " 'father': 399,\n",
       " 'civil': 400,\n",
       " 'play': 401,\n",
       " 'shot': 402,\n",
       " 'access': 403,\n",
       " 'spokesman': 404,\n",
       " 'room': 405,\n",
       " 'late': 406,\n",
       " 'prime': 407,\n",
       " 'opposition': 408,\n",
       " 'saturday': 409,\n",
       " 'moment': 410,\n",
       " 'running': 411,\n",
       " 'near': 412,\n",
       " 'price': 413,\n",
       " 'data': 414,\n",
       " 'supreme': 415,\n",
       " 'budget': 416,\n",
       " 'central': 417,\n",
       " 'energy': 418,\n",
       " 'council': 419,\n",
       " 'release': 420,\n",
       " 'victim': 421,\n",
       " 'risk': 422,\n",
       " 'site': 423,\n",
       " 'county': 424,\n",
       " 'britain': 425,\n",
       " 'especially': 426,\n",
       " 'increase': 427,\n",
       " 'lawmaker': 428,\n",
       " 'cause': 429,\n",
       " 'agent': 430,\n",
       " 'chinese': 431,\n",
       " 'measure': 432,\n",
       " 'looking': 433,\n",
       " 'victory': 434,\n",
       " 'received': 435,\n",
       " 'army': 436,\n",
       " 'bush': 437,\n",
       " 'july': 438,\n",
       " 'visit': 439,\n",
       " 'employee': 440,\n",
       " 'mexico': 441,\n",
       " 'june': 442,\n",
       " 'george': 443,\n",
       " 'expert': 444,\n",
       " 'true': 445,\n",
       " 'started': 446,\n",
       " 'mother': 447,\n",
       " 'situation': 448,\n",
       " 'latest': 449,\n",
       " 'climate': 450,\n",
       " 'paul': 451,\n",
       " 'research': 452,\n",
       " 'gave': 453,\n",
       " 'land': 454,\n",
       " 'adviser': 455,\n",
       " 'freedom': 456,\n",
       " 'rally': 457,\n",
       " 'published': 458,\n",
       " 'enforcement': 459,\n",
       " 'accused': 460,\n",
       " 'worked': 461,\n",
       " 'wife': 462,\n",
       " 'personal': 463,\n",
       " 'district': 464,\n",
       " 'bring': 465,\n",
       " 'strong': 466,\n",
       " 'entire': 467,\n",
       " 'half': 468,\n",
       " 'host': 469,\n",
       " 'doesnt': 470,\n",
       " 'probably': 471,\n",
       " 'western': 472,\n",
       " 'missile': 473,\n",
       " 'attempt': 474,\n",
       " 'chairman': 475,\n",
       " 'turned': 476,\n",
       " 'tried': 477,\n",
       " 'involved': 478,\n",
       " 'calling': 479,\n",
       " 'form': 480,\n",
       " 'effect': 481,\n",
       " 'truth': 482,\n",
       " 'phone': 483,\n",
       " 'ryan': 484,\n",
       " 'turkey': 485,\n",
       " 'shooting': 486,\n",
       " 'town': 487,\n",
       " 'conflict': 488,\n",
       " 'failed': 489,\n",
       " 'james': 490,\n",
       " 'class': 491,\n",
       " 'florida': 492,\n",
       " 'soon': 493,\n",
       " 'happened': 494,\n",
       " 'continued': 495,\n",
       " 'simply': 496,\n",
       " 'peace': 497,\n",
       " 'benefit': 498,\n",
       " 'obamacare': 499,\n",
       " 'obamas': 500,\n",
       " 'mind': 501,\n",
       " 'british': 502,\n",
       " 'website': 503,\n",
       " 'secret': 504,\n",
       " 'ground': 505,\n",
       " 'posted': 506,\n",
       " 'allow': 507,\n",
       " 'firm': 508,\n",
       " 'relationship': 509,\n",
       " 'living': 510,\n",
       " 'david': 511,\n",
       " 'michael': 512,\n",
       " 'allowed': 513,\n",
       " 'tweet': 514,\n",
       " 'potential': 515,\n",
       " 'capital': 516,\n",
       " 'christian': 517,\n",
       " 'offer': 518,\n",
       " 'parent': 519,\n",
       " 'choice': 520,\n",
       " 'meet': 521,\n",
       " 'longer': 522,\n",
       " 'final': 523,\n",
       " 'provide': 524,\n",
       " 'relation': 525,\n",
       " 'youre': 526,\n",
       " 'board': 527,\n",
       " 'note': 528,\n",
       " 'wrong': 529,\n",
       " 'showed': 530,\n",
       " 'review': 531,\n",
       " 'star': 532,\n",
       " 'talking': 533,\n",
       " 'girl': 534,\n",
       " 'reform': 535,\n",
       " 'journalist': 536,\n",
       " 'address': 537,\n",
       " 'chance': 538,\n",
       " 'figure': 539,\n",
       " 'described': 540,\n",
       " 'reality': 541,\n",
       " 'value': 542,\n",
       " 'society': 543,\n",
       " 'theyre': 544,\n",
       " 'elected': 545,\n",
       " 'photo': 546,\n",
       " 'protect': 547,\n",
       " 'request': 548,\n",
       " 'inside': 549,\n",
       " 'appeared': 550,\n",
       " 'needed': 551,\n",
       " 'population': 552,\n",
       " 'belief': 553,\n",
       " 'page': 554,\n",
       " 'politician': 555,\n",
       " 'fake': 556,\n",
       " 'hearing': 557,\n",
       " 'session': 558,\n",
       " 'include': 559,\n",
       " 'legislation': 560,\n",
       " 'paid': 561,\n",
       " 'series': 562,\n",
       " 'spent': 563,\n",
       " 'medical': 564,\n",
       " 'answer': 565,\n",
       " 'experience': 566,\n",
       " 'presidency': 567,\n",
       " 'activist': 568,\n",
       " 'april': 569,\n",
       " 'sanction': 570,\n",
       " 'protester': 571,\n",
       " 'test': 572,\n",
       " 'primary': 573,\n",
       " 'understand': 574,\n",
       " 'fighting': 575,\n",
       " 'speaking': 576,\n",
       " 'common': 577,\n",
       " 'decided': 578,\n",
       " 'brought': 579,\n",
       " 'single': 580,\n",
       " 'popular': 581,\n",
       " 'education': 582,\n",
       " 'sexual': 583,\n",
       " 'century': 584,\n",
       " 'similar': 585,\n",
       " 'created': 586,\n",
       " 'ruling': 587,\n",
       " 'germany': 588,\n",
       " 'forward': 589,\n",
       " 'church': 590,\n",
       " 'planned': 591,\n",
       " 'immediately': 592,\n",
       " 'challenge': 593,\n",
       " 'resident': 594,\n",
       " 'prison': 595,\n",
       " 'racist': 596,\n",
       " 'mark': 597,\n",
       " 'light': 598,\n",
       " 'september': 599,\n",
       " 'insurance': 600,\n",
       " 'leading': 601,\n",
       " 'cruz': 602,\n",
       " 'target': 603,\n",
       " 'online': 604,\n",
       " 'activity': 605,\n",
       " 'congressional': 606,\n",
       " 'spending': 607,\n",
       " 'travel': 608,\n",
       " 'condition': 609,\n",
       " 'helped': 610,\n",
       " 'island': 611,\n",
       " 'voted': 612,\n",
       " 'film': 613,\n",
       " 'opportunity': 614,\n",
       " 'pressure': 615,\n",
       " 'sense': 616,\n",
       " 'player': 617,\n",
       " 'coalition': 618,\n",
       " 'hate': 619,\n",
       " 'technology': 620,\n",
       " 'television': 621,\n",
       " 'heard': 622,\n",
       " 'total': 623,\n",
       " 'influence': 624,\n",
       " 'mass': 625,\n",
       " 'stay': 626,\n",
       " 'development': 627,\n",
       " 'minute': 628,\n",
       " 'happen': 629,\n",
       " 'short': 630,\n",
       " 'create': 631,\n",
       " 'arrested': 632,\n",
       " 'opinion': 633,\n",
       " 'london': 634,\n",
       " 'aide': 635,\n",
       " 'promise': 636,\n",
       " 'vice': 637,\n",
       " 'focus': 638,\n",
       " 'february': 639,\n",
       " 'ahead': 640,\n",
       " 'killing': 641,\n",
       " 'professor': 642,\n",
       " 'begin': 643,\n",
       " 'field': 644,\n",
       " 'civilian': 645,\n",
       " 'crowd': 646,\n",
       " 'adding': 647,\n",
       " 'biggest': 648,\n",
       " 'died': 649,\n",
       " 'quickly': 650,\n",
       " 'demand': 651,\n",
       " 'heart': 652,\n",
       " 'main': 653,\n",
       " 'spoke': 654,\n",
       " 'attention': 655,\n",
       " 'terrorism': 656,\n",
       " 'strike': 657,\n",
       " 'december': 658,\n",
       " 'daughter': 659,\n",
       " 'included': 660,\n",
       " 'claimed': 661,\n",
       " 'prosecutor': 662,\n",
       " 'certain': 663,\n",
       " 'knew': 664,\n",
       " 'fall': 665,\n",
       " 'dead': 666,\n",
       " 'partner': 667,\n",
       " 'robert': 668,\n",
       " 'funding': 669,\n",
       " 'powerful': 670,\n",
       " 'rest': 671,\n",
       " 'veteran': 672,\n",
       " 'finally': 673,\n",
       " 'independent': 674,\n",
       " 'eastern': 675,\n",
       " 'france': 676,\n",
       " 'build': 677,\n",
       " 'speak': 678,\n",
       " 'green': 679,\n",
       " 'product': 680,\n",
       " 'remain': 681,\n",
       " 'seek': 682,\n",
       " 'standard': 683,\n",
       " 'wikileaks': 684,\n",
       " 'agenda': 685,\n",
       " 'mayor': 686,\n",
       " 'base': 687,\n",
       " 'leadership': 688,\n",
       " 'forced': 689,\n",
       " 'goal': 690,\n",
       " 'hospital': 691,\n",
       " 'gold': 692,\n",
       " 'mainstream': 693,\n",
       " 'largest': 694,\n",
       " 'investment': 695,\n",
       " 'break': 696,\n",
       " 'maybe': 697,\n",
       " 'standing': 698,\n",
       " 'passed': 699,\n",
       " 'clearly': 700,\n",
       " 'seven': 701,\n",
       " 'radio': 702,\n",
       " 'moscow': 703,\n",
       " 'dozen': 704,\n",
       " 'raised': 705,\n",
       " 'confirmed': 706,\n",
       " 'felt': 707,\n",
       " 'agreed': 708,\n",
       " 'difficult': 709,\n",
       " 'author': 710,\n",
       " 'camp': 711,\n",
       " 'debt': 712,\n",
       " 'sale': 713,\n",
       " 'higher': 714,\n",
       " 'voice': 715,\n",
       " 'august': 716,\n",
       " 'nato': 717,\n",
       " 'noted': 718,\n",
       " 'giving': 719,\n",
       " 'internet': 720,\n",
       " 'religious': 721,\n",
       " 'militant': 722,\n",
       " 'appeal': 723,\n",
       " 'armed': 724,\n",
       " 'paper': 725,\n",
       " 'incident': 726,\n",
       " 'conversation': 727,\n",
       " 'practice': 728,\n",
       " 'protection': 729,\n",
       " 'husband': 730,\n",
       " 'establishment': 731,\n",
       " 'appears': 732,\n",
       " 'battle': 733,\n",
       " 'deep': 734,\n",
       " 'regulation': 735,\n",
       " 'space': 736,\n",
       " 'push': 737,\n",
       " 'proposal': 738,\n",
       " 'troop': 739,\n",
       " 'safety': 740,\n",
       " 'democracy': 741,\n",
       " 'growing': 742,\n",
       " 'named': 743,\n",
       " 'raise': 744,\n",
       " 'ministry': 745,\n",
       " 'deputy': 746,\n",
       " 'previous': 747,\n",
       " 'particularly': 748,\n",
       " 'commission': 749,\n",
       " 'king': 750,\n",
       " 'piece': 751,\n",
       " 'remains': 752,\n",
       " 'soldier': 753,\n",
       " 'reach': 754,\n",
       " 'vehicle': 755,\n",
       " 'arabia': 756,\n",
       " 'rise': 757,\n",
       " 'remark': 758,\n",
       " 'culture': 759,\n",
       " 'considered': 760,\n",
       " 'couple': 761,\n",
       " 'cover': 762,\n",
       " 'period': 763,\n",
       " 'loss': 764,\n",
       " 'career': 765,\n",
       " 'german': 766,\n",
       " 'safe': 767,\n",
       " 'french': 768,\n",
       " 'carolina': 769,\n",
       " 'issued': 770,\n",
       " 'critic': 771,\n",
       " 'corporate': 772,\n",
       " 'migrant': 773,\n",
       " 'dangerous': 774,\n",
       " 'served': 775,\n",
       " 'check': 776,\n",
       " 'huge': 777,\n",
       " 'allegation': 778,\n",
       " 'consider': 779,\n",
       " 'currently': 780,\n",
       " 'lower': 781,\n",
       " 'pretty': 782,\n",
       " 'poor': 783,\n",
       " 'scandal': 784,\n",
       " 'respect': 785,\n",
       " 'picture': 786,\n",
       " 'nomination': 787,\n",
       " 'minority': 788,\n",
       " 'mike': 789,\n",
       " 'assault': 790,\n",
       " 'growth': 791,\n",
       " 'significant': 792,\n",
       " 'convention': 793,\n",
       " 'parliament': 794,\n",
       " 'fired': 795,\n",
       " 'strategy': 796,\n",
       " 'seat': 797,\n",
       " 'declined': 798,\n",
       " 'speaker': 799,\n",
       " 'ability': 800,\n",
       " 'weekend': 801,\n",
       " 'brother': 802,\n",
       " 'penny': 803,\n",
       " 'favor': 804,\n",
       " 'leaving': 805,\n",
       " 'stage': 806,\n",
       " 'approach': 807,\n",
       " 'holding': 808,\n",
       " 'doctor': 809,\n",
       " 'exactly': 810,\n",
       " 'corruption': 811,\n",
       " 'certainly': 812,\n",
       " 'season': 813,\n",
       " 'credit': 814,\n",
       " 'discussion': 815,\n",
       " 'lack': 816,\n",
       " 'provided': 817,\n",
       " 'science': 818,\n",
       " 'briefing': 819,\n",
       " 'signed': 820,\n",
       " 'previously': 821,\n",
       " 'park': 822,\n",
       " 'denied': 823,\n",
       " 'trip': 824,\n",
       " 'constitution': 825,\n",
       " 'affair': 826,\n",
       " 'present': 827,\n",
       " 'arrest': 828,\n",
       " 'road': 829,\n",
       " 'related': 830,\n",
       " 'suggested': 831,\n",
       " 'completely': 832,\n",
       " 'available': 833,\n",
       " 'elite': 834,\n",
       " 'directly': 835,\n",
       " 'healthcare': 836,\n",
       " 'block': 837,\n",
       " 'gone': 838,\n",
       " 'lawsuit': 839,\n",
       " 'hear': 840,\n",
       " 'johnson': 841,\n",
       " 'fraud': 842,\n",
       " 'link': 843,\n",
       " 'impact': 844,\n",
       " 'coverage': 845,\n",
       " 'labor': 846,\n",
       " 'trial': 847,\n",
       " 'bernie': 848,\n",
       " 'criticism': 849,\n",
       " 'discus': 850,\n",
       " 'telling': 851,\n",
       " 'violent': 852,\n",
       " 'income': 853,\n",
       " 'sort': 854,\n",
       " 'flag': 855,\n",
       " 'played': 856,\n",
       " 'korean': 857,\n",
       " 'avoid': 858,\n",
       " 'moved': 859,\n",
       " 'isnt': 860,\n",
       " 'believed': 861,\n",
       " 'offered': 862,\n",
       " 'seeking': 863,\n",
       " 'exchange': 864,\n",
       " 'door': 865,\n",
       " 'ready': 866,\n",
       " 'newspaper': 867,\n",
       " 'movie': 868,\n",
       " 'israeli': 869,\n",
       " 'sound': 870,\n",
       " 'property': 871,\n",
       " 'murder': 872,\n",
       " 'worse': 873,\n",
       " 'regime': 874,\n",
       " 'charged': 875,\n",
       " 'palestinian': 876,\n",
       " 'worth': 877,\n",
       " 'analyst': 878,\n",
       " 'massive': 879,\n",
       " 'concerned': 880,\n",
       " 'chicago': 881,\n",
       " 'option': 882,\n",
       " 'ambassador': 883,\n",
       " 'remember': 884,\n",
       " 'iraqi': 885,\n",
       " 'opponent': 886,\n",
       " 'paris': 887,\n",
       " 'owner': 888,\n",
       " 'ukraine': 889,\n",
       " 'kill': 890,\n",
       " 'reached': 891,\n",
       " 'mile': 892,\n",
       " 'version': 893,\n",
       " 'false': 894,\n",
       " 'appear': 895,\n",
       " 'store': 896,\n",
       " 'warned': 897,\n",
       " 'prevent': 898,\n",
       " 'manager': 899,\n",
       " 'asking': 900,\n",
       " 'language': 901,\n",
       " 'abortion': 902,\n",
       " 'repeatedly': 903,\n",
       " 'damage': 904,\n",
       " 'expressed': 905,\n",
       " 'send': 906,\n",
       " 'jewish': 907,\n",
       " 'southern': 908,\n",
       " 'difference': 909,\n",
       " 'revealed': 910,\n",
       " 'carry': 911,\n",
       " 'doubt': 912,\n",
       " 'japan': 913,\n",
       " 'amendment': 914,\n",
       " 'transition': 915,\n",
       " 'fellow': 916,\n",
       " 'behavior': 917,\n",
       " 'apparently': 918,\n",
       " 'direct': 919,\n",
       " 'alleged': 920,\n",
       " 'join': 921,\n",
       " 'kelly': 922,\n",
       " 'written': 923,\n",
       " 'mexican': 924,\n",
       " 'suspect': 925,\n",
       " 'trust': 926,\n",
       " 'treatment': 927,\n",
       " 'scene': 928,\n",
       " 'zone': 929,\n",
       " 'search': 930,\n",
       " 'station': 931,\n",
       " 'bomb': 932,\n",
       " 'summer': 933,\n",
       " 'afghanistan': 934,\n",
       " 'solution': 935,\n",
       " 'changed': 936,\n",
       " 'lose': 937,\n",
       " 'average': 938,\n",
       " 'supported': 939,\n",
       " 'hotel': 940,\n",
       " 'born': 941,\n",
       " 'critical': 942,\n",
       " 'committed': 943,\n",
       " 'beginning': 944,\n",
       " 'communication': 945,\n",
       " 'rebel': 946,\n",
       " 'fighter': 947,\n",
       " 'responsible': 948,\n",
       " 'proposed': 949,\n",
       " 'abuse': 950,\n",
       " 'continues': 951,\n",
       " 'cancer': 952,\n",
       " 'type': 953,\n",
       " 'enemy': 954,\n",
       " 'moving': 955,\n",
       " 'server': 956,\n",
       " 'warning': 957,\n",
       " 'expect': 958,\n",
       " 'caused': 959,\n",
       " 'material': 960,\n",
       " 'largely': 961,\n",
       " 'virginia': 962,\n",
       " 'serve': 963,\n",
       " 'status': 964,\n",
       " 'audience': 965,\n",
       " 'evening': 966,\n",
       " 'multiple': 967,\n",
       " 'pipeline': 968,\n",
       " 'breaking': 969,\n",
       " 'earth': 970,\n",
       " 'baby': 971,\n",
       " 'resource': 972,\n",
       " 'rock': 973,\n",
       " 'institute': 974,\n",
       " 'editor': 975,\n",
       " 'finding': 976,\n",
       " 'terror': 977,\n",
       " 'scientist': 978,\n",
       " 'patient': 979,\n",
       " 'filed': 980,\n",
       " 'built': 981,\n",
       " 'particular': 982,\n",
       " 'agree': 983,\n",
       " 'association': 984,\n",
       " 'contact': 985,\n",
       " 'sport': 986,\n",
       " 'wont': 987,\n",
       " 'showing': 988,\n",
       " 'female': 989,\n",
       " 'machine': 990,\n",
       " 'respond': 991,\n",
       " 'followed': 992,\n",
       " 'plant': 993,\n",
       " 'complete': 994,\n",
       " 'responsibility': 995,\n",
       " 'arab': 996,\n",
       " 'kept': 997,\n",
       " 'absolutely': 998,\n",
       " 'weve': 999,\n",
       " 'additional': 1000,\n",
       " ...}"
      ]
     },
     "execution_count": 11,
     "metadata": {},
     "output_type": "execute_result"
    }
   ],
   "source": [
    "from tensorflow.keras.preprocessing.text import Tokenizer\n",
    "MAX_NB_WORDS = 250000\n",
    "tokenizer = Tokenizer(num_words = MAX_NB_WORDS) # num_words = MAX_NB_WORDS, lower = True\n",
    "tokenizer.fit_on_texts(X)\n",
    "\n",
    "sequence = tokenizer.texts_to_sequences(X) # Creating sequence of tokens\n",
    "print(sequence[0])\n",
    "\n",
    "word_index = tokenizer.word_index\n",
    "word_index"
   ]
  },
  {
   "cell_type": "code",
   "execution_count": 12,
   "metadata": {
    "execution": {
     "iopub.execute_input": "2022-02-10T06:33:35.671470Z",
     "iopub.status.busy": "2022-02-10T06:33:35.670112Z",
     "iopub.status.idle": "2022-02-10T06:33:39.803998Z",
     "shell.execute_reply": "2022-02-10T06:33:39.803224Z",
     "shell.execute_reply.started": "2022-02-10T06:33:35.671428Z"
    }
   },
   "outputs": [],
   "source": [
    "# Padding vectors to length of 500 values.\n",
    "# padding is set to POST which mean zero will be added to the end of vector if length of article is less than 500\n",
    "\n",
    "from tensorflow.keras.preprocessing.sequence import pad_sequences\n",
    "maxlen = 500\n",
    "train_data = pad_sequences(sequence, maxlen=maxlen, padding = 'post')"
   ]
  },
  {
   "cell_type": "code",
   "execution_count": 13,
   "metadata": {
    "execution": {
     "iopub.execute_input": "2022-02-10T06:33:39.805353Z",
     "iopub.status.busy": "2022-02-10T06:33:39.805096Z",
     "iopub.status.idle": "2022-02-10T06:33:39.814353Z",
     "shell.execute_reply": "2022-02-10T06:33:39.813553Z",
     "shell.execute_reply.started": "2022-02-10T06:33:39.805304Z"
    }
   },
   "outputs": [
    {
     "data": {
      "text/plain": [
       "array([  209,   420, 28569,   951,  1103,   321,   372,  2556,   772,\n",
       "        2126,   108,   337,    18,     0,     0,     0,     0,     0,\n",
       "           0,     0,     0,     0,     0,     0,     0,     0,     0,\n",
       "           0,     0,     0,     0,     0,     0,     0,     0,     0,\n",
       "           0,     0,     0,     0,     0,     0,     0,     0,     0,\n",
       "           0,     0,     0,     0,     0,     0,     0,     0,     0,\n",
       "           0,     0,     0,     0,     0,     0,     0,     0,     0,\n",
       "           0,     0,     0,     0,     0,     0,     0,     0,     0,\n",
       "           0,     0,     0,     0,     0,     0,     0,     0,     0,\n",
       "           0,     0,     0,     0,     0,     0,     0,     0,     0,\n",
       "           0,     0,     0,     0,     0,     0,     0,     0,     0,\n",
       "           0,     0,     0,     0,     0,     0,     0,     0,     0,\n",
       "           0,     0,     0,     0,     0,     0,     0,     0,     0,\n",
       "           0,     0,     0,     0,     0,     0,     0,     0,     0,\n",
       "           0,     0,     0,     0,     0,     0,     0,     0,     0,\n",
       "           0,     0,     0,     0,     0,     0,     0,     0,     0,\n",
       "           0,     0,     0,     0,     0,     0,     0,     0,     0,\n",
       "           0,     0,     0,     0,     0,     0,     0,     0,     0,\n",
       "           0,     0,     0,     0,     0,     0,     0,     0,     0,\n",
       "           0,     0,     0,     0,     0,     0,     0,     0,     0,\n",
       "           0,     0,     0,     0,     0,     0,     0,     0,     0,\n",
       "           0,     0,     0,     0,     0,     0,     0,     0,     0,\n",
       "           0,     0,     0,     0,     0,     0,     0,     0,     0,\n",
       "           0,     0,     0,     0,     0,     0,     0,     0,     0,\n",
       "           0,     0,     0,     0,     0,     0,     0,     0,     0,\n",
       "           0,     0,     0,     0,     0,     0,     0,     0,     0,\n",
       "           0,     0,     0,     0,     0,     0,     0,     0,     0,\n",
       "           0,     0,     0,     0,     0,     0,     0,     0,     0,\n",
       "           0,     0,     0,     0,     0,     0,     0,     0,     0,\n",
       "           0,     0,     0,     0,     0,     0,     0,     0,     0,\n",
       "           0,     0,     0,     0,     0,     0,     0,     0,     0,\n",
       "           0,     0,     0,     0,     0,     0,     0,     0,     0,\n",
       "           0,     0,     0,     0,     0,     0,     0,     0,     0,\n",
       "           0,     0,     0,     0,     0,     0,     0,     0,     0,\n",
       "           0,     0,     0,     0,     0,     0,     0,     0,     0,\n",
       "           0,     0,     0,     0,     0,     0,     0,     0,     0,\n",
       "           0,     0,     0,     0,     0,     0,     0,     0,     0,\n",
       "           0,     0,     0,     0,     0,     0,     0,     0,     0,\n",
       "           0,     0,     0,     0,     0,     0,     0,     0,     0,\n",
       "           0,     0,     0,     0,     0,     0,     0,     0,     0,\n",
       "           0,     0,     0,     0,     0,     0,     0,     0,     0,\n",
       "           0,     0,     0,     0,     0,     0,     0,     0,     0,\n",
       "           0,     0,     0,     0,     0,     0,     0,     0,     0,\n",
       "           0,     0,     0,     0,     0,     0,     0,     0,     0,\n",
       "           0,     0,     0,     0,     0,     0,     0,     0,     0,\n",
       "           0,     0,     0,     0,     0,     0,     0,     0,     0,\n",
       "           0,     0,     0,     0,     0,     0,     0,     0,     0,\n",
       "           0,     0,     0,     0,     0,     0,     0,     0,     0,\n",
       "           0,     0,     0,     0,     0,     0,     0,     0,     0,\n",
       "           0,     0,     0,     0,     0,     0,     0,     0,     0,\n",
       "           0,     0,     0,     0,     0,     0,     0,     0,     0,\n",
       "           0,     0,     0,     0,     0,     0,     0,     0,     0,\n",
       "           0,     0,     0,     0,     0,     0,     0,     0,     0,\n",
       "           0,     0,     0,     0,     0,     0,     0,     0,     0,\n",
       "           0,     0,     0,     0,     0,     0,     0,     0,     0,\n",
       "           0,     0,     0,     0,     0])"
      ]
     },
     "execution_count": 13,
     "metadata": {},
     "output_type": "execute_result"
    }
   ],
   "source": [
    "train_data[0]"
   ]
  },
  {
   "cell_type": "code",
   "execution_count": 14,
   "metadata": {
    "execution": {
     "iopub.execute_input": "2022-02-10T06:33:39.816612Z",
     "iopub.status.busy": "2022-02-10T06:33:39.815911Z",
     "iopub.status.idle": "2022-02-10T06:33:39.822502Z",
     "shell.execute_reply": "2022-02-10T06:33:39.821773Z",
     "shell.execute_reply.started": "2022-02-10T06:33:39.816563Z"
    }
   },
   "outputs": [],
   "source": [
    "# Creating weight matrix and setting all values to zero\n",
    "\n",
    "vocab_size = len(tokenizer.word_index) + 1\n",
    "weight_matrix = np.zeros((vocab_size, DIM)) "
   ]
  },
  {
   "cell_type": "code",
   "execution_count": null,
   "metadata": {},
   "outputs": [],
   "source": []
  },
  {
   "cell_type": "code",
   "execution_count": 15,
   "metadata": {
    "execution": {
     "iopub.execute_input": "2022-02-10T06:33:39.824516Z",
     "iopub.status.busy": "2022-02-10T06:33:39.824009Z",
     "iopub.status.idle": "2022-02-10T06:33:39.831109Z",
     "shell.execute_reply": "2022-02-10T06:33:39.830429Z",
     "shell.execute_reply.started": "2022-02-10T06:33:39.824483Z"
    }
   },
   "outputs": [],
   "source": [
    "# Function to create weight matrix. Weight matrix will store word2vec value of each word\n",
    "\n",
    "def get_weight_matrix(model, vocab):\n",
    "    i = 0\n",
    "    for word,i in vocab.items():\n",
    "        try:\n",
    "            if i > MAX_NB_WORDS:\n",
    "                continue\n",
    "                \n",
    "            weight_matrix[i] = model.wv[word]\n",
    "        except:\n",
    "            continue\n",
    "        #print(i)\n",
    "    return weight_matrix"
   ]
  },
  {
   "cell_type": "code",
   "execution_count": 16,
   "metadata": {
    "execution": {
     "iopub.execute_input": "2022-02-10T06:33:39.833806Z",
     "iopub.status.busy": "2022-02-10T06:33:39.832028Z",
     "iopub.status.idle": "2022-02-10T06:33:41.246940Z",
     "shell.execute_reply": "2022-02-10T06:33:41.246168Z",
     "shell.execute_reply.started": "2022-02-10T06:33:39.833768Z"
    },
    "scrolled": true
   },
   "outputs": [
    {
     "data": {
      "text/plain": [
       "array([-1.02856743, -0.7701062 ,  1.06789601,  0.05454836,  0.49369013,\n",
       "        0.0637641 , -0.32688281, -3.51220155,  0.22182795, -0.55728203,\n",
       "       -1.20968628,  0.30757153, -0.40203279, -0.16307792, -0.89651269,\n",
       "       -1.0898515 ,  0.22763649, -1.20242906, -0.09721372,  0.65465254,\n",
       "        0.86517459,  0.23676537, -0.10646517,  0.34744468, -1.33788145,\n",
       "       -0.62681586,  1.01539278,  0.80578983,  2.32612562,  0.43858686,\n",
       "       -0.49095932, -0.06830016,  1.87655723, -0.46831548, -1.42951524,\n",
       "       -0.58576596,  0.52812129, -1.22973883, -1.09981704,  0.27260438,\n",
       "       -0.16075566, -0.5101105 ,  0.25512236, -0.29950222, -0.30190361,\n",
       "        1.78923702,  1.63687503, -0.41692308, -0.93081349, -0.96817541,\n",
       "        0.93400651,  0.94549513, -1.38152313,  0.22214928, -0.16885929,\n",
       "       -0.52883792, -0.15784633,  1.00343227, -0.45702147,  0.67855704,\n",
       "       -0.83500832,  0.45088825, -0.4398984 ,  1.00612748,  1.35424709,\n",
       "        0.68986702,  0.13614309, -0.39383119,  0.44508636, -1.46936023,\n",
       "       -0.02140213,  2.61167574, -0.70707977,  0.70713228, -0.32728496,\n",
       "       -0.50630397,  0.24903816, -1.53968394,  0.0990863 , -0.37820217,\n",
       "        0.13178842,  1.19088435, -0.90551972, -1.69178593, -0.03387157,\n",
       "       -1.62247574, -1.5104928 , -0.44716066, -0.52823943,  0.07267223,\n",
       "       -1.23898959, -0.49804047,  0.18077996, -0.33710951, -1.34032297,\n",
       "        0.30564237,  0.45026186,  1.17192864,  1.21029532,  1.40033638,\n",
       "       -1.03111911, -0.64714301,  0.25276461, -0.40198559, -0.76334006,\n",
       "       -0.4328517 ,  0.21056902, -0.83215189, -1.05884814,  1.27507484,\n",
       "        0.54573393,  1.15951943, -1.0764817 ,  0.10135316,  0.3131521 ,\n",
       "        1.54683268, -1.30753112, -1.56522453, -0.69979924,  1.28395736,\n",
       "       -2.06043553, -1.42432773, -1.57667208,  0.23779054, -0.84845412,\n",
       "       -0.73323995,  0.21698004, -0.06322847,  0.40832177, -0.17190041,\n",
       "       -1.75440514, -1.02799797,  0.73226035, -1.81115019,  1.13729048,\n",
       "       -0.63618243,  1.42287183,  2.13859582,  0.8058576 ,  1.87896132,\n",
       "       -1.21054363,  0.00410049,  0.27632546, -0.42228022, -0.86770701,\n",
       "        0.02518866,  0.96884644,  0.53928959,  0.18074517, -1.22812235,\n",
       "        0.66037267,  1.13456595, -0.52325076,  0.5954569 ,  0.21673478,\n",
       "       -0.38870522, -0.38652804,  0.37332526, -0.22992221, -0.65182334,\n",
       "        0.1756478 , -1.10265779, -0.15430561,  0.52620751,  0.43630615,\n",
       "       -1.15189219, -0.76656991,  0.28759566,  0.27881184, -2.24778366,\n",
       "       -0.49475312, -1.37919462,  1.02114093, -1.67185509, -0.01352182,\n",
       "       -2.28981018,  0.31264254,  1.41025221,  0.62018365, -0.81447315,\n",
       "        0.62715852,  1.46124625, -0.2051281 ,  0.3355408 ,  2.34988236,\n",
       "        0.16009237, -0.86923718, -1.01926279,  0.363592  , -1.36322379,\n",
       "       -2.24681973,  0.98689002,  0.04583944, -0.28876409,  1.89116335,\n",
       "       -0.93130249, -1.65660405, -0.18677445, -0.63526094, -0.45058414,\n",
       "       -0.70284164,  0.5780291 , -0.49418294, -0.6908676 ,  0.69231933,\n",
       "        1.66921973,  0.34865317, -0.37705788, -1.03170609,  0.87181926,\n",
       "        0.30429035, -0.33678544,  0.20167714, -1.17940593,  0.79128736,\n",
       "       -0.23320691,  0.71019226, -0.99979484,  0.93273389,  2.12371802,\n",
       "       -0.77408922, -0.30040056,  3.14494586,  1.16511893,  0.02552819,\n",
       "       -0.30622053, -0.49021339, -0.48332301, -0.58252186, -1.84912884,\n",
       "       -1.86944675, -0.88027608, -0.55409074, -0.66754735,  0.56201667,\n",
       "        0.77101034, -0.2486715 , -0.57537442,  1.31898737,  0.72835535,\n",
       "       -1.75348902, -1.22515619,  0.75510722,  0.50592148, -1.89596307,\n",
       "        0.74717981, -0.16047026,  0.4587121 ,  0.19472581, -0.41982275,\n",
       "        0.90281683, -0.67911035, -0.45156571,  0.31539384,  0.36886764,\n",
       "       -0.3382906 ,  0.80897069,  0.75477713,  0.66987056, -0.07249664,\n",
       "       -0.33246958, -1.37879252, -0.38883558,  0.68853772, -0.29270414,\n",
       "        0.18562469,  1.48308504,  0.66636294,  0.69683319, -0.16508798,\n",
       "       -0.34876698,  0.69973397,  0.92883009,  0.75829804, -0.49408323,\n",
       "        0.05114081, -0.37519816,  0.3580862 , -1.00854146,  0.55452532,\n",
       "       -0.35363886,  0.79009753, -0.23456253,  0.52548158,  0.28390825,\n",
       "        1.04327548, -1.54544997,  0.06242597,  0.37595412, -0.13463596,\n",
       "        0.39726281, -0.9029367 ,  1.1283803 , -2.02597737,  1.02232313,\n",
       "       -0.0574705 , -0.57080871,  0.59616673, -1.3308599 , -1.93389046,\n",
       "        1.08333373, -0.59319133,  0.38503522,  0.173869  ,  1.76373839,\n",
       "        0.43463126, -0.84439719,  0.49399218,  0.98051041, -0.02468349,\n",
       "       -0.46226811,  0.02149807,  1.17625904, -1.58470106, -1.80289316,\n",
       "        0.75131673, -0.53499883, -0.23601508, -0.14944613,  1.1001842 ,\n",
       "       -0.85158992, -0.99369085, -0.20831384, -0.22084607, -0.95411432,\n",
       "        0.76753223,  0.21093749,  0.14517625,  1.61156082,  0.1850826 ,\n",
       "       -0.68867028,  1.25888848, -0.22958298, -0.15469933, -0.79595977,\n",
       "        0.38856086,  1.1202265 , -1.27606475, -0.48675448, -1.05624545,\n",
       "       -0.79046375, -0.03396766, -0.58588004,  0.83663195, -0.83977604,\n",
       "        0.78614593,  0.17048527,  0.85283941, -0.82154137, -0.0924795 ,\n",
       "        0.48873857,  0.07245668, -1.6233784 , -0.51701814, -0.41760445,\n",
       "       -0.62416619,  0.51052159,  0.5705688 ,  1.32320082,  2.12892056,\n",
       "        0.22865647, -0.43053663, -0.60309154,  0.33794069, -0.52636951,\n",
       "       -1.2775166 ,  0.20295124,  0.79289347,  0.70012522, -1.64111912,\n",
       "        0.88209003, -0.91860414, -0.53018981,  0.22626573, -0.4861469 ,\n",
       "       -0.51171082,  0.03255717,  0.47940046,  0.47589236,  0.02824329,\n",
       "        0.45175007, -0.32406598, -0.45611352,  0.88958865,  0.05360636,\n",
       "        0.0973755 , -0.70658612,  0.44211429,  0.32662165, -1.58629906,\n",
       "       -0.00634996,  0.28822863,  1.10102355,  0.68391156, -0.89344501,\n",
       "        0.65844625, -0.92795074, -0.4610804 ,  0.35883892, -0.14357568,\n",
       "       -0.84845918, -0.70445561, -0.0881447 ,  0.18554598, -0.19672659,\n",
       "        1.26680398, -1.50215769,  0.22215353, -1.35631287, -0.14805304,\n",
       "        1.70168996, -0.89977109,  0.45934123,  0.53014237, -0.70060623,\n",
       "       -1.45317018,  1.28545308,  0.03671676,  0.62410539,  0.90686464,\n",
       "        1.07865047, -0.55020034, -0.84096688,  0.66141421, -0.34826466,\n",
       "        1.16736233, -0.34904245,  0.80296701,  1.19414067,  0.33108133,\n",
       "       -1.08997798,  0.61477685,  0.80125082, -0.16903277,  1.13267124,\n",
       "       -1.92486048,  0.28484759,  0.64092988,  1.20582485,  0.78212124,\n",
       "       -0.16432948,  0.53058094,  0.1514813 ,  1.3855952 , -1.77180123,\n",
       "        0.39819458,  1.96919107, -0.2323325 , -0.11454474, -0.05812011,\n",
       "       -0.43406954,  0.40236872, -0.23475266, -0.11403663, -0.64036179,\n",
       "       -0.00598005,  0.41458306, -0.28077948,  0.12695257,  0.05708705,\n",
       "        0.42065442, -0.52580971,  0.6490835 , -2.19259524, -0.02794688,\n",
       "       -0.41979173, -0.65896136, -0.46799996, -0.18074962, -0.85827243,\n",
       "        0.78104776, -0.63321763,  0.85668951, -1.14957142,  0.91524965,\n",
       "        0.79859507,  0.29785946, -0.70783573,  1.0870744 ,  0.80901688,\n",
       "        0.98522425,  0.95467848, -0.84192926,  0.93422389, -1.58412778,\n",
       "        0.5297544 , -1.31068647, -0.40175858, -1.51683128, -1.35198879,\n",
       "       -0.22293158, -0.21568249,  0.45719221, -0.14134058, -0.15617172,\n",
       "        0.5626983 , -0.75260168,  0.30906475, -0.34931904, -1.159621  ])"
      ]
     },
     "execution_count": 16,
     "metadata": {},
     "output_type": "execute_result"
    }
   ],
   "source": [
    "embedding_vectors = get_weight_matrix(w2v_model, word_index)\n",
    "embedding_vectors[50]"
   ]
  },
  {
   "cell_type": "code",
   "execution_count": 17,
   "metadata": {
    "execution": {
     "iopub.execute_input": "2022-02-10T06:33:41.248718Z",
     "iopub.status.busy": "2022-02-10T06:33:41.248281Z",
     "iopub.status.idle": "2022-02-10T06:33:41.260862Z",
     "shell.execute_reply": "2022-02-10T06:33:41.260207Z",
     "shell.execute_reply.started": "2022-02-10T06:33:41.248677Z"
    }
   },
   "outputs": [
    {
     "data": {
      "text/plain": [
       "array([-9.94348526e-02,  1.19836593e+00, -4.45718616e-01, -4.84085590e-01,\n",
       "        6.71274066e-01,  7.93033615e-02, -5.73829055e-01, -9.79483485e-01,\n",
       "       -2.63276666e-01, -7.45616794e-01,  3.75732422e-01,  1.59427965e+00,\n",
       "       -2.74350196e-01,  1.85479760e+00, -1.05182743e+00, -9.65467572e-01,\n",
       "        7.79573917e-01,  8.10985863e-01,  1.21903539e+00, -1.31349361e+00,\n",
       "        2.44580925e-01, -3.04538429e-01,  6.76723778e-01, -1.36580825e+00,\n",
       "       -1.00815967e-01,  1.61969066e-02, -1.28825986e+00, -8.36380184e-01,\n",
       "       -1.42952546e-01, -7.85467625e-01, -4.46215302e-01, -2.41695821e-01,\n",
       "       -1.57294822e+00, -6.43353224e-01, -2.24198833e-01, -8.49344552e-01,\n",
       "        5.88027537e-01, -8.65465850e-02,  6.33952439e-01,  1.59764600e+00,\n",
       "        1.70498252e-01, -3.86501491e-01, -1.15316784e+00, -1.74475980e+00,\n",
       "       -1.78100562e+00, -2.04211164e+00,  9.35721278e-01, -5.97505987e-01,\n",
       "       -9.70586836e-01, -1.48067296e-01, -4.55639452e-01,  3.17574084e-01,\n",
       "       -5.58579415e-02, -2.64883846e-01,  6.35156870e-01, -6.48582220e-01,\n",
       "       -1.04752153e-01,  5.12377918e-01, -6.39065027e-01, -4.66542929e-01,\n",
       "        1.94083199e-01, -6.12314403e-01,  1.13730229e-01,  1.11666443e-02,\n",
       "        9.74560082e-01, -1.53558642e-01,  2.15841219e-01, -1.64179122e+00,\n",
       "        1.43696225e+00, -6.86987162e-01,  1.21021903e+00,  4.20752496e-01,\n",
       "        6.38896823e-01, -2.28994936e-01, -1.02833855e+00, -6.24537826e-01,\n",
       "        9.00370002e-01,  2.81589538e-01, -3.26758802e-01,  7.76052102e-02,\n",
       "       -4.21477616e-01, -6.17998838e-02, -1.50206089e-01, -2.08813906e+00,\n",
       "       -8.04865837e-01, -5.93690991e-01,  6.25700414e-01,  3.42257053e-01,\n",
       "        1.02822149e+00, -2.32603818e-01, -1.24309552e+00, -9.87158597e-01,\n",
       "        5.18513441e-01, -8.68633687e-01, -7.68144548e-01, -4.45001334e-01,\n",
       "       -1.05942035e+00, -1.32721066e+00, -1.22026372e+00,  2.10597124e-02,\n",
       "       -1.07560015e+00,  9.29741502e-01,  8.59973490e-01, -1.13906063e-01,\n",
       "        6.12597167e-01,  3.19848895e-01, -5.36692441e-01,  1.44478559e+00,\n",
       "       -4.46336389e-01,  1.08194396e-01, -4.16566432e-01,  2.69485384e-01,\n",
       "       -5.12839139e-01,  1.67141604e+00,  1.72460759e+00,  2.17273653e-01,\n",
       "        5.16697951e-02,  8.45675468e-01,  6.82274625e-02,  6.88342869e-01,\n",
       "       -5.14001667e-01, -6.92534685e-01,  1.09980071e+00,  2.14277104e-01,\n",
       "       -1.50259411e+00, -1.37462378e+00, -3.36306125e-01,  4.57408652e-02,\n",
       "        2.19847914e-02, -8.38210457e-04,  8.13470662e-01, -8.04343462e-01,\n",
       "       -2.65717894e-01, -7.71183744e-02,  2.92853773e-01, -2.79733926e-01,\n",
       "       -8.74728203e-01,  1.50978708e+00,  6.61421180e-01, -1.92698583e-01,\n",
       "       -7.68460691e-01, -6.22883797e-01,  4.19856578e-01, -1.55759227e+00,\n",
       "       -6.48585796e-01, -4.80801761e-01, -1.12173462e+00,  3.16404730e-01,\n",
       "       -5.32355070e-01,  9.07673717e-01, -6.95431590e-01,  7.52359331e-02,\n",
       "       -1.20642877e+00,  7.50857294e-02, -8.55585754e-01,  2.35073105e-01,\n",
       "        1.44031036e+00, -1.48427919e-01, -3.59124571e-01, -1.44304723e-01,\n",
       "       -9.45511758e-01, -9.24747512e-02, -1.17023659e+00, -3.15486610e-01,\n",
       "        7.84847498e-01,  6.73619360e-02, -2.95729011e-01, -3.05553406e-01,\n",
       "       -5.33748627e-01, -3.02473396e-01,  2.25624338e-01, -4.69333440e-01,\n",
       "       -8.76317680e-01,  1.12010014e+00,  4.10014153e-01, -1.42183816e+00,\n",
       "        3.76344472e-01,  2.13738322e+00, -1.31227207e+00, -3.25161755e-01,\n",
       "       -5.37285030e-01,  3.96847278e-02,  2.23407418e-01, -2.78482169e-01,\n",
       "        7.17852354e-01, -1.35960281e+00,  6.24603629e-02,  1.47881246e+00,\n",
       "       -4.59308684e-01, -3.93020451e-01, -9.71069574e-01,  6.81481361e-01,\n",
       "       -1.94103587e+00,  6.23539865e-01,  1.76993930e+00, -1.55653551e-01,\n",
       "        1.29415378e-01, -1.18912375e+00,  3.93420935e-01,  1.03052282e+00,\n",
       "       -7.78436482e-01, -2.39817172e-01,  7.80871689e-01,  7.03629613e-01,\n",
       "        6.28791690e-01,  1.50034952e+00,  8.27530682e-01, -2.52609938e-01,\n",
       "       -1.42235863e+00, -3.14589560e-01, -9.88083839e-01,  1.84838057e-01,\n",
       "       -3.84410203e-01, -2.39468321e-01,  9.21835527e-02,  4.22130674e-01,\n",
       "        9.49199051e-02,  1.56038988e+00,  1.04549676e-01,  8.50942135e-01,\n",
       "        1.39268029e+00, -6.20065510e-01, -6.19662404e-01,  1.04798818e+00,\n",
       "       -2.08272323e-01, -6.54589236e-01, -8.17356646e-01, -5.56938648e-01,\n",
       "       -2.85671085e-01,  1.21583915e+00,  1.98458761e-01,  1.08901285e-01,\n",
       "        5.49604416e-01, -4.90357310e-01, -2.98020929e-01, -5.39611936e-01,\n",
       "        2.01283544e-01, -9.36114132e-01,  1.05504346e+00, -9.45522860e-02,\n",
       "        6.05003275e-02, -1.75654963e-01,  4.12873775e-01, -8.26637626e-01,\n",
       "       -4.11826551e-01,  6.34124637e-01,  4.37813342e-01,  8.30699444e-01,\n",
       "        5.57471275e-01, -7.91723788e-01,  1.33866876e-01,  1.92299902e-01,\n",
       "       -8.29060078e-01, -9.14539576e-01, -7.24448681e-01,  5.31684995e-01,\n",
       "        4.07661386e-02, -3.73118430e-01, -9.24957216e-01,  2.50284433e-01,\n",
       "        4.38998759e-01, -1.10440505e+00,  1.17272055e+00,  1.92366505e+00,\n",
       "        1.37060314e-01,  9.60526526e-01, -5.51261544e-01,  3.19026679e-01,\n",
       "        7.57718742e-01,  2.49132305e-01,  4.38848883e-01, -8.32779646e-01,\n",
       "       -9.05463040e-01, -1.98963201e+00,  5.66177249e-01, -1.82782561e-01,\n",
       "       -3.86631250e-01,  4.01452869e-01,  1.74533081e+00,  1.07271147e+00,\n",
       "       -7.59648383e-01, -3.10079187e-01,  1.64736584e-01, -3.14904571e-01,\n",
       "       -2.43501961e-01, -2.66236752e-01, -1.46177500e-01,  4.06285152e-02,\n",
       "        5.99294960e-01,  7.14335024e-01,  3.72935534e-01, -9.87759054e-01,\n",
       "       -6.92897737e-01,  5.47248960e-01, -9.44780290e-01,  8.57929587e-01,\n",
       "       -7.38254011e-01, -3.00284386e-01,  6.64457619e-01,  5.30526996e-01,\n",
       "       -7.61239827e-01,  1.61248136e+00,  1.15979207e+00, -1.05388188e+00,\n",
       "        1.61462247e+00,  7.09851235e-02,  1.11315680e+00,  7.33140886e-01,\n",
       "       -6.81329846e-01,  1.39885986e+00,  4.70138602e-02,  3.93989265e-01,\n",
       "        9.53261614e-01, -8.49685252e-01, -8.25418413e-01, -1.36326820e-01,\n",
       "        4.71082687e-01,  5.40199161e-01, -1.88281190e+00, -7.76862383e-01,\n",
       "        4.47981000e-01,  3.52480620e-01, -9.19526517e-01,  5.63667595e-01,\n",
       "        4.95883405e-01,  7.67733991e-01,  1.58534491e+00, -6.68149829e-01,\n",
       "       -2.93272853e-01, -4.64460343e-01, -1.24031670e-01, -9.87898707e-01,\n",
       "       -2.98321694e-01,  3.16763997e-01, -3.04469503e-02,  4.73964900e-01,\n",
       "        4.11447316e-01, -6.65560544e-01, -2.02992663e-01, -5.53162932e-01,\n",
       "       -2.88788527e-01,  9.84751761e-01,  8.36896360e-01,  9.65370163e-02,\n",
       "       -3.01864713e-01, -4.89223376e-02,  1.24075174e+00,  1.01910822e-01,\n",
       "       -1.15511310e+00,  7.47891366e-01,  3.63757938e-01,  5.85444748e-01,\n",
       "        3.20390433e-01,  4.22775507e-01,  3.81757230e-01, -1.23990333e+00,\n",
       "       -1.14428461e+00,  5.01376629e-01,  3.20291549e-01,  5.64920664e-01,\n",
       "       -6.98808610e-01, -7.39579350e-02,  1.18493879e+00,  5.71469367e-01,\n",
       "        8.33370209e-01,  5.90899229e-01, -7.22023323e-02, -1.31291598e-01,\n",
       "        5.32789230e-01,  7.30292797e-02, -1.04656291e+00,  7.43533134e-01,\n",
       "        7.08689466e-02,  1.69424081e+00, -6.88455403e-01, -2.97525495e-01,\n",
       "       -1.07864547e+00, -6.62642658e-01,  6.02585673e-01,  1.58864141e-01,\n",
       "       -8.05562079e-01,  2.40162581e-01,  6.48012102e-01, -1.57657295e-01,\n",
       "        4.82716441e-01, -4.39416498e-01,  6.43444359e-01, -9.18086886e-01,\n",
       "        6.59334958e-01,  9.83936608e-01,  3.49140376e-01, -5.55788517e-01,\n",
       "        3.23230773e-01, -1.04364380e-01,  1.63631189e+00, -1.26977813e+00,\n",
       "       -1.68605000e-01,  6.55952513e-01, -7.50159860e-01, -6.73955023e-01,\n",
       "       -1.12979233e+00, -2.35299036e-01, -1.24663162e+00, -2.02477559e-01,\n",
       "       -5.52183390e-01,  3.31071824e-01,  8.09698701e-01, -1.22792208e+00,\n",
       "       -2.80782193e-01,  1.11490726e+00, -1.18394959e+00,  4.74021852e-01,\n",
       "       -7.18950152e-01, -3.51713032e-01, -1.78425565e-01,  1.57707572e+00,\n",
       "       -2.97793895e-01, -7.57541180e-01,  8.84737730e-01,  3.74088705e-01,\n",
       "       -1.41860455e-01,  6.71963334e-01,  7.01316118e-01,  7.75698423e-01,\n",
       "       -5.75917184e-01,  5.38128316e-01,  1.71758477e-02,  3.02353621e-01,\n",
       "        9.09450471e-01, -2.02478027e+00,  5.46860814e-01, -6.45755470e-01,\n",
       "        6.37728691e-01,  4.12632406e-01,  1.01961064e+00,  5.59870005e-01,\n",
       "        1.26076686e+00,  1.19048357e+00,  1.26509976e+00,  1.45266867e+00,\n",
       "        5.99634387e-02, -3.64678651e-02,  1.11219168e+00, -1.37542740e-01,\n",
       "        4.81531993e-02,  1.62243128e+00, -7.71483123e-01, -6.61731720e-01,\n",
       "        2.53349274e-01, -4.68131095e-01,  1.89661324e-01,  7.98740983e-01,\n",
       "       -3.82602990e-01, -4.19609576e-01, -3.63117844e-01, -9.42210317e-01,\n",
       "        4.52124923e-01,  8.50074291e-01,  2.80495703e-01,  5.34125328e-01,\n",
       "       -3.62179056e-02,  2.40143657e+00,  5.68989038e-01,  1.59037220e+00,\n",
       "       -4.94818464e-02, -8.69845867e-01,  9.50933218e-01,  3.24909896e-01,\n",
       "        7.61546016e-01, -2.04058856e-01,  1.56030118e+00, -4.80157286e-01,\n",
       "       -8.07191730e-01, -4.99160916e-01, -4.29080218e-01,  3.99149358e-01,\n",
       "       -5.64999640e-01,  3.81313384e-01,  1.39520466e+00,  3.20728451e-01,\n",
       "       -2.91909844e-01, -9.27580357e-01, -1.40745008e+00,  9.53893721e-01,\n",
       "       -8.89611185e-01,  6.58640921e-01, -1.41977179e+00,  8.55599880e-01,\n",
       "       -6.23593450e-01, -9.02761698e-01,  2.35220224e-01, -2.56593525e-02,\n",
       "        4.52142239e-01, -1.59671712e+00,  1.06709206e+00, -1.13631797e+00,\n",
       "        4.17017400e-01, -4.63016659e-01,  1.19719148e+00, -6.33640230e-01],\n",
       "      dtype=float32)"
      ]
     },
     "execution_count": 17,
     "metadata": {},
     "output_type": "execute_result"
    }
   ],
   "source": [
    "w2v_model.wv['india']"
   ]
  },
  {
   "cell_type": "code",
   "execution_count": 18,
   "metadata": {
    "execution": {
     "iopub.execute_input": "2022-02-10T06:33:41.262696Z",
     "iopub.status.busy": "2022-02-10T06:33:41.262093Z",
     "iopub.status.idle": "2022-02-10T06:33:41.269794Z",
     "shell.execute_reply": "2022-02-10T06:33:41.268995Z",
     "shell.execute_reply.started": "2022-02-10T06:33:41.262659Z"
    }
   },
   "outputs": [
    {
     "name": "stdout",
     "output_type": "stream",
     "text": [
      "Shape of Embedding Vectors is : (292579, 500)\n"
     ]
    }
   ],
   "source": [
    "print(\"Shape of Embedding Vectors is :\",embedding_vectors.shape)"
   ]
  },
  {
   "cell_type": "code",
   "execution_count": null,
   "metadata": {},
   "outputs": [],
   "source": []
  },
  {
   "cell_type": "code",
   "execution_count": 19,
   "metadata": {
    "execution": {
     "iopub.execute_input": "2022-02-10T06:33:41.271842Z",
     "iopub.status.busy": "2022-02-10T06:33:41.271298Z",
     "iopub.status.idle": "2022-02-10T06:33:41.369478Z",
     "shell.execute_reply": "2022-02-10T06:33:41.368708Z",
     "shell.execute_reply.started": "2022-02-10T06:33:41.271805Z"
    }
   },
   "outputs": [],
   "source": [
    "# Spliting the data in training and test set\n",
    "\n",
    "from sklearn.model_selection import train_test_split\n",
    "y = df['label'].values\n",
    "X_train, X_test, y_train, y_test = train_test_split(train_data,y, test_size = 0.2)"
   ]
  },
  {
   "cell_type": "markdown",
   "metadata": {},
   "source": [
    "## Uni-LSTM"
   ]
  },
  {
   "cell_type": "code",
   "execution_count": 20,
   "metadata": {
    "execution": {
     "iopub.execute_input": "2022-02-10T06:33:41.371144Z",
     "iopub.status.busy": "2022-02-10T06:33:41.370880Z",
     "iopub.status.idle": "2022-02-10T06:33:45.039968Z",
     "shell.execute_reply": "2022-02-10T06:33:45.039031Z",
     "shell.execute_reply.started": "2022-02-10T06:33:41.371111Z"
    }
   },
   "outputs": [],
   "source": [
    "model1 = Sequential()\n",
    "model1.add(Embedding(vocab_size, output_dim = DIM, weights = [embedding_vectors], input_length = maxlen, trainable = False))\n",
    "model1.add(Dropout(0.5))\n",
    "\n",
    "model1.add(LSTM(units = 512))\n",
    "model1.add(Dropout(0.5))\n",
    "\n",
    "model1.add(Dense(128, activation = 'relu'))\n",
    "model1.add(Dropout(0.5))\n",
    "\n",
    "model1.add(Dense(1, activation = 'sigmoid'))\n",
    "model1.compile(optimizer = 'adam', loss = 'binary_crossentropy', metrics = ['acc'])"
   ]
  },
  {
   "cell_type": "code",
   "execution_count": 21,
   "metadata": {
    "execution": {
     "iopub.execute_input": "2022-02-10T06:33:45.044672Z",
     "iopub.status.busy": "2022-02-10T06:33:45.044274Z",
     "iopub.status.idle": "2022-02-10T06:33:45.058458Z",
     "shell.execute_reply": "2022-02-10T06:33:45.057764Z",
     "shell.execute_reply.started": "2022-02-10T06:33:45.044632Z"
    }
   },
   "outputs": [
    {
     "name": "stdout",
     "output_type": "stream",
     "text": [
      "Model: \"sequential\"\n",
      "_________________________________________________________________\n",
      " Layer (type)                Output Shape              Param #   \n",
      "=================================================================\n",
      " embedding (Embedding)       (None, 500, 500)          146289500 \n",
      "                                                                 \n",
      " dropout (Dropout)           (None, 500, 500)          0         \n",
      "                                                                 \n",
      " lstm (LSTM)                 (None, 512)               2074624   \n",
      "                                                                 \n",
      " dropout_1 (Dropout)         (None, 512)               0         \n",
      "                                                                 \n",
      " dense (Dense)               (None, 128)               65664     \n",
      "                                                                 \n",
      " dropout_2 (Dropout)         (None, 128)               0         \n",
      "                                                                 \n",
      " dense_1 (Dense)             (None, 1)                 129       \n",
      "                                                                 \n",
      "=================================================================\n",
      "Total params: 148,429,917\n",
      "Trainable params: 2,140,417\n",
      "Non-trainable params: 146,289,500\n",
      "_________________________________________________________________\n"
     ]
    }
   ],
   "source": [
    "model1.summary()"
   ]
  },
  {
   "cell_type": "code",
   "execution_count": 22,
   "metadata": {
    "execution": {
     "iopub.execute_input": "2022-02-10T06:33:45.060350Z",
     "iopub.status.busy": "2022-02-10T06:33:45.059855Z",
     "iopub.status.idle": "2022-02-10T06:47:45.922998Z",
     "shell.execute_reply": "2022-02-10T06:47:45.922270Z",
     "shell.execute_reply.started": "2022-02-10T06:33:45.060289Z"
    }
   },
   "outputs": [
    {
     "name": "stderr",
     "output_type": "stream",
     "text": [
      "2022-02-10 06:33:45.233654: I tensorflow/compiler/mlir/mlir_graph_optimization_pass.cc:185] None of the MLIR Optimization Passes are enabled (registered 2)\n"
     ]
    },
    {
     "name": "stdout",
     "output_type": "stream",
     "text": [
      "Epoch 1/10\n"
     ]
    },
    {
     "name": "stderr",
     "output_type": "stream",
     "text": [
      "2022-02-10 06:33:47.748814: I tensorflow/stream_executor/cuda/cuda_dnn.cc:369] Loaded cuDNN version 8005\n"
     ]
    },
    {
     "name": "stdout",
     "output_type": "stream",
     "text": [
      "483/483 [==============================] - 87s 173ms/step - loss: 0.6571 - acc: 0.5704 - val_loss: 0.6432 - val_acc: 0.5688\n",
      "Epoch 2/10\n",
      "483/483 [==============================] - 83s 171ms/step - loss: 0.5767 - acc: 0.6694 - val_loss: 0.7249 - val_acc: 0.4879\n",
      "Epoch 3/10\n",
      "483/483 [==============================] - 84s 174ms/step - loss: 0.4338 - acc: 0.7911 - val_loss: 0.2509 - val_acc: 0.8840\n",
      "Epoch 4/10\n",
      "483/483 [==============================] - 84s 173ms/step - loss: 0.2288 - acc: 0.8993 - val_loss: 0.1771 - val_acc: 0.9146\n",
      "Epoch 5/10\n",
      "483/483 [==============================] - 83s 173ms/step - loss: 0.1925 - acc: 0.9091 - val_loss: 0.1585 - val_acc: 0.9234\n",
      "Epoch 6/10\n",
      "483/483 [==============================] - 84s 174ms/step - loss: 0.1615 - acc: 0.9217 - val_loss: 0.1473 - val_acc: 0.9252\n",
      "Epoch 7/10\n",
      "483/483 [==============================] - 84s 173ms/step - loss: 0.1450 - acc: 0.9283 - val_loss: 0.1372 - val_acc: 0.9292\n",
      "Epoch 8/10\n",
      "483/483 [==============================] - 84s 173ms/step - loss: 0.1353 - acc: 0.9312 - val_loss: 0.1302 - val_acc: 0.9349\n",
      "Epoch 9/10\n",
      "483/483 [==============================] - 84s 174ms/step - loss: 0.1236 - acc: 0.9383 - val_loss: 0.1339 - val_acc: 0.9343\n",
      "Epoch 10/10\n",
      "483/483 [==============================] - 84s 173ms/step - loss: 0.1159 - acc: 0.9403 - val_loss: 0.1240 - val_acc: 0.9384\n"
     ]
    }
   ],
   "source": [
    "history = model1.fit(X_train, y_train, batch_size = 128, validation_split = 0.2, epochs = 10)"
   ]
  },
  {
   "cell_type": "code",
   "execution_count": 23,
   "metadata": {
    "execution": {
     "iopub.execute_input": "2022-02-10T06:47:45.926131Z",
     "iopub.status.busy": "2022-02-10T06:47:45.925916Z",
     "iopub.status.idle": "2022-02-10T06:47:46.309175Z",
     "shell.execute_reply": "2022-02-10T06:47:46.308494Z",
     "shell.execute_reply.started": "2022-02-10T06:47:45.926106Z"
    }
   },
   "outputs": [
    {
     "name": "stdout",
     "output_type": "stream",
     "text": [
      "Plotting Accuracy and loss on validation data\n",
      "dict_keys(['loss', 'acc', 'val_loss', 'val_acc'])\n"
     ]
    },
    {
     "data": {
      "image/png": "[encoded data removed]",
      "text/plain": [
       "<Figure size 432x288 with 1 Axes>"
      ]
     },
     "metadata": {
      "needs_background": "light"
     },
     "output_type": "display_data"
    },
    {
     "data": {
      "image/png": "[encoded data removed]",
      "text/plain": [
       "<Figure size 432x288 with 1 Axes>"
      ]
     },
     "metadata": {
      "needs_background": "light"
     },
     "output_type": "display_data"
    }
   ],
   "source": [
    "print(\"Plotting Accuracy and loss on validation data\")\n",
    "plot_loss_n_accuracy(history)"
   ]
  },
  {
   "cell_type": "code",
   "execution_count": 24,
   "metadata": {
    "execution": {
     "iopub.execute_input": "2022-02-10T06:47:46.310912Z",
     "iopub.status.busy": "2022-02-10T06:47:46.310660Z",
     "iopub.status.idle": "2022-02-10T06:48:03.926651Z",
     "shell.execute_reply": "2022-02-10T06:48:03.925968Z",
     "shell.execute_reply.started": "2022-02-10T06:47:46.310877Z"
    }
   },
   "outputs": [
    {
     "data": {
      "image/png": "[encoded data removed]",
      "text/plain": [
       "<Figure size 432x288 with 2 Axes>"
      ]
     },
     "metadata": {
      "needs_background": "light"
     },
     "output_type": "display_data"
    }
   ],
   "source": [
    "# Prediction on test set and plotting confusion matrix\n",
    "\n",
    "prediction_lstm = prediction_result(model1, X_test)\n",
    "confusion_mat(y_test, prediction_lstm)"
   ]
  },
  {
   "cell_type": "code",
   "execution_count": 25,
   "metadata": {
    "execution": {
     "iopub.execute_input": "2022-02-10T06:48:03.933283Z",
     "iopub.status.busy": "2022-02-10T06:48:03.930217Z",
     "iopub.status.idle": "2022-02-10T06:48:04.000510Z",
     "shell.execute_reply": "2022-02-10T06:48:03.999873Z",
     "shell.execute_reply.started": "2022-02-10T06:48:03.933245Z"
    }
   },
   "outputs": [
    {
     "name": "stdout",
     "output_type": "stream",
     "text": [
      "Classification report of Test set: \n",
      "\n",
      "               precision    recall  f1-score   support\n",
      "\n",
      "           0     0.9586    0.9245    0.9413      9569\n",
      "           1     0.9283    0.9608    0.9443      9735\n",
      "\n",
      "    accuracy                         0.9428     19304\n",
      "   macro avg     0.9435    0.9427    0.9428     19304\n",
      "weighted avg     0.9433    0.9428    0.9428     19304\n",
      "\n"
     ]
    }
   ],
   "source": [
    "print(\"Classification report of Test set: \\n\\n\",classification_report(y_test, prediction_lstm, digits = 4))"
   ]
  },
  {
   "cell_type": "code",
   "execution_count": null,
   "metadata": {},
   "outputs": [],
   "source": []
  },
  {
   "cell_type": "markdown",
   "metadata": {},
   "source": [
    "## Bi-directional LSTM"
   ]
  },
  {
   "cell_type": "code",
   "execution_count": 156,
   "metadata": {
    "execution": {
     "iopub.execute_input": "2022-02-10T11:09:26.346001Z",
     "iopub.status.busy": "2022-02-10T11:09:26.345741Z",
     "iopub.status.idle": "2022-02-10T11:09:27.719238Z",
     "shell.execute_reply": "2022-02-10T11:09:27.718377Z",
     "shell.execute_reply.started": "2022-02-10T11:09:26.345973Z"
    }
   },
   "outputs": [],
   "source": [
    "model2 = Sequential()\n",
    "#Non-trainable embeddidng layer\n",
    "model2.add(Embedding(vocab_size, output_dim=DIM, weights=[embedding_vectors], input_length=maxlen, trainable=False))\n",
    "model2.add(Dropout(0.5))\n",
    "\n",
    "model2.add(Bidirectional(LSTM(units=100)))\n",
    "model2.add(Dropout(0.5))\n",
    "\n",
    "model2.add(Dense(32, activation = 'relu'))\n",
    "model2.add(Dropout(0.5))\n",
    "\n",
    "model2.add(Dense(1, activation='sigmoid'))\n",
    "model2.compile(optimizer='adam', loss='binary_crossentropy', metrics=['acc'])"
   ]
  },
  {
   "cell_type": "code",
   "execution_count": 157,
   "metadata": {
    "execution": {
     "iopub.execute_input": "2022-02-10T11:09:27.724185Z",
     "iopub.status.busy": "2022-02-10T11:09:27.723925Z",
     "iopub.status.idle": "2022-02-10T11:09:27.738077Z",
     "shell.execute_reply": "2022-02-10T11:09:27.737461Z",
     "shell.execute_reply.started": "2022-02-10T11:09:27.724152Z"
    }
   },
   "outputs": [
    {
     "name": "stdout",
     "output_type": "stream",
     "text": [
      "Model: \"sequential_18\"\n",
      "_________________________________________________________________\n",
      "Layer (type)                 Output Shape              Param #   \n",
      "=================================================================\n",
      "embedding_18 (Embedding)     (None, 500, 500)          146289500 \n",
      "_________________________________________________________________\n",
      "dropout_54 (Dropout)         (None, 500, 500)          0         \n",
      "_________________________________________________________________\n",
      "bidirectional_17 (Bidirectio (None, 200)               480800    \n",
      "_________________________________________________________________\n",
      "dropout_55 (Dropout)         (None, 200)               0         \n",
      "_________________________________________________________________\n",
      "dense_36 (Dense)             (None, 32)                6432      \n",
      "_________________________________________________________________\n",
      "dropout_56 (Dropout)         (None, 32)                0         \n",
      "_________________________________________________________________\n",
      "dense_37 (Dense)             (None, 1)                 33        \n",
      "=================================================================\n",
      "Total params: 146,776,765\n",
      "Trainable params: 487,265\n",
      "Non-trainable params: 146,289,500\n",
      "_________________________________________________________________\n"
     ]
    }
   ],
   "source": [
    "model2.summary()"
   ]
  },
  {
   "cell_type": "code",
   "execution_count": 158,
   "metadata": {
    "execution": {
     "iopub.execute_input": "2022-02-10T11:09:35.069350Z",
     "iopub.status.busy": "2022-02-10T11:09:35.068528Z",
     "iopub.status.idle": "2022-02-10T11:14:17.727452Z",
     "shell.execute_reply": "2022-02-10T11:14:17.726711Z",
     "shell.execute_reply.started": "2022-02-10T11:09:35.069279Z"
    }
   },
   "outputs": [
    {
     "name": "stdout",
     "output_type": "stream",
     "text": [
      "Epoch 1/6\n",
      "483/483 [==============================] - 50s 98ms/step - loss: 0.3370 - acc: 0.8491 - val_loss: 0.2415 - val_acc: 0.9012\n",
      "Epoch 2/6\n",
      "483/483 [==============================] - 47s 97ms/step - loss: 0.2268 - acc: 0.9011 - val_loss: 0.1973 - val_acc: 0.9163\n",
      "Epoch 3/6\n",
      "483/483 [==============================] - 47s 97ms/step - loss: 0.1948 - acc: 0.9134 - val_loss: 0.1648 - val_acc: 0.9249\n",
      "Epoch 4/6\n",
      "483/483 [==============================] - 46s 96ms/step - loss: 0.1756 - acc: 0.9212 - val_loss: 0.1838 - val_acc: 0.9171\n",
      "Epoch 5/6\n",
      "483/483 [==============================] - 47s 97ms/step - loss: 0.1624 - acc: 0.9264 - val_loss: 0.1539 - val_acc: 0.9270\n",
      "Epoch 6/6\n",
      "483/483 [==============================] - 46s 96ms/step - loss: 0.1453 - acc: 0.9320 - val_loss: 0.1556 - val_acc: 0.9304\n"
     ]
    }
   ],
   "source": [
    "history1 = model2.fit(X_train, y_train, batch_size = 128, validation_split = 0.2, epochs = 6)"
   ]
  },
  {
   "cell_type": "code",
   "execution_count": 159,
   "metadata": {
    "execution": {
     "iopub.execute_input": "2022-02-10T11:14:17.729711Z",
     "iopub.status.busy": "2022-02-10T11:14:17.729377Z",
     "iopub.status.idle": "2022-02-10T11:14:18.090830Z",
     "shell.execute_reply": "2022-02-10T11:14:18.090153Z",
     "shell.execute_reply.started": "2022-02-10T11:14:17.729672Z"
    }
   },
   "outputs": [
    {
     "name": "stdout",
     "output_type": "stream",
     "text": [
      "dict_keys(['loss', 'acc', 'val_loss', 'val_acc'])\n"
     ]
    },
    {
     "data": {
      "image/png": "[encoded data removed]",
      "text/plain": [
       "<Figure size 432x288 with 1 Axes>"
      ]
     },
     "metadata": {
      "needs_background": "light"
     },
     "output_type": "display_data"
    },
    {
     "data": {
      "image/png": "[encoded data removed]",
      "text/plain": [
       "<Figure size 432x288 with 1 Axes>"
      ]
     },
     "metadata": {
      "needs_background": "light"
     },
     "output_type": "display_data"
    }
   ],
   "source": [
    "plot_loss_n_accuracy(history1)"
   ]
  },
  {
   "cell_type": "code",
   "execution_count": 160,
   "metadata": {
    "execution": {
     "iopub.execute_input": "2022-02-10T11:14:18.092503Z",
     "iopub.status.busy": "2022-02-10T11:14:18.092041Z",
     "iopub.status.idle": "2022-02-10T11:14:39.338883Z",
     "shell.execute_reply": "2022-02-10T11:14:39.338181Z",
     "shell.execute_reply.started": "2022-02-10T11:14:18.092465Z"
    }
   },
   "outputs": [
    {
     "data": {
      "image/png": "[encoded data removed]",
      "text/plain": [
       "<Figure size 432x288 with 2 Axes>"
      ]
     },
     "metadata": {
      "needs_background": "light"
     },
     "output_type": "display_data"
    }
   ],
   "source": [
    "# Prediction on test set using bi-directional lstm\n",
    "\n",
    "prediction_bilstm = prediction_result(model2, X_test)\n",
    "confusion_mat(y_test, prediction_bilstm)"
   ]
  },
  {
   "cell_type": "code",
   "execution_count": 161,
   "metadata": {
    "execution": {
     "iopub.execute_input": "2022-02-10T11:14:39.341386Z",
     "iopub.status.busy": "2022-02-10T11:14:39.341111Z",
     "iopub.status.idle": "2022-02-10T11:14:39.385031Z",
     "shell.execute_reply": "2022-02-10T11:14:39.384356Z",
     "shell.execute_reply.started": "2022-02-10T11:14:39.341351Z"
    }
   },
   "outputs": [
    {
     "name": "stdout",
     "output_type": "stream",
     "text": [
      "              precision    recall  f1-score   support\n",
      "\n",
      "           0     0.9359    0.9360    0.9360      9569\n",
      "           1     0.9371    0.9370    0.9371      9735\n",
      "\n",
      "    accuracy                         0.9365     19304\n",
      "   macro avg     0.9365    0.9365    0.9365     19304\n",
      "weighted avg     0.9365    0.9365    0.9365     19304\n",
      "\n"
     ]
    }
   ],
   "source": [
    "print(classification_report(y_test, prediction_bilstm, digits = 4))"
   ]
  },
  {
   "cell_type": "code",
   "execution_count": null,
   "metadata": {},
   "outputs": [],
   "source": []
  },
  {
   "cell_type": "code",
   "execution_count": null,
   "metadata": {},
   "outputs": [],
   "source": []
  },
  {
   "cell_type": "markdown",
   "metadata": {},
   "source": [
    "# Testing on test datasets"
   ]
  },
  {
   "cell_type": "code",
   "execution_count": 22,
   "metadata": {
    "execution": {
     "iopub.execute_input": "2022-02-10T06:56:54.104407Z",
     "iopub.status.busy": "2022-02-10T06:56:54.104132Z",
     "iopub.status.idle": "2022-02-10T06:56:54.765245Z",
     "shell.execute_reply": "2022-02-10T06:56:54.764517Z",
     "shell.execute_reply.started": "2022-02-10T06:56:54.104370Z"
    }
   },
   "outputs": [],
   "source": [
    "#Importing test datasets\n",
    "test_df1 = pd.read_csv('Test/test1.csv')\n",
    "test_df2 = pd.read_csv('Test/test2.csv')\n",
    "\n"
   ]
  },
  {
   "cell_type": "code",
   "execution_count": 34,
   "metadata": {
    "execution": {
     "iopub.execute_input": "2022-02-10T06:56:54.766843Z",
     "iopub.status.busy": "2022-02-10T06:56:54.766607Z",
     "iopub.status.idle": "2022-02-10T06:56:54.789875Z",
     "shell.execute_reply": "2022-02-10T06:56:54.789268Z",
     "shell.execute_reply.started": "2022-02-10T06:56:54.766811Z"
    }
   },
   "outputs": [],
   "source": [
    "# Droping if row does not contain any word.\n",
    "# Resetting indexes\n",
    "# for both test datasets\n",
    "\n",
    "test_df1 = test_df1.drop(test_df1[test_df1['word_count']<=0].index)\n",
    "test_df1.fillna(\"\", inplace = True)\n",
    "test_df1 = test_df1.sample(frac = 1)\n",
    "test_df1.reset_index(inplace = True)\n",
    "\n",
    "\n",
    "test_df2 = test_df2.drop(test_df2[test_df2['word_count']<=0].index)\n",
    "test_df2.fillna(\"\", inplace = True)\n",
    "test_df2 = test_df2.sample(frac = 1)\n",
    "test_df2.reset_index(inplace = True)"
   ]
  },
  {
   "cell_type": "code",
   "execution_count": null,
   "metadata": {},
   "outputs": [],
   "source": []
  },
  {
   "cell_type": "code",
   "execution_count": 35,
   "metadata": {
    "execution": {
     "iopub.execute_input": "2022-02-10T06:56:54.791519Z",
     "iopub.status.busy": "2022-02-10T06:56:54.791254Z",
     "iopub.status.idle": "2022-02-10T06:56:55.218055Z",
     "shell.execute_reply": "2022-02-10T06:56:55.217340Z",
     "shell.execute_reply.started": "2022-02-10T06:56:54.791484Z"
    }
   },
   "outputs": [],
   "source": [
    "# Creating lists of words\n",
    "X_df1 = [sent.split() for sent in test_df1.cleaned_article.tolist()]\n",
    "X_df2 = [sent.split() for sent in test_df2.cleaned_article.tolist()]\n",
    "\n",
    "# Storing actual labels\n",
    "label_y1 = test_df1.label\n",
    "label_y2 = test_df2.label"
   ]
  },
  {
   "cell_type": "code",
   "execution_count": 36,
   "metadata": {
    "execution": {
     "iopub.execute_input": "2022-02-10T06:56:55.219588Z",
     "iopub.status.busy": "2022-02-10T06:56:55.219341Z",
     "iopub.status.idle": "2022-02-10T06:56:57.243243Z",
     "shell.execute_reply": "2022-02-10T06:56:57.242506Z",
     "shell.execute_reply.started": "2022-02-10T06:56:55.219548Z"
    }
   },
   "outputs": [],
   "source": [
    "# Tokenizing word using Tokenizer created in training phase\n",
    "sequence_df1 = tokenizer.texts_to_sequences(X_df1)\n",
    "sequence_df2 = tokenizer.texts_to_sequences(X_df2)"
   ]
  },
  {
   "cell_type": "code",
   "execution_count": 37,
   "metadata": {
    "execution": {
     "iopub.execute_input": "2022-02-10T06:56:57.245047Z",
     "iopub.status.busy": "2022-02-10T06:56:57.244771Z",
     "iopub.status.idle": "2022-02-10T06:56:57.915277Z",
     "shell.execute_reply": "2022-02-10T06:56:57.914540Z",
     "shell.execute_reply.started": "2022-02-10T06:56:57.245014Z"
    }
   },
   "outputs": [],
   "source": [
    "# Padding sequence so all rows will be of same length\n",
    "test_1 = pad_sequences(sequence_df1, maxlen=maxlen, padding = 'post')\n",
    "test_2 = pad_sequences(sequence_df2, maxlen=maxlen, padding = 'post')"
   ]
  },
  {
   "cell_type": "code",
   "execution_count": null,
   "metadata": {},
   "outputs": [],
   "source": []
  },
  {
   "cell_type": "markdown",
   "metadata": {},
   "source": [
    "## LSTM prediction"
   ]
  },
  {
   "cell_type": "markdown",
   "metadata": {},
   "source": [
    "### Test Dataset 1"
   ]
  },
  {
   "cell_type": "code",
   "execution_count": 166,
   "metadata": {
    "execution": {
     "iopub.execute_input": "2022-02-10T11:26:31.561159Z",
     "iopub.status.busy": "2022-02-10T11:26:31.560612Z",
     "iopub.status.idle": "2022-02-10T11:26:36.933527Z",
     "shell.execute_reply": "2022-02-10T11:26:36.932727Z",
     "shell.execute_reply.started": "2022-02-10T11:26:31.561124Z"
    }
   },
   "outputs": [
    {
     "data": {
      "image/png": "[encoded data removed]",
      "text/plain": [
       "<Figure size 432x288 with 2 Axes>"
      ]
     },
     "metadata": {
      "needs_background": "light"
     },
     "output_type": "display_data"
    }
   ],
   "source": [
    "test1_pred_lstm = prediction_result(model1, test_1)\n",
    "confusion_mat(label_y1, test1_pred_lstm)"
   ]
  },
  {
   "cell_type": "code",
   "execution_count": 167,
   "metadata": {
    "execution": {
     "iopub.execute_input": "2022-02-10T11:26:36.935846Z",
     "iopub.status.busy": "2022-02-10T11:26:36.935470Z",
     "iopub.status.idle": "2022-02-10T11:26:36.958081Z",
     "shell.execute_reply": "2022-02-10T11:26:36.957249Z",
     "shell.execute_reply.started": "2022-02-10T11:26:36.935802Z"
    }
   },
   "outputs": [
    {
     "name": "stdout",
     "output_type": "stream",
     "text": [
      "              precision    recall  f1-score   support\n",
      "\n",
      "           0     0.6845    0.6082    0.6441      2846\n",
      "           1     0.5799    0.6585    0.6167      2337\n",
      "\n",
      "    accuracy                         0.6309      5183\n",
      "   macro avg     0.6322    0.6334    0.6304      5183\n",
      "weighted avg     0.6373    0.6309    0.6317      5183\n",
      "\n"
     ]
    }
   ],
   "source": [
    "print(classification_report(label_y1, test1_pred_lstm, digits = 4))"
   ]
  },
  {
   "cell_type": "markdown",
   "metadata": {},
   "source": [
    "### Test Dataset 2"
   ]
  },
  {
   "cell_type": "code",
   "execution_count": 168,
   "metadata": {
    "execution": {
     "iopub.execute_input": "2022-02-10T11:26:36.960485Z",
     "iopub.status.busy": "2022-02-10T11:26:36.959943Z",
     "iopub.status.idle": "2022-02-10T11:26:47.440997Z",
     "shell.execute_reply": "2022-02-10T11:26:47.440337Z",
     "shell.execute_reply.started": "2022-02-10T11:26:36.960445Z"
    }
   },
   "outputs": [
    {
     "data": {
      "image/png": "[encoded data removed]",
      "text/plain": [
       "<Figure size 432x288 with 2 Axes>"
      ]
     },
     "metadata": {
      "needs_background": "light"
     },
     "output_type": "display_data"
    }
   ],
   "source": [
    "test2_pred_lstm = prediction_result(model1, test_2)\n",
    "confusion_mat(label_y2, test2_pred_lstm)"
   ]
  },
  {
   "cell_type": "code",
   "execution_count": 169,
   "metadata": {
    "execution": {
     "iopub.execute_input": "2022-02-10T11:26:47.443519Z",
     "iopub.status.busy": "2022-02-10T11:26:47.443262Z",
     "iopub.status.idle": "2022-02-10T11:26:47.464616Z",
     "shell.execute_reply": "2022-02-10T11:26:47.463937Z",
     "shell.execute_reply.started": "2022-02-10T11:26:47.443485Z"
    }
   },
   "outputs": [
    {
     "name": "stdout",
     "output_type": "stream",
     "text": [
      "              precision    recall  f1-score   support\n",
      "\n",
      "           0     0.7055    0.9766    0.8192      3164\n",
      "           1     0.9621    0.5932    0.7339      3171\n",
      "\n",
      "    accuracy                         0.7847      6335\n",
      "   macro avg     0.8338    0.7849    0.7765      6335\n",
      "weighted avg     0.8340    0.7847    0.7765      6335\n",
      "\n"
     ]
    }
   ],
   "source": [
    "print(classification_report(label_y2, test2_pred_lstm, digits = 4))"
   ]
  },
  {
   "cell_type": "markdown",
   "metadata": {},
   "source": [
    "## Bi-direction LSTM prediction"
   ]
  },
  {
   "cell_type": "markdown",
   "metadata": {},
   "source": [
    "### Test Dataset 1"
   ]
  },
  {
   "cell_type": "code",
   "execution_count": 170,
   "metadata": {
    "execution": {
     "iopub.execute_input": "2022-02-10T11:26:47.465983Z",
     "iopub.status.busy": "2022-02-10T11:26:47.465671Z",
     "iopub.status.idle": "2022-02-10T11:26:50.992021Z",
     "shell.execute_reply": "2022-02-10T11:26:50.991367Z",
     "shell.execute_reply.started": "2022-02-10T11:26:47.465944Z"
    }
   },
   "outputs": [
    {
     "data": {
      "image/png": "[encoded data removed]",
      "text/plain": [
       "<Figure size 432x288 with 2 Axes>"
      ]
     },
     "metadata": {
      "needs_background": "light"
     },
     "output_type": "display_data"
    }
   ],
   "source": [
    "test1_pred_bilstm = prediction_result(model2, test_1)\n",
    "confusion_mat(label_y1, test1_pred_bilstm)"
   ]
  },
  {
   "cell_type": "code",
   "execution_count": 171,
   "metadata": {
    "execution": {
     "iopub.execute_input": "2022-02-10T11:26:50.994157Z",
     "iopub.status.busy": "2022-02-10T11:26:50.993338Z",
     "iopub.status.idle": "2022-02-10T11:26:51.014450Z",
     "shell.execute_reply": "2022-02-10T11:26:51.013795Z",
     "shell.execute_reply.started": "2022-02-10T11:26:50.994118Z"
    }
   },
   "outputs": [
    {
     "name": "stdout",
     "output_type": "stream",
     "text": [
      "              precision    recall  f1-score   support\n",
      "\n",
      "           0     0.6636    0.6300    0.6464      2846\n",
      "           1     0.5756    0.6110    0.5928      2337\n",
      "\n",
      "    accuracy                         0.6215      5183\n",
      "   macro avg     0.6196    0.6205    0.6196      5183\n",
      "weighted avg     0.6239    0.6215    0.6222      5183\n",
      "\n"
     ]
    }
   ],
   "source": [
    "print(classification_report(label_y1, test1_pred_bilstm, digits = 4))"
   ]
  },
  {
   "cell_type": "markdown",
   "metadata": {},
   "source": [
    "### Test Dataset 2"
   ]
  },
  {
   "cell_type": "code",
   "execution_count": 172,
   "metadata": {
    "execution": {
     "iopub.execute_input": "2022-02-10T11:26:51.015538Z",
     "iopub.status.busy": "2022-02-10T11:26:51.015354Z",
     "iopub.status.idle": "2022-02-10T11:26:56.386346Z",
     "shell.execute_reply": "2022-02-10T11:26:56.385580Z",
     "shell.execute_reply.started": "2022-02-10T11:26:51.015515Z"
    }
   },
   "outputs": [
    {
     "data": {
      "image/png": "[encoded data removed]",
      "text/plain": [
       "<Figure size 432x288 with 2 Axes>"
      ]
     },
     "metadata": {
      "needs_background": "light"
     },
     "output_type": "display_data"
    }
   ],
   "source": [
    "test2_pred_bilstm = prediction_result(model2, test_2)\n",
    "confusion_mat(label_y2, test2_pred_bilstm)"
   ]
  },
  {
   "cell_type": "code",
   "execution_count": 173,
   "metadata": {
    "execution": {
     "iopub.execute_input": "2022-02-10T11:26:56.395366Z",
     "iopub.status.busy": "2022-02-10T11:26:56.391362Z",
     "iopub.status.idle": "2022-02-10T11:26:56.428070Z",
     "shell.execute_reply": "2022-02-10T11:26:56.427353Z",
     "shell.execute_reply.started": "2022-02-10T11:26:56.395327Z"
    }
   },
   "outputs": [
    {
     "name": "stdout",
     "output_type": "stream",
     "text": [
      "              precision    recall  f1-score   support\n",
      "\n",
      "           0     0.6369    0.9820    0.7727      3164\n",
      "           1     0.9609    0.4415    0.6050      3171\n",
      "\n",
      "    accuracy                         0.7114      6335\n",
      "   macro avg     0.7989    0.7117    0.6889      6335\n",
      "weighted avg     0.7991    0.7114    0.6888      6335\n",
      "\n"
     ]
    }
   ],
   "source": [
    "print(classification_report(label_y2, test2_pred_bilstm, digits = 4))"
   ]
  },
  {
   "cell_type": "code",
   "execution_count": null,
   "metadata": {},
   "outputs": [],
   "source": []
  },
  {
   "cell_type": "code",
   "execution_count": null,
   "metadata": {
    "execution": {
     "iopub.execute_input": "2022-02-10T06:57:22.926117Z",
     "iopub.status.busy": "2022-02-10T06:57:22.925458Z",
     "iopub.status.idle": "2022-02-10T06:57:25.500101Z",
     "shell.execute_reply": "2022-02-10T06:57:25.499197Z",
     "shell.execute_reply.started": "2022-02-10T06:57:22.926071Z"
    },
    "scrolled": true
   },
   "outputs": [],
   "source": [
    "model1.save_weights(\"model1.h5\")\n",
    "model2.save_weights(\"model2.h5\")"
   ]
  },
  {
   "cell_type": "code",
   "execution_count": null,
   "metadata": {},
   "outputs": [],
   "source": []
  },
  {
   "cell_type": "code",
   "execution_count": null,
   "metadata": {},
   "outputs": [],
   "source": []
  },
  {
   "cell_type": "code",
   "execution_count": null,
   "metadata": {},
   "outputs": [],
   "source": []
  },
  {
   "cell_type": "code",
   "execution_count": null,
   "metadata": {},
   "outputs": [],
   "source": []
  }
 ],
 "metadata": {
  "kernelspec": {
   "display_name": "Python 3",
   "language": "python",
   "name": "python3"
  },
  "language_info": {
   "codemirror_mode": {
    "name": "ipython",
    "version": 3
   },
   "file_extension": ".py",
   "mimetype": "text/x-python",
   "name": "python",
   "nbconvert_exporter": "python",
   "pygments_lexer": "ipython3",
   "version": "3.9.7"
  }
 },
 "nbformat": 4,
 "nbformat_minor": 4
}
