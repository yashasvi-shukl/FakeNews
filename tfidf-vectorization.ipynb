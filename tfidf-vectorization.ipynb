{
 "cells": [
  {
   "cell_type": "code",
   "execution_count": 33,
   "id": "7b4ac28e",
   "metadata": {
    "execution": {
     "iopub.execute_input": "2022-01-13T22:52:50.817377Z",
     "iopub.status.busy": "2022-01-13T22:52:50.816390Z",
     "iopub.status.idle": "2022-01-13T22:52:52.230015Z",
     "shell.execute_reply": "2022-01-13T22:52:52.230570Z",
     "shell.execute_reply.started": "2022-01-13T20:28:36.468235Z"
    },
    "papermill": {
     "duration": 1.512247,
     "end_time": "2022-01-13T22:52:52.230916",
     "exception": false,
     "start_time": "2022-01-13T22:52:50.718669",
     "status": "completed"
    },
    "tags": []
   },
   "outputs": [],
   "source": [
    "import warnings\n",
    "warnings.filterwarnings('ignore')\n",
    "\n",
    "import pandas as pd\n",
    "import numpy as np\n",
    "import seaborn as sn\n",
    "from sklearn.metrics import confusion_matrix, accuracy_score\n",
    "from sklearn.linear_model import LogisticRegression\n",
    "from sklearn.metrics import classification_report\n",
    "from sklearn import tree\n",
    "from sklearn.neighbors import KNeighborsClassifier\n",
    "from sklearn.svm import LinearSVC\n",
    "from sklearn.ensemble import GradientBoostingClassifier\n",
    "from sklearn.model_selection import GridSearchCV\n",
    "import xgboost as xgb\n",
    "from xgboost.sklearn import XGBClassifier\n",
    "from sklearn.feature_extraction.text import CountVectorizer\n",
    "from sklearn.feature_extraction.text import TfidfVectorizer\n",
    "from sklearn.pipeline import make_pipeline\n",
    "from sklearn.naive_bayes import MultinomialNB\n",
    "from sklearn.ensemble import ExtraTreesClassifier\n",
    "from sklearn.ensemble import RandomForestClassifier\n",
    "from sklearn.linear_model import PassiveAggressiveClassifier"
   ]
  },
  {
   "cell_type": "code",
   "execution_count": 34,
   "id": "a459c435",
   "metadata": {
    "execution": {
     "iopub.execute_input": "2022-01-13T22:52:52.330094Z",
     "iopub.status.busy": "2022-01-13T22:52:52.329270Z",
     "iopub.status.idle": "2022-01-13T22:52:56.412981Z",
     "shell.execute_reply": "2022-01-13T22:52:56.412448Z",
     "shell.execute_reply.started": "2022-01-13T20:28:37.661008Z"
    },
    "papermill": {
     "duration": 4.134165,
     "end_time": "2022-01-13T22:52:56.413136",
     "exception": false,
     "start_time": "2022-01-13T22:52:52.278971",
     "status": "completed"
    },
    "tags": []
   },
   "outputs": [
    {
     "data": {
      "text/html": [
       "<div>\n",
       "<style scoped>\n",
       "    .dataframe tbody tr th:only-of-type {\n",
       "        vertical-align: middle;\n",
       "    }\n",
       "\n",
       "    .dataframe tbody tr th {\n",
       "        vertical-align: top;\n",
       "    }\n",
       "\n",
       "    .dataframe thead th {\n",
       "        text-align: right;\n",
       "    }\n",
       "</style>\n",
       "<table border=\"1\" class=\"dataframe\">\n",
       "  <thead>\n",
       "    <tr style=\"text-align: right;\">\n",
       "      <th></th>\n",
       "      <th>label</th>\n",
       "      <th>cleaned_article</th>\n",
       "      <th>num_punctuations</th>\n",
       "      <th>no_of_stopwords</th>\n",
       "      <th>no_of_quesMarks</th>\n",
       "      <th>no_of_exclamation</th>\n",
       "      <th>no_of_sentence</th>\n",
       "      <th>sentiment</th>\n",
       "      <th>cc_cd</th>\n",
       "      <th>determiner</th>\n",
       "      <th>...</th>\n",
       "      <th>noun</th>\n",
       "      <th>adverb</th>\n",
       "      <th>verb</th>\n",
       "      <th>article_len</th>\n",
       "      <th>negations</th>\n",
       "      <th>polarity</th>\n",
       "      <th>word_count</th>\n",
       "      <th>avg_word_len</th>\n",
       "      <th>num_unique_words</th>\n",
       "      <th>num_chars</th>\n",
       "    </tr>\n",
       "  </thead>\n",
       "  <tbody>\n",
       "    <tr>\n",
       "      <th>0</th>\n",
       "      <td>1</td>\n",
       "      <td>seeking best woman final return fridaysunday y...</td>\n",
       "      <td>139</td>\n",
       "      <td>634</td>\n",
       "      <td>5</td>\n",
       "      <td>0</td>\n",
       "      <td>41</td>\n",
       "      <td>Positive</td>\n",
       "      <td>37</td>\n",
       "      <td>98</td>\n",
       "      <td>...</td>\n",
       "      <td>236</td>\n",
       "      <td>27</td>\n",
       "      <td>150</td>\n",
       "      <td>4563</td>\n",
       "      <td>6</td>\n",
       "      <td>0.049887</td>\n",
       "      <td>357</td>\n",
       "      <td>6.392157</td>\n",
       "      <td>234</td>\n",
       "      <td>2638</td>\n",
       "    </tr>\n",
       "    <tr>\n",
       "      <th>1</th>\n",
       "      <td>0</td>\n",
       "      <td>harsh reality come taking responsibility life ...</td>\n",
       "      <td>112</td>\n",
       "      <td>702</td>\n",
       "      <td>2</td>\n",
       "      <td>3</td>\n",
       "      <td>37</td>\n",
       "      <td>Positive</td>\n",
       "      <td>53</td>\n",
       "      <td>79</td>\n",
       "      <td>...</td>\n",
       "      <td>196</td>\n",
       "      <td>85</td>\n",
       "      <td>230</td>\n",
       "      <td>5470</td>\n",
       "      <td>15</td>\n",
       "      <td>0.029320</td>\n",
       "      <td>347</td>\n",
       "      <td>6.573487</td>\n",
       "      <td>263</td>\n",
       "      <td>2627</td>\n",
       "    </tr>\n",
       "    <tr>\n",
       "      <th>2</th>\n",
       "      <td>0</td>\n",
       "      <td>finally obama speaks american need reconcile t...</td>\n",
       "      <td>65</td>\n",
       "      <td>415</td>\n",
       "      <td>1</td>\n",
       "      <td>0</td>\n",
       "      <td>21</td>\n",
       "      <td>Positive</td>\n",
       "      <td>17</td>\n",
       "      <td>67</td>\n",
       "      <td>...</td>\n",
       "      <td>145</td>\n",
       "      <td>28</td>\n",
       "      <td>116</td>\n",
       "      <td>3324</td>\n",
       "      <td>2</td>\n",
       "      <td>0.222891</td>\n",
       "      <td>244</td>\n",
       "      <td>6.950820</td>\n",
       "      <td>172</td>\n",
       "      <td>1939</td>\n",
       "    </tr>\n",
       "    <tr>\n",
       "      <th>3</th>\n",
       "      <td>1</td>\n",
       "      <td>house plan increase trump disaster request was...</td>\n",
       "      <td>46</td>\n",
       "      <td>221</td>\n",
       "      <td>0</td>\n",
       "      <td>0</td>\n",
       "      <td>9</td>\n",
       "      <td>Negative</td>\n",
       "      <td>19</td>\n",
       "      <td>19</td>\n",
       "      <td>...</td>\n",
       "      <td>87</td>\n",
       "      <td>5</td>\n",
       "      <td>33</td>\n",
       "      <td>1514</td>\n",
       "      <td>0</td>\n",
       "      <td>-0.062500</td>\n",
       "      <td>127</td>\n",
       "      <td>7.385827</td>\n",
       "      <td>97</td>\n",
       "      <td>1064</td>\n",
       "    </tr>\n",
       "    <tr>\n",
       "      <th>4</th>\n",
       "      <td>1</td>\n",
       "      <td>leftist cusp power weary icelander poll reykja...</td>\n",
       "      <td>89</td>\n",
       "      <td>523</td>\n",
       "      <td>0</td>\n",
       "      <td>0</td>\n",
       "      <td>26</td>\n",
       "      <td>Positive</td>\n",
       "      <td>35</td>\n",
       "      <td>67</td>\n",
       "      <td>...</td>\n",
       "      <td>193</td>\n",
       "      <td>16</td>\n",
       "      <td>120</td>\n",
       "      <td>3851</td>\n",
       "      <td>0</td>\n",
       "      <td>0.134749</td>\n",
       "      <td>313</td>\n",
       "      <td>6.872204</td>\n",
       "      <td>230</td>\n",
       "      <td>2463</td>\n",
       "    </tr>\n",
       "    <tr>\n",
       "      <th>...</th>\n",
       "      <td>...</td>\n",
       "      <td>...</td>\n",
       "      <td>...</td>\n",
       "      <td>...</td>\n",
       "      <td>...</td>\n",
       "      <td>...</td>\n",
       "      <td>...</td>\n",
       "      <td>...</td>\n",
       "      <td>...</td>\n",
       "      <td>...</td>\n",
       "      <td>...</td>\n",
       "      <td>...</td>\n",
       "      <td>...</td>\n",
       "      <td>...</td>\n",
       "      <td>...</td>\n",
       "      <td>...</td>\n",
       "      <td>...</td>\n",
       "      <td>...</td>\n",
       "      <td>...</td>\n",
       "      <td>...</td>\n",
       "      <td>...</td>\n",
       "    </tr>\n",
       "    <tr>\n",
       "      <th>96512</th>\n",
       "      <td>1</td>\n",
       "      <td>german prosecutor accuse farright party leader...</td>\n",
       "      <td>33</td>\n",
       "      <td>217</td>\n",
       "      <td>0</td>\n",
       "      <td>0</td>\n",
       "      <td>12</td>\n",
       "      <td>Positive</td>\n",
       "      <td>9</td>\n",
       "      <td>43</td>\n",
       "      <td>...</td>\n",
       "      <td>88</td>\n",
       "      <td>9</td>\n",
       "      <td>51</td>\n",
       "      <td>1794</td>\n",
       "      <td>0</td>\n",
       "      <td>0.023260</td>\n",
       "      <td>140</td>\n",
       "      <td>6.657143</td>\n",
       "      <td>97</td>\n",
       "      <td>1071</td>\n",
       "    </tr>\n",
       "    <tr>\n",
       "      <th>96513</th>\n",
       "      <td>0</td>\n",
       "      <td>facebook posting switzerland government issue ...</td>\n",
       "      <td>8</td>\n",
       "      <td>16</td>\n",
       "      <td>0</td>\n",
       "      <td>3</td>\n",
       "      <td>5</td>\n",
       "      <td>Negative</td>\n",
       "      <td>0</td>\n",
       "      <td>7</td>\n",
       "      <td>...</td>\n",
       "      <td>11</td>\n",
       "      <td>1</td>\n",
       "      <td>3</td>\n",
       "      <td>159</td>\n",
       "      <td>0</td>\n",
       "      <td>0.200000</td>\n",
       "      <td>13</td>\n",
       "      <td>7.153846</td>\n",
       "      <td>13</td>\n",
       "      <td>105</td>\n",
       "    </tr>\n",
       "    <tr>\n",
       "      <th>96514</th>\n",
       "      <td>1</td>\n",
       "      <td>president trump immediate investigation chuck ...</td>\n",
       "      <td>43</td>\n",
       "      <td>244</td>\n",
       "      <td>0</td>\n",
       "      <td>2</td>\n",
       "      <td>15</td>\n",
       "      <td>Negative</td>\n",
       "      <td>17</td>\n",
       "      <td>24</td>\n",
       "      <td>...</td>\n",
       "      <td>105</td>\n",
       "      <td>3</td>\n",
       "      <td>37</td>\n",
       "      <td>1706</td>\n",
       "      <td>1</td>\n",
       "      <td>0.028571</td>\n",
       "      <td>145</td>\n",
       "      <td>6.951724</td>\n",
       "      <td>85</td>\n",
       "      <td>1152</td>\n",
       "    </tr>\n",
       "    <tr>\n",
       "      <th>96515</th>\n",
       "      <td>0</td>\n",
       "      <td>zapatistas solidarizamse resistncia yaqui zapa...</td>\n",
       "      <td>51</td>\n",
       "      <td>440</td>\n",
       "      <td>0</td>\n",
       "      <td>0</td>\n",
       "      <td>9</td>\n",
       "      <td>Negative</td>\n",
       "      <td>8</td>\n",
       "      <td>21</td>\n",
       "      <td>...</td>\n",
       "      <td>234</td>\n",
       "      <td>2</td>\n",
       "      <td>66</td>\n",
       "      <td>2661</td>\n",
       "      <td>3</td>\n",
       "      <td>0.033333</td>\n",
       "      <td>267</td>\n",
       "      <td>6.981273</td>\n",
       "      <td>179</td>\n",
       "      <td>2130</td>\n",
       "    </tr>\n",
       "    <tr>\n",
       "      <th>96516</th>\n",
       "      <td>0</td>\n",
       "      <td>obama action fight violence rage incoming twee...</td>\n",
       "      <td>81</td>\n",
       "      <td>458</td>\n",
       "      <td>0</td>\n",
       "      <td>0</td>\n",
       "      <td>14</td>\n",
       "      <td>Negative</td>\n",
       "      <td>42</td>\n",
       "      <td>43</td>\n",
       "      <td>...</td>\n",
       "      <td>187</td>\n",
       "      <td>20</td>\n",
       "      <td>98</td>\n",
       "      <td>3397</td>\n",
       "      <td>4</td>\n",
       "      <td>-0.058415</td>\n",
       "      <td>278</td>\n",
       "      <td>6.877698</td>\n",
       "      <td>194</td>\n",
       "      <td>2189</td>\n",
       "    </tr>\n",
       "  </tbody>\n",
       "</table>\n",
       "<p>96517 rows × 24 columns</p>\n",
       "</div>"
      ],
      "text/plain": [
       "       label                                    cleaned_article  \\\n",
       "0          1  seeking best woman final return fridaysunday y...   \n",
       "1          0  harsh reality come taking responsibility life ...   \n",
       "2          0  finally obama speaks american need reconcile t...   \n",
       "3          1  house plan increase trump disaster request was...   \n",
       "4          1  leftist cusp power weary icelander poll reykja...   \n",
       "...      ...                                                ...   \n",
       "96512      1  german prosecutor accuse farright party leader...   \n",
       "96513      0  facebook posting switzerland government issue ...   \n",
       "96514      1  president trump immediate investigation chuck ...   \n",
       "96515      0  zapatistas solidarizamse resistncia yaqui zapa...   \n",
       "96516      0  obama action fight violence rage incoming twee...   \n",
       "\n",
       "       num_punctuations  no_of_stopwords  no_of_quesMarks  no_of_exclamation  \\\n",
       "0                   139              634                5                  0   \n",
       "1                   112              702                2                  3   \n",
       "2                    65              415                1                  0   \n",
       "3                    46              221                0                  0   \n",
       "4                    89              523                0                  0   \n",
       "...                 ...              ...              ...                ...   \n",
       "96512                33              217                0                  0   \n",
       "96513                 8               16                0                  3   \n",
       "96514                43              244                0                  2   \n",
       "96515                51              440                0                  0   \n",
       "96516                81              458                0                  0   \n",
       "\n",
       "       no_of_sentence sentiment  cc_cd  determiner  ...  noun  adverb  verb  \\\n",
       "0                  41  Positive     37          98  ...   236      27   150   \n",
       "1                  37  Positive     53          79  ...   196      85   230   \n",
       "2                  21  Positive     17          67  ...   145      28   116   \n",
       "3                   9  Negative     19          19  ...    87       5    33   \n",
       "4                  26  Positive     35          67  ...   193      16   120   \n",
       "...               ...       ...    ...         ...  ...   ...     ...   ...   \n",
       "96512              12  Positive      9          43  ...    88       9    51   \n",
       "96513               5  Negative      0           7  ...    11       1     3   \n",
       "96514              15  Negative     17          24  ...   105       3    37   \n",
       "96515               9  Negative      8          21  ...   234       2    66   \n",
       "96516              14  Negative     42          43  ...   187      20    98   \n",
       "\n",
       "       article_len  negations  polarity  word_count  avg_word_len  \\\n",
       "0             4563          6  0.049887         357      6.392157   \n",
       "1             5470         15  0.029320         347      6.573487   \n",
       "2             3324          2  0.222891         244      6.950820   \n",
       "3             1514          0 -0.062500         127      7.385827   \n",
       "4             3851          0  0.134749         313      6.872204   \n",
       "...            ...        ...       ...         ...           ...   \n",
       "96512         1794          0  0.023260         140      6.657143   \n",
       "96513          159          0  0.200000          13      7.153846   \n",
       "96514         1706          1  0.028571         145      6.951724   \n",
       "96515         2661          3  0.033333         267      6.981273   \n",
       "96516         3397          4 -0.058415         278      6.877698   \n",
       "\n",
       "       num_unique_words  num_chars  \n",
       "0                   234       2638  \n",
       "1                   263       2627  \n",
       "2                   172       1939  \n",
       "3                    97       1064  \n",
       "4                   230       2463  \n",
       "...                 ...        ...  \n",
       "96512                97       1071  \n",
       "96513                13        105  \n",
       "96514                85       1152  \n",
       "96515               179       2130  \n",
       "96516               194       2189  \n",
       "\n",
       "[96517 rows x 24 columns]"
      ]
     },
     "execution_count": 34,
     "metadata": {},
     "output_type": "execute_result"
    }
   ],
   "source": [
    "df = pd.read_csv('training_set.csv')\n",
    "df"
   ]
  },
  {
   "cell_type": "code",
   "execution_count": 35,
   "id": "f9cc1c08",
   "metadata": {},
   "outputs": [
    {
     "data": {
      "text/plain": [
       "<AxesSubplot:xlabel='word_count', ylabel='Count'>"
      ]
     },
     "execution_count": 35,
     "metadata": {},
     "output_type": "execute_result"
    },
    {
     "data": {
      "image/png": "[encoded data removed]",
      "text/plain": [
       "<Figure size 432x288 with 1 Axes>"
      ]
     },
     "metadata": {
      "needs_background": "light"
     },
     "output_type": "display_data"
    }
   ],
   "source": [
    "sn.histplot(df['word_count'])"
   ]
  },
  {
   "cell_type": "code",
   "execution_count": 36,
   "id": "b42f8155",
   "metadata": {},
   "outputs": [],
   "source": [
    "#df = df[(df['word_count']>10) & (df['word_count']<8000)]"
   ]
  },
  {
   "cell_type": "code",
   "execution_count": 37,
   "id": "3002ec61",
   "metadata": {
    "execution": {
     "iopub.execute_input": "2022-01-13T22:52:56.512822Z",
     "iopub.status.busy": "2022-01-13T22:52:56.512115Z",
     "iopub.status.idle": "2022-01-13T22:52:56.516468Z",
     "shell.execute_reply": "2022-01-13T22:52:56.515925Z",
     "shell.execute_reply.started": "2022-01-13T20:28:41.249973Z"
    },
    "papermill": {
     "duration": 0.0579,
     "end_time": "2022-01-13T22:52:56.516610",
     "exception": false,
     "start_time": "2022-01-13T22:52:56.458710",
     "status": "completed"
    },
    "tags": []
   },
   "outputs": [],
   "source": [
    "# Sentiment is a categorical data, we have to encode it for model training\n",
    "from sklearn.preprocessing import OneHotEncoder\n",
    "def Encoding_sentiment(df):\n",
    "    encoder = OneHotEncoder(drop = 'first') # Creating object of OneHotEncoder class\n",
    "    encoded_sentiment = encoder.fit_transform(pd.DataFrame(df['sentiment'])).toarray().astype(int) # Fitting to the data\n",
    "    column_names = encoder.get_feature_names() # Getting feature name\n",
    "    encoded_sentiment = pd.DataFrame(encoded_sentiment, columns = column_names)  # Creating dataframe of encoded feature\n",
    "    encoded_sentiment.reset_index(drop=True, inplace=True)\n",
    "    df.reset_index(drop=True, inplace=True)\n",
    "    df = pd.concat([df, encoded_sentiment], axis = 1) # Concatinating newly created sentiment dataframe into original dataframe\n",
    "    #print(df.isna().sum())\n",
    "    df.drop('sentiment', axis = 1, inplace = True) # dropping sentiment column as I have already encoded this categorical feature\n",
    "    return df"
   ]
  },
  {
   "cell_type": "code",
   "execution_count": 38,
   "id": "563c84b3",
   "metadata": {
    "execution": {
     "iopub.execute_input": "2022-01-13T22:52:56.616685Z",
     "iopub.status.busy": "2022-01-13T22:52:56.615713Z",
     "iopub.status.idle": "2022-01-13T22:52:56.714065Z",
     "shell.execute_reply": "2022-01-13T22:52:56.713465Z",
     "shell.execute_reply.started": "2022-01-13T20:28:41.258215Z"
    },
    "papermill": {
     "duration": 0.151496,
     "end_time": "2022-01-13T22:52:56.714224",
     "exception": false,
     "start_time": "2022-01-13T22:52:56.562728",
     "status": "completed"
    },
    "scrolled": true,
    "tags": []
   },
   "outputs": [],
   "source": [
    "df = Encoding_sentiment(df) # Calling the function to encode Sentiment column which is a categorial feature"
   ]
  },
  {
   "cell_type": "code",
   "execution_count": 39,
   "id": "bef6248c",
   "metadata": {
    "execution": {
     "iopub.execute_input": "2022-01-13T22:52:56.822991Z",
     "iopub.status.busy": "2022-01-13T22:52:56.821616Z",
     "iopub.status.idle": "2022-01-13T22:52:56.832406Z",
     "shell.execute_reply": "2022-01-13T22:52:56.831797Z",
     "shell.execute_reply.started": "2022-01-13T20:28:41.367491Z"
    },
    "papermill": {
     "duration": 0.070652,
     "end_time": "2022-01-13T22:52:56.832562",
     "exception": false,
     "start_time": "2022-01-13T22:52:56.761910",
     "status": "completed"
    },
    "tags": []
   },
   "outputs": [],
   "source": [
    "#num_fea = df.drop(['cleaned_article', 'label'], axis = 1).values # Training features\n",
    "#y = df['label'].values # Target variable"
   ]
  },
  {
   "cell_type": "markdown",
   "id": "de91420d",
   "metadata": {
    "papermill": {
     "duration": 0.045324,
     "end_time": "2022-01-13T22:52:57.157445",
     "exception": false,
     "start_time": "2022-01-13T22:52:57.112121",
     "status": "completed"
    },
    "tags": []
   },
   "source": [
    "## Test 1"
   ]
  },
  {
   "cell_type": "code",
   "execution_count": 40,
   "id": "8567a6a7",
   "metadata": {
    "execution": {
     "iopub.execute_input": "2022-01-13T22:52:57.253638Z",
     "iopub.status.busy": "2022-01-13T22:52:57.252965Z",
     "iopub.status.idle": "2022-01-13T22:52:57.602657Z",
     "shell.execute_reply": "2022-01-13T22:52:57.601991Z",
     "shell.execute_reply.started": "2022-01-13T20:28:41.435591Z"
    },
    "papermill": {
     "duration": 0.4006,
     "end_time": "2022-01-13T22:52:57.602856",
     "exception": false,
     "start_time": "2022-01-13T22:52:57.202256",
     "status": "completed"
    },
    "scrolled": true,
    "tags": []
   },
   "outputs": [],
   "source": [
    "# Importing testing dataset 1\n",
    "test_df1 = pd.read_csv('Test/test1.csv') \n",
    "test_df1 = Encoding_sentiment(test_df1) # Encoding categorical features\n",
    "test_df1.drop(index = list(test_df1[test_df1['word_count']==0].index),inplace = True, axis = 0) # dropping all those rows which have word count zero in other words rows which have empty article\n",
    "test1_num = test_df1.drop(['cleaned_article','label'], axis = 1).values # Testing features\n",
    "label_y1 = test_df1['label'].values # Testing labels\n",
    "#test1_num = sc.transform(test1_num) # scaling features"
   ]
  },
  {
   "cell_type": "markdown",
   "id": "2c52ea57",
   "metadata": {
    "papermill": {
     "duration": 0.045283,
     "end_time": "2022-01-13T22:52:57.693546",
     "exception": false,
     "start_time": "2022-01-13T22:52:57.648263",
     "status": "completed"
    },
    "tags": []
   },
   "source": [
    "## Test 2"
   ]
  },
  {
   "cell_type": "code",
   "execution_count": 41,
   "id": "dc7822ee",
   "metadata": {
    "execution": {
     "iopub.execute_input": "2022-01-13T22:52:57.789081Z",
     "iopub.status.busy": "2022-01-13T22:52:57.788380Z",
     "iopub.status.idle": "2022-01-13T22:52:58.215687Z",
     "shell.execute_reply": "2022-01-13T22:52:58.215094Z",
     "shell.execute_reply.started": "2022-01-13T20:28:41.778147Z"
    },
    "papermill": {
     "duration": 0.477038,
     "end_time": "2022-01-13T22:52:58.215844",
     "exception": false,
     "start_time": "2022-01-13T22:52:57.738806",
     "status": "completed"
    },
    "tags": []
   },
   "outputs": [],
   "source": [
    "# Importing testing dataset 2\n",
    "test_df2 = pd.read_csv('Test/test2.csv')\n",
    "test_df2 = Encoding_sentiment(test_df2)\n",
    "test_df2.drop(index = list(test_df2[test_df2['word_count']==0].index),inplace = True, axis = 0)\n",
    "test2_num = test_df2.drop(['cleaned_article','label'], axis = 1).values\n",
    "test_df2.dropna(inplace = True)\n",
    "label_y2 = test_df2['label'].values\n",
    "#test2_num = sc.transform(test2_num)"
   ]
  },
  {
   "cell_type": "code",
   "execution_count": 42,
   "id": "39672217",
   "metadata": {
    "execution": {
     "iopub.execute_input": "2022-01-13T22:52:58.330378Z",
     "iopub.status.busy": "2022-01-13T22:52:58.327510Z",
     "iopub.status.idle": "2022-01-13T22:52:58.345971Z",
     "shell.execute_reply": "2022-01-13T22:52:58.345339Z",
     "shell.execute_reply.started": "2022-01-13T20:28:42.188544Z"
    },
    "papermill": {
     "duration": 0.083511,
     "end_time": "2022-01-13T22:52:58.346145",
     "exception": false,
     "start_time": "2022-01-13T22:52:58.262634",
     "status": "completed"
    },
    "tags": []
   },
   "outputs": [],
   "source": [
    "from sklearn.model_selection import train_test_split\n",
    "X_train, X_test, y_train, y_test = train_test_split(df.drop('label', axis = 1),df['label'], test_size = 0.2)"
   ]
  },
  {
   "cell_type": "code",
   "execution_count": 43,
   "id": "52b15c89",
   "metadata": {
    "execution": {
     "iopub.execute_input": "2022-01-13T22:52:58.517984Z",
     "iopub.status.busy": "2022-01-13T22:52:58.486807Z",
     "iopub.status.idle": "2022-01-13T22:53:30.407035Z",
     "shell.execute_reply": "2022-01-13T22:53:30.406052Z",
     "shell.execute_reply.started": "2022-01-13T20:28:42.208643Z"
    },
    "papermill": {
     "duration": 32.015037,
     "end_time": "2022-01-13T22:53:30.407191",
     "exception": false,
     "start_time": "2022-01-13T22:52:58.392154",
     "status": "completed"
    },
    "tags": []
   },
   "outputs": [],
   "source": [
    "#Initialize a TfidfVectorizer\n",
    "tfidf_vectorizer=TfidfVectorizer(stop_words='english', max_df=0.7)\n",
    "\n",
    "#Fit and transform train set, transform test set\n",
    "tfidf_train=tfidf_vectorizer.fit_transform(X_train['cleaned_article']) \n",
    "tfidf_test=tfidf_vectorizer.transform(X_test['cleaned_article'])"
   ]
  },
  {
   "cell_type": "code",
   "execution_count": 44,
   "id": "679618fd",
   "metadata": {
    "execution": {
     "iopub.execute_input": "2022-01-13T22:53:30.511344Z",
     "iopub.status.busy": "2022-01-13T22:53:30.510357Z",
     "iopub.status.idle": "2022-01-13T22:53:35.899873Z",
     "shell.execute_reply": "2022-01-13T22:53:35.899298Z",
     "shell.execute_reply.started": "2022-01-13T20:29:10.142865Z"
    },
    "papermill": {
     "duration": 5.448073,
     "end_time": "2022-01-13T22:53:35.900023",
     "exception": false,
     "start_time": "2022-01-13T22:53:30.451950",
     "status": "completed"
    },
    "tags": []
   },
   "outputs": [],
   "source": [
    "test1_vec = tfidf_vectorizer.transform(test_df1['cleaned_article'])\n",
    "test2_vec = tfidf_vectorizer.transform(test_df2['cleaned_article'])"
   ]
  },
  {
   "cell_type": "code",
   "execution_count": 45,
   "id": "ba8cc6a9",
   "metadata": {},
   "outputs": [
    {
     "data": {
      "text/plain": [
       "<19304x271500 sparse matrix of type '<class 'numpy.float64'>'\n",
       "\twith 3045088 stored elements in Compressed Sparse Row format>"
      ]
     },
     "execution_count": 45,
     "metadata": {},
     "output_type": "execute_result"
    }
   ],
   "source": [
    "tfidf_test"
   ]
  },
  {
   "cell_type": "markdown",
   "id": "940cbcc5",
   "metadata": {
    "papermill": {
     "duration": 0.044804,
     "end_time": "2022-01-13T22:53:35.991635",
     "exception": false,
     "start_time": "2022-01-13T22:53:35.946831",
     "status": "completed"
    },
    "tags": []
   },
   "source": [
    "# Models"
   ]
  },
  {
   "cell_type": "markdown",
   "id": "aa510ff4",
   "metadata": {
    "papermill": {
     "duration": 0.044457,
     "end_time": "2022-01-13T22:53:36.079957",
     "exception": false,
     "start_time": "2022-01-13T22:53:36.035500",
     "status": "completed"
    },
    "tags": []
   },
   "source": [
    "## Logistic Regression"
   ]
  },
  {
   "cell_type": "code",
   "execution_count": 46,
   "id": "303c320a",
   "metadata": {
    "execution": {
     "iopub.execute_input": "2022-01-13T22:53:36.174988Z",
     "iopub.status.busy": "2022-01-13T22:53:36.173520Z",
     "iopub.status.idle": "2022-01-13T22:53:48.577174Z",
     "shell.execute_reply": "2022-01-13T22:53:48.576262Z",
     "shell.execute_reply.started": "2022-01-13T19:57:44.328719Z"
    },
    "papermill": {
     "duration": 12.453513,
     "end_time": "2022-01-13T22:53:48.577348",
     "exception": false,
     "start_time": "2022-01-13T22:53:36.123835",
     "status": "completed"
    },
    "tags": []
   },
   "outputs": [
    {
     "data": {
      "text/plain": [
       "<AxesSubplot:>"
      ]
     },
     "execution_count": 46,
     "metadata": {},
     "output_type": "execute_result"
    },
    {
     "data": {
      "image/png": "[encoded data removed]",
      "text/plain": [
       "<Figure size 432x288 with 2 Axes>"
      ]
     },
     "metadata": {
      "needs_background": "light"
     },
     "output_type": "display_data"
    }
   ],
   "source": [
    "log_cls = LogisticRegression(penalty='l2', max_iter=250, solver = 'saga') # creating class object\n",
    "log_cls.fit(tfidf_train, y_train) # fitting to the training set\n",
    "\n",
    "log_ypred = log_cls.predict(tfidf_test) # predicting on testset\n",
    "\n",
    "# Ploting Confusion Matrix\n",
    "cm = confusion_matrix(y_test, log_ypred)\n",
    "sn.heatmap(cm, annot=True, fmt=\"d\")"
   ]
  },
  {
   "cell_type": "code",
   "execution_count": 47,
   "id": "14a00be8",
   "metadata": {
    "execution": {
     "iopub.execute_input": "2022-01-13T22:53:48.676477Z",
     "iopub.status.busy": "2022-01-13T22:53:48.675439Z",
     "iopub.status.idle": "2022-01-13T22:53:48.709422Z",
     "shell.execute_reply": "2022-01-13T22:53:48.710057Z",
     "shell.execute_reply.started": "2022-01-13T19:57:53.958907Z"
    },
    "papermill": {
     "duration": 0.086348,
     "end_time": "2022-01-13T22:53:48.710238",
     "exception": false,
     "start_time": "2022-01-13T22:53:48.623890",
     "status": "completed"
    },
    "tags": []
   },
   "outputs": [
    {
     "name": "stdout",
     "output_type": "stream",
     "text": [
      "              precision    recall  f1-score   support\n",
      "\n",
      "           0     0.9155    0.9090    0.9122      9855\n",
      "           1     0.9058    0.9125    0.9091      9449\n",
      "\n",
      "    accuracy                         0.9107     19304\n",
      "   macro avg     0.9106    0.9107    0.9107     19304\n",
      "weighted avg     0.9107    0.9107    0.9107     19304\n",
      "\n"
     ]
    }
   ],
   "source": [
    "# Classification report of test set\n",
    "print(classification_report(y_test, log_ypred, digits = 4))"
   ]
  },
  {
   "cell_type": "code",
   "execution_count": 48,
   "id": "6684b910",
   "metadata": {
    "execution": {
     "iopub.execute_input": "2022-01-13T22:53:48.809040Z",
     "iopub.status.busy": "2022-01-13T22:53:48.808035Z",
     "iopub.status.idle": "2022-01-13T22:53:48.830784Z",
     "shell.execute_reply": "2022-01-13T22:53:48.831360Z",
     "shell.execute_reply.started": "2022-01-13T19:58:13.037409Z"
    },
    "papermill": {
     "duration": 0.07481,
     "end_time": "2022-01-13T22:53:48.831552",
     "exception": false,
     "start_time": "2022-01-13T22:53:48.756742",
     "status": "completed"
    },
    "tags": []
   },
   "outputs": [
    {
     "name": "stdout",
     "output_type": "stream",
     "text": [
      "              precision    recall  f1-score   support\n",
      "\n",
      "           0     0.6776    0.6107    0.6424      2846\n",
      "           1     0.5768    0.6461    0.6095      2337\n",
      "\n",
      "    accuracy                         0.6267      5183\n",
      "   macro avg     0.6272    0.6284    0.6259      5183\n",
      "weighted avg     0.6321    0.6267    0.6276      5183\n",
      "\n"
     ]
    }
   ],
   "source": [
    "# Predicting on first test dataset\n",
    "test1_log_ypred = log_cls.predict(test1_vec)\n",
    "print(classification_report(label_y1, test1_log_ypred, digits = 4))"
   ]
  },
  {
   "cell_type": "code",
   "execution_count": 49,
   "id": "e69a08be",
   "metadata": {
    "execution": {
     "iopub.execute_input": "2022-01-13T22:53:48.932514Z",
     "iopub.status.busy": "2022-01-13T22:53:48.931463Z",
     "iopub.status.idle": "2022-01-13T22:53:48.955386Z",
     "shell.execute_reply": "2022-01-13T22:53:48.955877Z",
     "shell.execute_reply.started": "2022-01-13T19:58:35.756022Z"
    },
    "papermill": {
     "duration": 0.076887,
     "end_time": "2022-01-13T22:53:48.956073",
     "exception": false,
     "start_time": "2022-01-13T22:53:48.879186",
     "status": "completed"
    },
    "tags": []
   },
   "outputs": [
    {
     "name": "stdout",
     "output_type": "stream",
     "text": [
      "              precision    recall  f1-score   support\n",
      "\n",
      "           0     0.7069    0.9460    0.8091      3164\n",
      "           1     0.9186    0.6086    0.7322      3171\n",
      "\n",
      "    accuracy                         0.7771      6335\n",
      "   macro avg     0.8128    0.7773    0.7707      6335\n",
      "weighted avg     0.8129    0.7771    0.7706      6335\n",
      "\n"
     ]
    }
   ],
   "source": [
    "# Predicting on 2nd test dataset\n",
    "test2_log_pred = log_cls.predict(test2_vec)\n",
    "print(classification_report(label_y2, test2_log_pred, digits = 4))"
   ]
  },
  {
   "cell_type": "code",
   "execution_count": null,
   "id": "8b621999",
   "metadata": {},
   "outputs": [],
   "source": []
  },
  {
   "cell_type": "code",
   "execution_count": null,
   "id": "2b02093d",
   "metadata": {},
   "outputs": [],
   "source": []
  },
  {
   "cell_type": "markdown",
   "id": "dac82e4e",
   "metadata": {},
   "source": [
    "### Similarly I will train and test model using other algorithms as did using Logistic Regression"
   ]
  },
  {
   "cell_type": "markdown",
   "id": "5d3886dd",
   "metadata": {
    "papermill": {
     "duration": 0.045064,
     "end_time": "2022-01-13T22:53:49.142107",
     "exception": false,
     "start_time": "2022-01-13T22:53:49.097043",
     "status": "completed"
    },
    "tags": []
   },
   "source": [
    "## KNN"
   ]
  },
  {
   "cell_type": "code",
   "execution_count": 50,
   "id": "74ad82cd",
   "metadata": {
    "execution": {
     "iopub.execute_input": "2022-01-13T22:53:49.244676Z",
     "iopub.status.busy": "2022-01-13T22:53:49.243187Z",
     "iopub.status.idle": "2022-01-13T22:56:47.488132Z",
     "shell.execute_reply": "2022-01-13T22:56:47.488678Z",
     "shell.execute_reply.started": "2022-01-13T20:34:07.606851Z"
    },
    "papermill": {
     "duration": 178.300852,
     "end_time": "2022-01-13T22:56:47.488877",
     "exception": false,
     "start_time": "2022-01-13T22:53:49.188025",
     "status": "completed"
    },
    "tags": []
   },
   "outputs": [
    {
     "data": {
      "text/plain": [
       "<AxesSubplot:>"
      ]
     },
     "execution_count": 50,
     "metadata": {},
     "output_type": "execute_result"
    },
    {
     "data": {
      "image/png": "[encoded data removed]",
      "text/plain": [
       "<Figure size 432x288 with 2 Axes>"
      ]
     },
     "metadata": {
      "needs_background": "light"
     },
     "output_type": "display_data"
    }
   ],
   "source": [
    "knn_cls = KNeighborsClassifier(n_neighbors=5, n_jobs=-1)\n",
    "knn_cls.fit(tfidf_train, y_train)\n",
    "knn_ypred = knn_cls.predict(tfidf_test)\n",
    "\n",
    "cm = confusion_matrix(y_test, knn_ypred)\n",
    "sn.heatmap(cm, annot=True, fmt=\"d\")"
   ]
  },
  {
   "cell_type": "code",
   "execution_count": 51,
   "id": "51bad56b",
   "metadata": {
    "execution": {
     "iopub.execute_input": "2022-01-13T22:56:47.593499Z",
     "iopub.status.busy": "2022-01-13T22:56:47.592493Z",
     "iopub.status.idle": "2022-01-13T22:56:47.625222Z",
     "shell.execute_reply": "2022-01-13T22:56:47.624222Z",
     "shell.execute_reply.started": "2022-01-13T20:36:13.469698Z"
    },
    "papermill": {
     "duration": 0.088004,
     "end_time": "2022-01-13T22:56:47.625456",
     "exception": false,
     "start_time": "2022-01-13T22:56:47.537452",
     "status": "completed"
    },
    "tags": []
   },
   "outputs": [
    {
     "name": "stdout",
     "output_type": "stream",
     "text": [
      "              precision    recall  f1-score   support\n",
      "\n",
      "           0     0.8596    0.7113    0.7785      9855\n",
      "           1     0.7448    0.8788    0.8063      9449\n",
      "\n",
      "    accuracy                         0.7933     19304\n",
      "   macro avg     0.8022    0.7951    0.7924     19304\n",
      "weighted avg     0.8034    0.7933    0.7921     19304\n",
      "\n"
     ]
    }
   ],
   "source": [
    "# Classification report on test set\n",
    "print(classification_report(y_test, knn_ypred, digits = 4))"
   ]
  },
  {
   "cell_type": "code",
   "execution_count": 52,
   "id": "26e3299d",
   "metadata": {
    "execution": {
     "iopub.execute_input": "2022-01-13T22:56:47.731316Z",
     "iopub.status.busy": "2022-01-13T22:56:47.729800Z",
     "iopub.status.idle": "2022-01-13T22:57:43.372370Z",
     "shell.execute_reply": "2022-01-13T22:57:43.373139Z",
     "shell.execute_reply.started": "2022-01-13T20:36:13.507050Z"
    },
    "papermill": {
     "duration": 55.69849,
     "end_time": "2022-01-13T22:57:43.373379",
     "exception": false,
     "start_time": "2022-01-13T22:56:47.674889",
     "status": "completed"
    },
    "tags": []
   },
   "outputs": [
    {
     "name": "stdout",
     "output_type": "stream",
     "text": [
      "              precision    recall  f1-score   support\n",
      "\n",
      "           0     0.6474    0.5502    0.5949      2846\n",
      "           1     0.5369    0.6350    0.5818      2337\n",
      "\n",
      "    accuracy                         0.5885      5183\n",
      "   macro avg     0.5921    0.5926    0.5884      5183\n",
      "weighted avg     0.5976    0.5885    0.5890      5183\n",
      "\n"
     ]
    }
   ],
   "source": [
    "# classification report on 1st test Dataset\n",
    "test1_knn_ypred = knn_cls.predict(test1_vec)\n",
    "print(classification_report(label_y1, test1_knn_ypred, digits = 4))"
   ]
  },
  {
   "cell_type": "code",
   "execution_count": 53,
   "id": "6d1e5ae5",
   "metadata": {
    "execution": {
     "iopub.execute_input": "2022-01-13T22:57:43.480102Z",
     "iopub.status.busy": "2022-01-13T22:57:43.479029Z",
     "iopub.status.idle": "2022-01-13T22:58:52.203810Z",
     "shell.execute_reply": "2022-01-13T22:58:52.204626Z",
     "shell.execute_reply.started": "2022-01-13T20:36:57.664313Z"
    },
    "papermill": {
     "duration": 68.782131,
     "end_time": "2022-01-13T22:58:52.204952",
     "exception": false,
     "start_time": "2022-01-13T22:57:43.422821",
     "status": "completed"
    },
    "tags": []
   },
   "outputs": [
    {
     "name": "stdout",
     "output_type": "stream",
     "text": [
      "              precision    recall  f1-score   support\n",
      "\n",
      "           0     0.7675    0.8597    0.8110      3164\n",
      "           1     0.8409    0.7401    0.7873      3171\n",
      "\n",
      "    accuracy                         0.7998      6335\n",
      "   macro avg     0.8042    0.7999    0.7991      6335\n",
      "weighted avg     0.8042    0.7998    0.7991      6335\n",
      "\n"
     ]
    }
   ],
   "source": [
    "# classification report on 2nd test Dataset\n",
    "test2_knn_ypred = knn_cls.predict(test2_vec)\n",
    "print(classification_report(label_y2, test2_knn_ypred, digits = 4))"
   ]
  },
  {
   "cell_type": "code",
   "execution_count": null,
   "id": "93368777",
   "metadata": {
    "papermill": {
     "duration": 0.052851,
     "end_time": "2022-01-13T22:58:52.309162",
     "exception": false,
     "start_time": "2022-01-13T22:58:52.256311",
     "status": "completed"
    },
    "tags": []
   },
   "outputs": [],
   "source": []
  },
  {
   "cell_type": "code",
   "execution_count": null,
   "id": "40764bfd",
   "metadata": {},
   "outputs": [],
   "source": []
  },
  {
   "cell_type": "markdown",
   "id": "31d50ba2",
   "metadata": {
    "papermill": {
     "duration": 0.048636,
     "end_time": "2022-01-13T22:58:52.407699",
     "exception": false,
     "start_time": "2022-01-13T22:58:52.359063",
     "status": "completed"
    },
    "tags": []
   },
   "source": [
    "## Linear SVC"
   ]
  },
  {
   "cell_type": "code",
   "execution_count": 54,
   "id": "d77a38a7",
   "metadata": {
    "execution": {
     "iopub.execute_input": "2022-01-13T22:58:52.516103Z",
     "iopub.status.busy": "2022-01-13T22:58:52.514802Z",
     "iopub.status.idle": "2022-01-13T22:58:54.444477Z",
     "shell.execute_reply": "2022-01-13T22:58:54.443878Z",
     "shell.execute_reply.started": "2022-01-13T20:01:36.405879Z"
    },
    "papermill": {
     "duration": 1.986806,
     "end_time": "2022-01-13T22:58:54.444644",
     "exception": false,
     "start_time": "2022-01-13T22:58:52.457838",
     "status": "completed"
    },
    "tags": []
   },
   "outputs": [
    {
     "data": {
      "text/plain": [
       "<AxesSubplot:>"
      ]
     },
     "execution_count": 54,
     "metadata": {},
     "output_type": "execute_result"
    },
    {
     "data": {
      "image/png": "[encoded data removed]",
      "text/plain": [
       "<Figure size 432x288 with 2 Axes>"
      ]
     },
     "metadata": {
      "needs_background": "light"
     },
     "output_type": "display_data"
    }
   ],
   "source": [
    "# Model Training\n",
    "svc_clf = LinearSVC(max_iter = 2500, loss = 'squared_hinge', C = 0.01)\n",
    "svc_clf.fit(tfidf_train, y_train)\n",
    "svc_ypred = svc_clf.predict(tfidf_test)\n",
    "\n",
    "cm = confusion_matrix(y_test, svc_ypred)\n",
    "sn.heatmap(cm, annot=True, fmt=\"d\")"
   ]
  },
  {
   "cell_type": "code",
   "execution_count": 55,
   "id": "eee1577f",
   "metadata": {
    "execution": {
     "iopub.execute_input": "2022-01-13T22:58:54.552434Z",
     "iopub.status.busy": "2022-01-13T22:58:54.551397Z",
     "iopub.status.idle": "2022-01-13T22:58:54.585304Z",
     "shell.execute_reply": "2022-01-13T22:58:54.585986Z",
     "shell.execute_reply.started": "2022-01-13T20:01:47.315978Z"
    },
    "papermill": {
     "duration": 0.088279,
     "end_time": "2022-01-13T22:58:54.586224",
     "exception": false,
     "start_time": "2022-01-13T22:58:54.497945",
     "status": "completed"
    },
    "tags": []
   },
   "outputs": [
    {
     "name": "stdout",
     "output_type": "stream",
     "text": [
      "              precision    recall  f1-score   support\n",
      "\n",
      "           0     0.8803    0.8812    0.8807      9855\n",
      "           1     0.8759    0.8750    0.8755      9449\n",
      "\n",
      "    accuracy                         0.8782     19304\n",
      "   macro avg     0.8781    0.8781    0.8781     19304\n",
      "weighted avg     0.8782    0.8782    0.8782     19304\n",
      "\n"
     ]
    }
   ],
   "source": [
    "# Classification report of test set\n",
    "print(classification_report(y_test, svc_ypred, digits = 4))"
   ]
  },
  {
   "cell_type": "code",
   "execution_count": 56,
   "id": "d09f4dbc",
   "metadata": {
    "execution": {
     "iopub.execute_input": "2022-01-13T22:58:54.702925Z",
     "iopub.status.busy": "2022-01-13T22:58:54.701754Z",
     "iopub.status.idle": "2022-01-13T22:58:54.724264Z",
     "shell.execute_reply": "2022-01-13T22:58:54.723676Z",
     "shell.execute_reply.started": "2022-01-13T20:02:01.810485Z"
    },
    "papermill": {
     "duration": 0.080327,
     "end_time": "2022-01-13T22:58:54.724438",
     "exception": false,
     "start_time": "2022-01-13T22:58:54.644111",
     "status": "completed"
    },
    "tags": []
   },
   "outputs": [
    {
     "name": "stdout",
     "output_type": "stream",
     "text": [
      "              precision    recall  f1-score   support\n",
      "\n",
      "           0     0.6764    0.6177    0.6457      2846\n",
      "           1     0.5789    0.6401    0.6080      2337\n",
      "\n",
      "    accuracy                         0.6278      5183\n",
      "   macro avg     0.6277    0.6289    0.6269      5183\n",
      "weighted avg     0.6325    0.6278    0.6287      5183\n",
      "\n"
     ]
    }
   ],
   "source": [
    "# Prediction on 1st Test Dataset\n",
    "test1_svc_ypred = svc_clf.predict(test1_vec)\n",
    "print(classification_report(label_y1, test1_svc_ypred, digits = 4))"
   ]
  },
  {
   "cell_type": "code",
   "execution_count": 57,
   "id": "85489e4a",
   "metadata": {
    "execution": {
     "iopub.execute_input": "2022-01-13T22:58:54.834692Z",
     "iopub.status.busy": "2022-01-13T22:58:54.833999Z",
     "iopub.status.idle": "2022-01-13T22:58:54.860963Z",
     "shell.execute_reply": "2022-01-13T22:58:54.860016Z",
     "shell.execute_reply.started": "2022-01-13T20:03:08.522404Z"
    },
    "papermill": {
     "duration": 0.084542,
     "end_time": "2022-01-13T22:58:54.861115",
     "exception": false,
     "start_time": "2022-01-13T22:58:54.776573",
     "status": "completed"
    },
    "tags": []
   },
   "outputs": [
    {
     "name": "stdout",
     "output_type": "stream",
     "text": [
      "              precision    recall  f1-score   support\n",
      "\n",
      "           0     0.7023    0.8954    0.7872      3164\n",
      "           1     0.8561    0.6213    0.7200      3171\n",
      "\n",
      "    accuracy                         0.7582      6335\n",
      "   macro avg     0.7792    0.7583    0.7536      6335\n",
      "weighted avg     0.7793    0.7582    0.7536      6335\n",
      "\n"
     ]
    }
   ],
   "source": [
    "# Prediction on 2nd Test Dataset\n",
    "test2_svc_ypred = svc_clf.predict(test2_vec)\n",
    "print(classification_report(label_y2, test2_svc_ypred, digits = 4))"
   ]
  },
  {
   "cell_type": "code",
   "execution_count": null,
   "id": "b4a31668",
   "metadata": {
    "papermill": {
     "duration": 0.052642,
     "end_time": "2022-01-13T22:58:54.965800",
     "exception": false,
     "start_time": "2022-01-13T22:58:54.913158",
     "status": "completed"
    },
    "tags": []
   },
   "outputs": [],
   "source": []
  },
  {
   "cell_type": "code",
   "execution_count": null,
   "id": "f0043bd8",
   "metadata": {},
   "outputs": [],
   "source": []
  },
  {
   "cell_type": "markdown",
   "id": "7475f261",
   "metadata": {
    "papermill": {
     "duration": 0.052093,
     "end_time": "2022-01-13T23:18:46.608486",
     "exception": false,
     "start_time": "2022-01-13T23:18:46.556393",
     "status": "completed"
    },
    "tags": []
   },
   "source": [
    "## Passive Aggressive"
   ]
  },
  {
   "cell_type": "code",
   "execution_count": 62,
   "id": "5573fd3b",
   "metadata": {
    "execution": {
     "iopub.execute_input": "2022-01-13T23:18:46.721571Z",
     "iopub.status.busy": "2022-01-13T23:18:46.720240Z",
     "iopub.status.idle": "2022-01-13T23:18:50.602238Z",
     "shell.execute_reply": "2022-01-13T23:18:50.601653Z",
     "shell.execute_reply.started": "2022-01-13T20:43:37.887978Z"
    },
    "papermill": {
     "duration": 3.942695,
     "end_time": "2022-01-13T23:18:50.602434",
     "exception": false,
     "start_time": "2022-01-13T23:18:46.659739",
     "status": "completed"
    },
    "tags": []
   },
   "outputs": [
    {
     "data": {
      "text/plain": [
       "<AxesSubplot:>"
      ]
     },
     "execution_count": 62,
     "metadata": {},
     "output_type": "execute_result"
    },
    {
     "data": {
      "image/png": "[encoded data removed]",
      "text/plain": [
       "<Figure size 432x288 with 2 Axes>"
      ]
     },
     "metadata": {
      "needs_background": "light"
     },
     "output_type": "display_data"
    }
   ],
   "source": [
    "#Initialize a PassiveAggressiveClassifier\n",
    "from sklearn.linear_model import PassiveAggressiveClassifier\n",
    "pac=PassiveAggressiveClassifier(max_iter=1500, C = 0.1, n_jobs=-1)\n",
    "pac.fit(tfidf_train,y_train)\n",
    "\n",
    "#Predict on the test set and calculate accuracy\n",
    "pac_ypred = pac.predict(tfidf_test)\n",
    "\n",
    "cm = confusion_matrix(y_test, pac_ypred)\n",
    "sn.heatmap(cm, annot=True, fmt=\"d\")"
   ]
  },
  {
   "cell_type": "code",
   "execution_count": 63,
   "id": "a53f6a2c",
   "metadata": {
    "execution": {
     "iopub.execute_input": "2022-01-13T23:18:50.719516Z",
     "iopub.status.busy": "2022-01-13T23:18:50.718397Z",
     "iopub.status.idle": "2022-01-13T23:18:50.753257Z",
     "shell.execute_reply": "2022-01-13T23:18:50.752700Z",
     "shell.execute_reply.started": "2022-01-13T20:43:43.535703Z"
    },
    "papermill": {
     "duration": 0.094543,
     "end_time": "2022-01-13T23:18:50.753447",
     "exception": false,
     "start_time": "2022-01-13T23:18:50.658904",
     "status": "completed"
    },
    "tags": []
   },
   "outputs": [
    {
     "name": "stdout",
     "output_type": "stream",
     "text": [
      "              precision    recall  f1-score   support\n",
      "\n",
      "           0     0.9345    0.9294    0.9319      9855\n",
      "           1     0.9268    0.9321    0.9294      9449\n",
      "\n",
      "    accuracy                         0.9307     19304\n",
      "   macro avg     0.9306    0.9307    0.9307     19304\n",
      "weighted avg     0.9307    0.9307    0.9307     19304\n",
      "\n"
     ]
    }
   ],
   "source": [
    "# Classification report of test set\n",
    "print(classification_report(y_test, pac_ypred, digits = 4))"
   ]
  },
  {
   "cell_type": "code",
   "execution_count": 64,
   "id": "dd38044f",
   "metadata": {
    "execution": {
     "iopub.execute_input": "2022-01-13T23:18:50.869199Z",
     "iopub.status.busy": "2022-01-13T23:18:50.868529Z",
     "iopub.status.idle": "2022-01-13T23:18:50.891858Z",
     "shell.execute_reply": "2022-01-13T23:18:50.891248Z",
     "shell.execute_reply.started": "2022-01-13T20:44:26.199999Z"
    },
    "papermill": {
     "duration": 0.08348,
     "end_time": "2022-01-13T23:18:50.892031",
     "exception": false,
     "start_time": "2022-01-13T23:18:50.808551",
     "status": "completed"
    },
    "tags": []
   },
   "outputs": [
    {
     "name": "stdout",
     "output_type": "stream",
     "text": [
      "              precision    recall  f1-score   support\n",
      "\n",
      "           0     0.6634    0.5991    0.6296      2846\n",
      "           1     0.5633    0.6299    0.5947      2337\n",
      "\n",
      "    accuracy                         0.6130      5183\n",
      "   macro avg     0.6134    0.6145    0.6122      5183\n",
      "weighted avg     0.6183    0.6130    0.6139      5183\n",
      "\n"
     ]
    }
   ],
   "source": [
    "# Prediction on 1st Test Dataset\n",
    "test1_pac_ypred = pac.predict(test1_vec)\n",
    "print(classification_report(label_y1, test1_pac_ypred, digits = 4))"
   ]
  },
  {
   "cell_type": "code",
   "execution_count": 65,
   "id": "4bd7a3bb",
   "metadata": {
    "execution": {
     "iopub.execute_input": "2022-01-13T23:18:51.010648Z",
     "iopub.status.busy": "2022-01-13T23:18:51.009628Z",
     "iopub.status.idle": "2022-01-13T23:18:51.035016Z",
     "shell.execute_reply": "2022-01-13T23:18:51.034483Z",
     "shell.execute_reply.started": "2022-01-13T20:44:41.127454Z"
    },
    "papermill": {
     "duration": 0.086177,
     "end_time": "2022-01-13T23:18:51.035174",
     "exception": false,
     "start_time": "2022-01-13T23:18:50.948997",
     "status": "completed"
    },
    "scrolled": true,
    "tags": []
   },
   "outputs": [
    {
     "name": "stdout",
     "output_type": "stream",
     "text": [
      "              precision    recall  f1-score   support\n",
      "\n",
      "           0     0.7024    0.9741    0.8162      3164\n",
      "           1     0.9579    0.5881    0.7288      3171\n",
      "\n",
      "    accuracy                         0.7809      6335\n",
      "   macro avg     0.8301    0.7811    0.7725      6335\n",
      "weighted avg     0.8303    0.7809    0.7725      6335\n",
      "\n"
     ]
    }
   ],
   "source": [
    "# # Prediction on 2nd Test Dataset\n",
    "\n",
    "test2_pac_ypred = pac.predict(test2_vec)\n",
    "print(classification_report(label_y2, test2_pac_ypred, digits = 4))"
   ]
  },
  {
   "cell_type": "code",
   "execution_count": null,
   "id": "db9baf1d",
   "metadata": {},
   "outputs": [],
   "source": []
  },
  {
   "cell_type": "code",
   "execution_count": null,
   "id": "e11f3421",
   "metadata": {},
   "outputs": [],
   "source": []
  },
  {
   "cell_type": "code",
   "execution_count": null,
   "id": "0dc5553a",
   "metadata": {},
   "outputs": [],
   "source": []
  },
  {
   "cell_type": "markdown",
   "id": "804bd720",
   "metadata": {
    "papermill": {
     "duration": 0.04987,
     "end_time": "2022-01-13T22:58:55.067904",
     "exception": false,
     "start_time": "2022-01-13T22:58:55.018034",
     "status": "completed"
    },
    "tags": []
   },
   "source": [
    "# Random Forest"
   ]
  },
  {
   "cell_type": "code",
   "execution_count": 58,
   "id": "158a55d8",
   "metadata": {
    "execution": {
     "iopub.execute_input": "2022-01-13T22:58:55.176998Z",
     "iopub.status.busy": "2022-01-13T22:58:55.175553Z",
     "iopub.status.idle": "2022-01-13T23:18:39.492146Z",
     "shell.execute_reply": "2022-01-13T23:18:39.492762Z",
     "shell.execute_reply.started": "2022-01-13T20:04:02.067190Z"
    },
    "papermill": {
     "duration": 1184.375269,
     "end_time": "2022-01-13T23:18:39.492949",
     "exception": false,
     "start_time": "2022-01-13T22:58:55.117680",
     "status": "completed"
    },
    "tags": []
   },
   "outputs": [
    {
     "data": {
      "text/plain": [
       "<AxesSubplot:>"
      ]
     },
     "execution_count": 58,
     "metadata": {},
     "output_type": "execute_result"
    },
    {
     "data": {
      "image/png": "[encoded data removed]",
      "text/plain": [
       "<Figure size 432x288 with 2 Axes>"
      ]
     },
     "metadata": {
      "needs_background": "light"
     },
     "output_type": "display_data"
    }
   ],
   "source": [
    "# Training Random Forest classifier on training set\n",
    "\n",
    "rand_forest_cls = RandomForestClassifier(n_estimators = 270, n_jobs = -1)\n",
    "rand_forest_cls.fit(tfidf_train, y_train)\n",
    "randForest_ypred = rand_forest_cls.predict(tfidf_test)\n",
    "\n",
    "cm = confusion_matrix(y_test, randForest_ypred)\n",
    "sn.heatmap(cm, annot=True, fmt=\"d\")\n"
   ]
  },
  {
   "cell_type": "code",
   "execution_count": 59,
   "id": "04f89f04",
   "metadata": {
    "execution": {
     "iopub.execute_input": "2022-01-13T23:18:39.607537Z",
     "iopub.status.busy": "2022-01-13T23:18:39.606508Z",
     "iopub.status.idle": "2022-01-13T23:18:39.640501Z",
     "shell.execute_reply": "2022-01-13T23:18:39.639883Z",
     "shell.execute_reply.started": "2022-01-13T20:17:27.506579Z"
    },
    "papermill": {
     "duration": 0.093075,
     "end_time": "2022-01-13T23:18:39.640683",
     "exception": false,
     "start_time": "2022-01-13T23:18:39.547608",
     "status": "completed"
    },
    "tags": []
   },
   "outputs": [
    {
     "name": "stdout",
     "output_type": "stream",
     "text": [
      "              precision    recall  f1-score   support\n",
      "\n",
      "           0     0.9434    0.9236    0.9334      9855\n",
      "           1     0.9220    0.9422    0.9320      9449\n",
      "\n",
      "    accuracy                         0.9327     19304\n",
      "   macro avg     0.9327    0.9329    0.9327     19304\n",
      "weighted avg     0.9329    0.9327    0.9327     19304\n",
      "\n"
     ]
    }
   ],
   "source": [
    "## Prediction on Test set\n",
    "print(classification_report(y_test, randForest_ypred, digits = 4))"
   ]
  },
  {
   "cell_type": "code",
   "execution_count": 60,
   "id": "3fcb2b01",
   "metadata": {
    "execution": {
     "iopub.execute_input": "2022-01-13T23:18:39.754800Z",
     "iopub.status.busy": "2022-01-13T23:18:39.753993Z",
     "iopub.status.idle": "2022-01-13T23:18:42.916317Z",
     "shell.execute_reply": "2022-01-13T23:18:42.916945Z",
     "shell.execute_reply.started": "2022-01-13T20:17:27.549836Z"
    },
    "papermill": {
     "duration": 3.222167,
     "end_time": "2022-01-13T23:18:42.917117",
     "exception": false,
     "start_time": "2022-01-13T23:18:39.694950",
     "status": "completed"
    },
    "tags": []
   },
   "outputs": [
    {
     "name": "stdout",
     "output_type": "stream",
     "text": [
      "              precision    recall  f1-score   support\n",
      "\n",
      "           0     0.7187    0.6086    0.6591      2846\n",
      "           1     0.5983    0.7099    0.6493      2337\n",
      "\n",
      "    accuracy                         0.6543      5183\n",
      "   macro avg     0.6585    0.6592    0.6542      5183\n",
      "weighted avg     0.6644    0.6543    0.6547      5183\n",
      "\n"
     ]
    }
   ],
   "source": [
    "# Prediction on 1st Test Dataset\n",
    "test1_rand_ypred = rand_forest_cls.predict(test1_vec)\n",
    "print(classification_report(label_y1, test1_rand_ypred, digits = 4))"
   ]
  },
  {
   "cell_type": "code",
   "execution_count": 61,
   "id": "bb2bf372",
   "metadata": {
    "execution": {
     "iopub.execute_input": "2022-01-13T23:18:43.038556Z",
     "iopub.status.busy": "2022-01-13T23:18:43.037601Z",
     "iopub.status.idle": "2022-01-13T23:18:46.400056Z",
     "shell.execute_reply": "2022-01-13T23:18:46.400580Z",
     "shell.execute_reply.started": "2022-01-13T20:17:29.315939Z"
    },
    "papermill": {
     "duration": 3.422285,
     "end_time": "2022-01-13T23:18:46.400762",
     "exception": false,
     "start_time": "2022-01-13T23:18:42.978477",
     "status": "completed"
    },
    "tags": []
   },
   "outputs": [
    {
     "name": "stdout",
     "output_type": "stream",
     "text": [
      "              precision    recall  f1-score   support\n",
      "\n",
      "           0     0.7480    0.9643    0.8425      3164\n",
      "           1     0.9499    0.6758    0.7898      3171\n",
      "\n",
      "    accuracy                         0.8199      6335\n",
      "   macro avg     0.8489    0.8200    0.8161      6335\n",
      "weighted avg     0.8491    0.8199    0.8161      6335\n",
      "\n"
     ]
    }
   ],
   "source": [
    "# Prediction on 2nd Test Dataset\n",
    "test2_rand_ypred = rand_forest_cls.predict(test2_vec)\n",
    "print(classification_report(label_y2, test2_rand_ypred, digits = 4))"
   ]
  },
  {
   "cell_type": "code",
   "execution_count": null,
   "id": "21cb052c",
   "metadata": {
    "papermill": {
     "duration": 0.052486,
     "end_time": "2022-01-13T23:18:46.503942",
     "exception": false,
     "start_time": "2022-01-13T23:18:46.451456",
     "status": "completed"
    },
    "tags": []
   },
   "outputs": [],
   "source": []
  },
  {
   "cell_type": "code",
   "execution_count": null,
   "id": "1e7992c2",
   "metadata": {
    "papermill": {
     "duration": 0.055173,
     "end_time": "2022-01-13T23:18:51.147137",
     "exception": false,
     "start_time": "2022-01-13T23:18:51.091964",
     "status": "completed"
    },
    "tags": []
   },
   "outputs": [],
   "source": []
  },
  {
   "cell_type": "code",
   "execution_count": null,
   "id": "7da61727",
   "metadata": {},
   "outputs": [],
   "source": []
  },
  {
   "cell_type": "markdown",
   "id": "6358918a",
   "metadata": {
    "papermill": {
     "duration": 0.05767,
     "end_time": "2022-01-13T23:18:51.261833",
     "exception": false,
     "start_time": "2022-01-13T23:18:51.204163",
     "status": "completed"
    },
    "tags": []
   },
   "source": [
    "## Gradient Boosting Classifier"
   ]
  },
  {
   "cell_type": "code",
   "execution_count": 66,
   "id": "e4d6c7a0",
   "metadata": {
    "execution": {
     "iopub.execute_input": "2022-01-13T23:18:51.386235Z",
     "iopub.status.busy": "2022-01-13T23:18:51.385265Z",
     "iopub.status.idle": "2022-01-13T23:36:21.774844Z",
     "shell.execute_reply": "2022-01-13T23:36:21.775482Z",
     "shell.execute_reply.started": "2022-01-13T21:38:50.454574Z"
    },
    "papermill": {
     "duration": 1050.453205,
     "end_time": "2022-01-13T23:36:21.775712",
     "exception": false,
     "start_time": "2022-01-13T23:18:51.322507",
     "status": "completed"
    },
    "tags": []
   },
   "outputs": [
    {
     "data": {
      "text/plain": [
       "<AxesSubplot:>"
      ]
     },
     "execution_count": 66,
     "metadata": {},
     "output_type": "execute_result"
    },
    {
     "data": {
      "image/png": "[encoded data removed]",
      "text/plain": [
       "<Figure size 432x288 with 2 Axes>"
      ]
     },
     "metadata": {
      "needs_background": "light"
     },
     "output_type": "display_data"
    }
   ],
   "source": [
    "# Fitting model on training set of data\n",
    "\n",
    "gb_clf = GradientBoostingClassifier(n_estimators=170)\n",
    "gb_clf.fit(tfidf_train, y_train)\n",
    "gb_ypred = gb_clf.predict(tfidf_test)\n",
    "\n",
    "cm = confusion_matrix(y_test, gb_ypred)\n",
    "sn.heatmap(cm, annot=True, fmt=\"d\")"
   ]
  },
  {
   "cell_type": "code",
   "execution_count": 67,
   "id": "c8f84719",
   "metadata": {
    "execution": {
     "iopub.execute_input": "2022-01-13T23:36:21.896569Z",
     "iopub.status.busy": "2022-01-13T23:36:21.895827Z",
     "iopub.status.idle": "2022-01-13T23:36:21.930441Z",
     "shell.execute_reply": "2022-01-13T23:36:21.931293Z",
     "shell.execute_reply.started": "2022-01-13T21:53:26.010661Z"
    },
    "papermill": {
     "duration": 0.098002,
     "end_time": "2022-01-13T23:36:21.931555",
     "exception": false,
     "start_time": "2022-01-13T23:36:21.833553",
     "status": "completed"
    },
    "tags": []
   },
   "outputs": [
    {
     "name": "stdout",
     "output_type": "stream",
     "text": [
      "              precision    recall  f1-score   support\n",
      "\n",
      "           0     0.8759    0.9066    0.8910      9855\n",
      "           1     0.8989    0.8660    0.8822      9449\n",
      "\n",
      "    accuracy                         0.8868     19304\n",
      "   macro avg     0.8874    0.8863    0.8866     19304\n",
      "weighted avg     0.8872    0.8868    0.8867     19304\n",
      "\n"
     ]
    }
   ],
   "source": [
    "# Classification report of test set\n",
    "\n",
    "print(classification_report(y_test, gb_ypred, digits = 4))"
   ]
  },
  {
   "cell_type": "code",
   "execution_count": 68,
   "id": "d9f6326b",
   "metadata": {
    "execution": {
     "iopub.execute_input": "2022-01-13T23:36:22.053838Z",
     "iopub.status.busy": "2022-01-13T23:36:22.051178Z",
     "iopub.status.idle": "2022-01-13T23:36:22.106594Z",
     "shell.execute_reply": "2022-01-13T23:36:22.107115Z",
     "shell.execute_reply.started": "2022-01-13T21:53:26.075837Z"
    },
    "papermill": {
     "duration": 0.116443,
     "end_time": "2022-01-13T23:36:22.107314",
     "exception": false,
     "start_time": "2022-01-13T23:36:21.990871",
     "status": "completed"
    },
    "tags": []
   },
   "outputs": [
    {
     "name": "stdout",
     "output_type": "stream",
     "text": [
      "              precision    recall  f1-score   support\n",
      "\n",
      "           0     0.6891    0.5840    0.6322      2846\n",
      "           1     0.5727    0.6791    0.6214      2337\n",
      "\n",
      "    accuracy                         0.6269      5183\n",
      "   macro avg     0.6309    0.6315    0.6268      5183\n",
      "weighted avg     0.6366    0.6269    0.6273      5183\n",
      "\n"
     ]
    }
   ],
   "source": [
    "# # Prediction on 1st Test Dataset\n",
    "\n",
    "test1_gb_ypred = gb_clf.predict(test1_vec)\n",
    "print(classification_report(label_y1, test1_gb_ypred, digits = 4))"
   ]
  },
  {
   "cell_type": "code",
   "execution_count": 69,
   "id": "0ddff425",
   "metadata": {
    "execution": {
     "iopub.execute_input": "2022-01-13T23:36:22.229666Z",
     "iopub.status.busy": "2022-01-13T23:36:22.228962Z",
     "iopub.status.idle": "2022-01-13T23:36:22.293746Z",
     "shell.execute_reply": "2022-01-13T23:36:22.294692Z",
     "shell.execute_reply.started": "2022-01-13T21:53:26.162742Z"
    },
    "papermill": {
     "duration": 0.130662,
     "end_time": "2022-01-13T23:36:22.295020",
     "exception": false,
     "start_time": "2022-01-13T23:36:22.164358",
     "status": "completed"
    },
    "tags": []
   },
   "outputs": [
    {
     "name": "stdout",
     "output_type": "stream",
     "text": [
      "              precision    recall  f1-score   support\n",
      "\n",
      "           0     0.6620    0.9150    0.7682      3164\n",
      "           1     0.8629    0.5339    0.6597      3171\n",
      "\n",
      "    accuracy                         0.7242      6335\n",
      "   macro avg     0.7625    0.7244    0.7139      6335\n",
      "weighted avg     0.7626    0.7242    0.7139      6335\n",
      "\n"
     ]
    }
   ],
   "source": [
    "# Prediction on 2nd Test Dataset\n",
    "\n",
    "test2_gb_ypred = gb_clf.predict(test2_vec)\n",
    "print(classification_report(label_y2, test2_gb_ypred, digits = 4))"
   ]
  },
  {
   "cell_type": "code",
   "execution_count": null,
   "id": "80be49d5",
   "metadata": {},
   "outputs": [],
   "source": []
  },
  {
   "cell_type": "code",
   "execution_count": null,
   "id": "50d1cf45",
   "metadata": {},
   "outputs": [],
   "source": []
  },
  {
   "cell_type": "markdown",
   "id": "721f9d93",
   "metadata": {
    "papermill": {
     "duration": 0.061267,
     "end_time": "2022-01-13T23:36:22.416233",
     "exception": false,
     "start_time": "2022-01-13T23:36:22.354966",
     "status": "completed"
    },
    "tags": []
   },
   "source": [
    "## XGBoost"
   ]
  },
  {
   "cell_type": "code",
   "execution_count": 70,
   "id": "ecb15bc7",
   "metadata": {
    "execution": {
     "iopub.execute_input": "2022-01-13T23:36:22.540872Z",
     "iopub.status.busy": "2022-01-13T23:36:22.540034Z",
     "iopub.status.idle": "2022-01-13T23:43:44.801498Z",
     "shell.execute_reply": "2022-01-13T23:43:44.802051Z",
     "shell.execute_reply.started": "2022-01-13T21:09:27.314968Z"
    },
    "papermill": {
     "duration": 442.325596,
     "end_time": "2022-01-13T23:43:44.802253",
     "exception": false,
     "start_time": "2022-01-13T23:36:22.476657",
     "status": "completed"
    },
    "tags": []
   },
   "outputs": [
    {
     "name": "stdout",
     "output_type": "stream",
     "text": [
      "[12:42:46] WARNING: C:/Users/Administrator/workspace/xgboost-win64_release_1.5.1/src/learner.cc:1115: Starting in XGBoost 1.3.0, the default evaluation metric used with the objective 'binary:logistic' was changed from 'error' to 'logloss'. Explicitly set eval_metric if you'd like to restore the old behavior.\n"
     ]
    },
    {
     "data": {
      "text/plain": [
       "<AxesSubplot:>"
      ]
     },
     "execution_count": 70,
     "metadata": {},
     "output_type": "execute_result"
    },
    {
     "data": {
      "image/png": "[encoded data removed]",
      "text/plain": [
       "<Figure size 432x288 with 2 Axes>"
      ]
     },
     "metadata": {
      "needs_background": "light"
     },
     "output_type": "display_data"
    }
   ],
   "source": [
    "# Fitting model on training set of data\n",
    "\n",
    "xgb = XGBClassifier(n_jobs = -1)\n",
    "\n",
    "xgb.fit(tfidf_train, y_train)\n",
    "xgb_ypred = xgb.predict(tfidf_test)\n",
    "\n",
    "cm = confusion_matrix(y_test, xgb_ypred)\n",
    "sn.heatmap(cm, annot=True, fmt=\"d\")"
   ]
  },
  {
   "cell_type": "code",
   "execution_count": 71,
   "id": "efa9c4a0",
   "metadata": {
    "execution": {
     "iopub.execute_input": "2022-01-13T23:43:44.929157Z",
     "iopub.status.busy": "2022-01-13T23:43:44.928157Z",
     "iopub.status.idle": "2022-01-13T23:43:44.962225Z",
     "shell.execute_reply": "2022-01-13T23:43:44.963087Z",
     "shell.execute_reply.started": "2022-01-13T21:15:41.366959Z"
    },
    "papermill": {
     "duration": 0.100335,
     "end_time": "2022-01-13T23:43:44.963354",
     "exception": false,
     "start_time": "2022-01-13T23:43:44.863019",
     "status": "completed"
    },
    "tags": []
   },
   "outputs": [
    {
     "name": "stdout",
     "output_type": "stream",
     "text": [
      "              precision    recall  f1-score   support\n",
      "\n",
      "           0     0.9182    0.9355    0.9268      9855\n",
      "           1     0.9313    0.9131    0.9221      9449\n",
      "\n",
      "    accuracy                         0.9245     19304\n",
      "   macro avg     0.9248    0.9243    0.9245     19304\n",
      "weighted avg     0.9246    0.9245    0.9245     19304\n",
      "\n"
     ]
    }
   ],
   "source": [
    "# Classification report of test set\n",
    "print(classification_report(y_test, xgb_ypred, digits = 4))"
   ]
  },
  {
   "cell_type": "code",
   "execution_count": 72,
   "id": "e16d7461",
   "metadata": {
    "execution": {
     "iopub.execute_input": "2022-01-13T23:43:45.092095Z",
     "iopub.status.busy": "2022-01-13T23:43:45.090944Z",
     "iopub.status.idle": "2022-01-13T23:43:45.188260Z",
     "shell.execute_reply": "2022-01-13T23:43:45.189085Z",
     "shell.execute_reply.started": "2022-01-13T21:15:46.874439Z"
    },
    "papermill": {
     "duration": 0.164531,
     "end_time": "2022-01-13T23:43:45.189370",
     "exception": false,
     "start_time": "2022-01-13T23:43:45.024839",
     "status": "completed"
    },
    "tags": []
   },
   "outputs": [
    {
     "name": "stdout",
     "output_type": "stream",
     "text": [
      "              precision    recall  f1-score   support\n",
      "\n",
      "           0     0.6909    0.6086    0.6471      2846\n",
      "           1     0.5837    0.6684    0.6232      2337\n",
      "\n",
      "    accuracy                         0.6355      5183\n",
      "   macro avg     0.6373    0.6385    0.6351      5183\n",
      "weighted avg     0.6425    0.6355    0.6363      5183\n",
      "\n"
     ]
    }
   ],
   "source": [
    "# # Prediction on 1st Test Dataset\n",
    "test1_xgb_ypred = xgb.predict(test1_vec)\n",
    "print(classification_report(label_y1, test1_xgb_ypred, digits = 4))"
   ]
  },
  {
   "cell_type": "code",
   "execution_count": 73,
   "id": "f729e877",
   "metadata": {
    "execution": {
     "iopub.execute_input": "2022-01-13T23:43:45.318181Z",
     "iopub.status.busy": "2022-01-13T23:43:45.317082Z",
     "iopub.status.idle": "2022-01-13T23:43:45.421688Z",
     "shell.execute_reply": "2022-01-13T23:43:45.422535Z",
     "shell.execute_reply.started": "2022-01-13T21:15:51.626995Z"
    },
    "papermill": {
     "duration": 0.171717,
     "end_time": "2022-01-13T23:43:45.422863",
     "exception": false,
     "start_time": "2022-01-13T23:43:45.251146",
     "status": "completed"
    },
    "tags": []
   },
   "outputs": [
    {
     "name": "stdout",
     "output_type": "stream",
     "text": [
      "              precision    recall  f1-score   support\n",
      "\n",
      "           0     0.6720    0.9712    0.7944      3164\n",
      "           1     0.9484    0.5270    0.6775      3171\n",
      "\n",
      "    accuracy                         0.7489      6335\n",
      "   macro avg     0.8102    0.7491    0.7359      6335\n",
      "weighted avg     0.8103    0.7489    0.7359      6335\n",
      "\n"
     ]
    }
   ],
   "source": [
    "# Prediction on 2nd Test Dataset\n",
    "\n",
    "test2_xgb_ypred = xgb.predict(test2_vec)\n",
    "print(classification_report(label_y2, test2_xgb_ypred, digits = 4))"
   ]
  },
  {
   "cell_type": "code",
   "execution_count": null,
   "id": "46f659b4",
   "metadata": {},
   "outputs": [],
   "source": []
  },
  {
   "cell_type": "code",
   "execution_count": null,
   "id": "3360df3b",
   "metadata": {},
   "outputs": [],
   "source": []
  },
  {
   "cell_type": "code",
   "execution_count": null,
   "id": "7e9bda0f",
   "metadata": {},
   "outputs": [],
   "source": []
  },
  {
   "cell_type": "markdown",
   "id": "3b27e627",
   "metadata": {},
   "source": [
    "# Results of TFIDF features"
   ]
  },
  {
   "cell_type": "code",
   "execution_count": 74,
   "id": "27c5b595",
   "metadata": {},
   "outputs": [
    {
     "name": "stdout",
     "output_type": "stream",
     "text": [
      "Prediction results of test set:\n"
     ]
    },
    {
     "data": {
      "text/html": [
       "<div>\n",
       "<style scoped>\n",
       "    .dataframe tbody tr th:only-of-type {\n",
       "        vertical-align: middle;\n",
       "    }\n",
       "\n",
       "    .dataframe tbody tr th {\n",
       "        vertical-align: top;\n",
       "    }\n",
       "\n",
       "    .dataframe thead th {\n",
       "        text-align: right;\n",
       "    }\n",
       "</style>\n",
       "<table border=\"1\" class=\"dataframe\">\n",
       "  <thead>\n",
       "    <tr style=\"text-align: right;\">\n",
       "      <th></th>\n",
       "      <th>Model</th>\n",
       "      <th>Score</th>\n",
       "    </tr>\n",
       "  </thead>\n",
       "  <tbody>\n",
       "    <tr>\n",
       "      <th>0</th>\n",
       "      <td>Logistic Regression</td>\n",
       "      <td>0.910692</td>\n",
       "    </tr>\n",
       "    <tr>\n",
       "      <th>1</th>\n",
       "      <td>KNN</td>\n",
       "      <td>0.793307</td>\n",
       "    </tr>\n",
       "    <tr>\n",
       "      <th>2</th>\n",
       "      <td>Linear SVM</td>\n",
       "      <td>0.878160</td>\n",
       "    </tr>\n",
       "    <tr>\n",
       "      <th>3</th>\n",
       "      <td>Random Forest</td>\n",
       "      <td>0.932708</td>\n",
       "    </tr>\n",
       "    <tr>\n",
       "      <th>4</th>\n",
       "      <td>Passive Aggressive</td>\n",
       "      <td>0.930688</td>\n",
       "    </tr>\n",
       "    <tr>\n",
       "      <th>5</th>\n",
       "      <td>Gradient Boosting</td>\n",
       "      <td>0.886759</td>\n",
       "    </tr>\n",
       "    <tr>\n",
       "      <th>6</th>\n",
       "      <td>XGBoost Classifier</td>\n",
       "      <td>0.924523</td>\n",
       "    </tr>\n",
       "  </tbody>\n",
       "</table>\n",
       "</div>"
      ],
      "text/plain": [
       "                 Model     Score\n",
       "0  Logistic Regression  0.910692\n",
       "1                  KNN  0.793307\n",
       "2           Linear SVM  0.878160\n",
       "3        Random Forest  0.932708\n",
       "4   Passive Aggressive  0.930688\n",
       "5    Gradient Boosting  0.886759\n",
       "6   XGBoost Classifier  0.924523"
      ]
     },
     "execution_count": 74,
     "metadata": {},
     "output_type": "execute_result"
    }
   ],
   "source": [
    "from sklearn.metrics import accuracy_score\n",
    "train_result = pd.DataFrame({\n",
    "    'Model' : ['Logistic Regression', 'KNN', 'Linear SVM', 'Random Forest', 'Passive Aggressive', 'Gradient Boosting', 'XGBoost Classifier'],\n",
    "    'Score' : [accuracy_score(y_test, log_ypred), \n",
    "               accuracy_score(y_test, knn_ypred),\n",
    "               accuracy_score(y_test, svc_ypred),\n",
    "               accuracy_score(y_test, randForest_ypred),\n",
    "               accuracy_score(y_test, pac_ypred),\n",
    "               accuracy_score(y_test, gb_ypred),\n",
    "              accuracy_score(y_test, xgb_ypred)]\n",
    "})\n",
    "\n",
    "print(\"Prediction results of test set:\")\n",
    "train_result"
   ]
  },
  {
   "cell_type": "markdown",
   "id": "2a7ac281",
   "metadata": {},
   "source": [
    "> We can see Random Forest has highest accuracy of 93.27% followed by Passive Aggressive and XGBoost on test set created during train-test split"
   ]
  },
  {
   "cell_type": "code",
   "execution_count": 76,
   "id": "c1a5db53",
   "metadata": {},
   "outputs": [
    {
     "name": "stdout",
     "output_type": "stream",
     "text": [
      "Predictions on 1st Test Dataset: \n"
     ]
    },
    {
     "data": {
      "text/html": [
       "<div>\n",
       "<style scoped>\n",
       "    .dataframe tbody tr th:only-of-type {\n",
       "        vertical-align: middle;\n",
       "    }\n",
       "\n",
       "    .dataframe tbody tr th {\n",
       "        vertical-align: top;\n",
       "    }\n",
       "\n",
       "    .dataframe thead th {\n",
       "        text-align: right;\n",
       "    }\n",
       "</style>\n",
       "<table border=\"1\" class=\"dataframe\">\n",
       "  <thead>\n",
       "    <tr style=\"text-align: right;\">\n",
       "      <th></th>\n",
       "      <th>Model</th>\n",
       "      <th>Score</th>\n",
       "    </tr>\n",
       "  </thead>\n",
       "  <tbody>\n",
       "    <tr>\n",
       "      <th>0</th>\n",
       "      <td>Logistic Regression</td>\n",
       "      <td>0.626664</td>\n",
       "    </tr>\n",
       "    <tr>\n",
       "      <th>1</th>\n",
       "      <td>KNN</td>\n",
       "      <td>0.588462</td>\n",
       "    </tr>\n",
       "    <tr>\n",
       "      <th>2</th>\n",
       "      <td>Linear SVM</td>\n",
       "      <td>0.627822</td>\n",
       "    </tr>\n",
       "    <tr>\n",
       "      <th>3</th>\n",
       "      <td>Random Forest</td>\n",
       "      <td>0.654254</td>\n",
       "    </tr>\n",
       "    <tr>\n",
       "      <th>4</th>\n",
       "      <td>Passive Aggressive</td>\n",
       "      <td>0.612965</td>\n",
       "    </tr>\n",
       "    <tr>\n",
       "      <th>5</th>\n",
       "      <td>Gradient Boosting</td>\n",
       "      <td>0.626857</td>\n",
       "    </tr>\n",
       "    <tr>\n",
       "      <th>6</th>\n",
       "      <td>XGBoost Classifier</td>\n",
       "      <td>0.635539</td>\n",
       "    </tr>\n",
       "  </tbody>\n",
       "</table>\n",
       "</div>"
      ],
      "text/plain": [
       "                 Model     Score\n",
       "0  Logistic Regression  0.626664\n",
       "1                  KNN  0.588462\n",
       "2           Linear SVM  0.627822\n",
       "3        Random Forest  0.654254\n",
       "4   Passive Aggressive  0.612965\n",
       "5    Gradient Boosting  0.626857\n",
       "6   XGBoost Classifier  0.635539"
      ]
     },
     "execution_count": 76,
     "metadata": {},
     "output_type": "execute_result"
    }
   ],
   "source": [
    "test1_result = pd.DataFrame({\n",
    "    'Model' : ['Logistic Regression', 'KNN', 'Linear SVM', 'Random Forest', 'Passive Aggressive', 'Gradient Boosting', 'XGBoost Classifier'],\n",
    "    'Score' : [accuracy_score(label_y1, test1_log_ypred),\n",
    "               accuracy_score(label_y1, test1_knn_ypred),\n",
    "               accuracy_score(label_y1, test1_svc_ypred),\n",
    "              accuracy_score(label_y1, test1_rand_ypred),\n",
    "               accuracy_score(label_y1, test1_pac_ypred),\n",
    "               accuracy_score(label_y1, test1_gb_ypred),\n",
    "               accuracy_score(label_y1, test1_xgb_ypred)\n",
    "              ]\n",
    "\n",
    "})\n",
    "\n",
    "print(\"Predictions on 1st Test Dataset: \")\n",
    "test1_result"
   ]
  },
  {
   "cell_type": "markdown",
   "id": "6aace450",
   "metadata": {},
   "source": [
    "> On the first dataset which is different than our training dataset we can see Random Forest is giving highest accuracy compared to any other algorithms"
   ]
  },
  {
   "cell_type": "code",
   "execution_count": 77,
   "id": "748c6750",
   "metadata": {},
   "outputs": [
    {
     "name": "stdout",
     "output_type": "stream",
     "text": [
      "Predictions on 2nd Test Dataset: \n"
     ]
    },
    {
     "data": {
      "text/html": [
       "<div>\n",
       "<style scoped>\n",
       "    .dataframe tbody tr th:only-of-type {\n",
       "        vertical-align: middle;\n",
       "    }\n",
       "\n",
       "    .dataframe tbody tr th {\n",
       "        vertical-align: top;\n",
       "    }\n",
       "\n",
       "    .dataframe thead th {\n",
       "        text-align: right;\n",
       "    }\n",
       "</style>\n",
       "<table border=\"1\" class=\"dataframe\">\n",
       "  <thead>\n",
       "    <tr style=\"text-align: right;\">\n",
       "      <th></th>\n",
       "      <th>Model</th>\n",
       "      <th>Score</th>\n",
       "    </tr>\n",
       "  </thead>\n",
       "  <tbody>\n",
       "    <tr>\n",
       "      <th>0</th>\n",
       "      <td>Logistic Regression</td>\n",
       "      <td>0.777111</td>\n",
       "    </tr>\n",
       "    <tr>\n",
       "      <th>1</th>\n",
       "      <td>KNN</td>\n",
       "      <td>0.799842</td>\n",
       "    </tr>\n",
       "    <tr>\n",
       "      <th>2</th>\n",
       "      <td>Linear SVM</td>\n",
       "      <td>0.758169</td>\n",
       "    </tr>\n",
       "    <tr>\n",
       "      <th>3</th>\n",
       "      <td>Random Forest</td>\n",
       "      <td>0.819890</td>\n",
       "    </tr>\n",
       "    <tr>\n",
       "      <th>4</th>\n",
       "      <td>Passive Aggressive</td>\n",
       "      <td>0.780900</td>\n",
       "    </tr>\n",
       "    <tr>\n",
       "      <th>5</th>\n",
       "      <td>Gradient Boosting</td>\n",
       "      <td>0.724230</td>\n",
       "    </tr>\n",
       "    <tr>\n",
       "      <th>6</th>\n",
       "      <td>XGBoost Classifier</td>\n",
       "      <td>0.748856</td>\n",
       "    </tr>\n",
       "  </tbody>\n",
       "</table>\n",
       "</div>"
      ],
      "text/plain": [
       "                 Model     Score\n",
       "0  Logistic Regression  0.777111\n",
       "1                  KNN  0.799842\n",
       "2           Linear SVM  0.758169\n",
       "3        Random Forest  0.819890\n",
       "4   Passive Aggressive  0.780900\n",
       "5    Gradient Boosting  0.724230\n",
       "6   XGBoost Classifier  0.748856"
      ]
     },
     "execution_count": 77,
     "metadata": {},
     "output_type": "execute_result"
    }
   ],
   "source": [
    "test2_result = pd.DataFrame({\n",
    "    'Model' : ['Logistic Regression', 'KNN', 'Linear SVM', 'Random Forest', 'Passive Aggressive', 'Gradient Boosting', 'XGBoost Classifier'],\n",
    "    'Score' : [accuracy_score(label_y2, test2_log_pred),\n",
    "               accuracy_score(label_y2, test2_knn_ypred),\n",
    "              accuracy_score(label_y2, test2_svc_ypred),\n",
    "              accuracy_score(label_y2, test2_rand_ypred),\n",
    "               accuracy_score(label_y2, test2_pac_ypred),\n",
    "               accuracy_score(label_y2, test2_gb_ypred),\n",
    "               accuracy_score(label_y2, test2_xgb_ypred)\n",
    "               \n",
    "              ]\n",
    "\n",
    "})\n",
    "\n",
    "print(\"Predictions on 2nd Test Dataset: \")\n",
    "test2_result"
   ]
  },
  {
   "cell_type": "markdown",
   "id": "7227649d",
   "metadata": {},
   "source": [
    "> On the second dataset which is somewhat similar to our training dataset we can see Random Forest is giving highest accuracy compared to any other algorithms followed by KNN and Passive Aggressive"
   ]
  },
  {
   "cell_type": "code",
   "execution_count": null,
   "id": "d1a68658",
   "metadata": {},
   "outputs": [],
   "source": []
  },
  {
   "cell_type": "code",
   "execution_count": null,
   "id": "6d85156d",
   "metadata": {},
   "outputs": [],
   "source": []
  },
  {
   "cell_type": "code",
   "execution_count": null,
   "id": "01b1cf0e",
   "metadata": {
    "papermill": {
     "duration": 0.057458,
     "end_time": "2022-01-13T23:43:45.539729",
     "exception": false,
     "start_time": "2022-01-13T23:43:45.482271",
     "status": "completed"
    },
    "tags": []
   },
   "outputs": [],
   "source": []
  },
  {
   "cell_type": "markdown",
   "id": "d54a80d3",
   "metadata": {
    "papermill": {
     "duration": 0.064869,
     "end_time": "2022-01-13T23:43:45.664942",
     "exception": false,
     "start_time": "2022-01-13T23:43:45.600073",
     "status": "completed"
    },
    "tags": []
   },
   "source": [
    "# TF-IDF + Numerical Feaures"
   ]
  },
  {
   "cell_type": "code",
   "execution_count": 78,
   "id": "ac0cfea4",
   "metadata": {},
   "outputs": [],
   "source": [
    "num_feature_xtrain = X_train.drop(['cleaned_article'], axis = 1).values # Numerical features of training set\n",
    "num_feature_xtest = X_test.drop(['cleaned_article'], axis = 1).values # Numerical features of testing set"
   ]
  },
  {
   "cell_type": "code",
   "execution_count": 79,
   "id": "9eb6f61a",
   "metadata": {},
   "outputs": [],
   "source": [
    "# Scaling the data using Standard Scaler with mean = 0 and variance = 1\n",
    "\n",
    "from sklearn.preprocessing import StandardScaler\n",
    "sc = StandardScaler()\n",
    "sc.fit(num_feature_xtrain)\n",
    "num_feature_xtrain = sc.transform(num_feature_xtrain) # Scaling training set"
   ]
  },
  {
   "cell_type": "code",
   "execution_count": 80,
   "id": "a06c6fb5",
   "metadata": {},
   "outputs": [],
   "source": [
    "num_feature_xtest = sc.transform(num_feature_xtest) # Scaling test set\n",
    "test1_num = sc.transform(test1_num) # Scaling 1st test dataset\n",
    "test2_num = sc.transform(test2_num) # Scaling 2nd test dataset"
   ]
  },
  {
   "cell_type": "code",
   "execution_count": 81,
   "id": "5305151f",
   "metadata": {},
   "outputs": [],
   "source": [
    "# Scacking numerical features and tfidf values and storing for further modeling\n",
    "\n",
    "from scipy.sparse import coo_matrix, hstack\n",
    "tf_num_train = hstack([tfidf_train, num_feature_xtrain])\n",
    "tf_num_test = hstack([tfidf_test, num_feature_xtest])\n",
    "\n",
    "test1_tf_num = hstack([test1_vec, test1_num])\n",
    "test2_tf_num = hstack([test2_vec, test2_num])\n"
   ]
  },
  {
   "cell_type": "markdown",
   "id": "a336c6c1",
   "metadata": {},
   "source": [
    "## Logistic Regression"
   ]
  },
  {
   "cell_type": "code",
   "execution_count": 82,
   "id": "1d673313",
   "metadata": {},
   "outputs": [
    {
     "data": {
      "text/plain": [
       "<AxesSubplot:>"
      ]
     },
     "execution_count": 82,
     "metadata": {},
     "output_type": "execute_result"
    },
    {
     "data": {
      "image/png": "[encoded data removed]",
      "text/plain": [
       "<Figure size 432x288 with 2 Axes>"
      ]
     },
     "metadata": {
      "needs_background": "light"
     },
     "output_type": "display_data"
    }
   ],
   "source": [
    "log_tfnum_cls = LogisticRegression(penalty='l2', max_iter=500, solver = 'liblinear') # creating class object\n",
    "log_tfnum_cls.fit(tf_num_train, y_train) # fitting to the training set\n",
    "\n",
    "log_tfnum_ypred = log_tfnum_cls.predict(tf_num_test) # predicting on testset\n",
    "\n",
    "# Ploting Confusion Matrix\n",
    "cm = confusion_matrix(y_test, log_tfnum_ypred)\n",
    "sn.heatmap(cm, annot=True, fmt=\"d\")"
   ]
  },
  {
   "cell_type": "code",
   "execution_count": 83,
   "id": "820695d6",
   "metadata": {},
   "outputs": [
    {
     "name": "stdout",
     "output_type": "stream",
     "text": [
      "              precision    recall  f1-score   support\n",
      "\n",
      "           0     0.9223    0.9147    0.9185      9855\n",
      "           1     0.9118    0.9197    0.9157      9449\n",
      "\n",
      "    accuracy                         0.9171     19304\n",
      "   macro avg     0.9170    0.9172    0.9171     19304\n",
      "weighted avg     0.9172    0.9171    0.9171     19304\n",
      "\n"
     ]
    }
   ],
   "source": [
    "# Classification report on test set\n",
    "print(classification_report(y_test, log_tfnum_ypred, digits=4))"
   ]
  },
  {
   "cell_type": "code",
   "execution_count": 84,
   "id": "027352f4",
   "metadata": {},
   "outputs": [
    {
     "name": "stdout",
     "output_type": "stream",
     "text": [
      "              precision    recall  f1-score   support\n",
      "\n",
      "           0     0.6820    0.6051    0.6412      2846\n",
      "           1     0.5771    0.6564    0.6142      2337\n",
      "\n",
      "    accuracy                         0.6282      5183\n",
      "   macro avg     0.6296    0.6307    0.6277      5183\n",
      "weighted avg     0.6347    0.6282    0.6290      5183\n",
      "\n"
     ]
    }
   ],
   "source": [
    "# Predicting on first test dataset\n",
    "test1_tflog_ypred = log_tfnum_cls.predict(test1_tf_num)\n",
    "print(classification_report(label_y1, test1_tflog_ypred, digits = 4))"
   ]
  },
  {
   "cell_type": "code",
   "execution_count": 85,
   "id": "e95c8223",
   "metadata": {},
   "outputs": [
    {
     "name": "stdout",
     "output_type": "stream",
     "text": [
      "              precision    recall  f1-score   support\n",
      "\n",
      "           0     0.7138    0.9403    0.8115      3164\n",
      "           1     0.9128    0.6238    0.7411      3171\n",
      "\n",
      "    accuracy                         0.7818      6335\n",
      "   macro avg     0.8133    0.7820    0.7763      6335\n",
      "weighted avg     0.8134    0.7818    0.7763      6335\n",
      "\n"
     ]
    }
   ],
   "source": [
    "# Predicting on 2nd test dataset\n",
    "test2_tflog_ypred = log_tfnum_cls.predict(test2_tf_num)\n",
    "print(classification_report(label_y2, test2_tflog_ypred, digits = 4))"
   ]
  },
  {
   "cell_type": "code",
   "execution_count": null,
   "id": "69ce83ec",
   "metadata": {},
   "outputs": [],
   "source": []
  },
  {
   "cell_type": "code",
   "execution_count": null,
   "id": "7397e38a",
   "metadata": {},
   "outputs": [],
   "source": []
  },
  {
   "cell_type": "markdown",
   "id": "5340b08f",
   "metadata": {},
   "source": [
    "## KNN"
   ]
  },
  {
   "cell_type": "code",
   "execution_count": 86,
   "id": "acd3afbd",
   "metadata": {},
   "outputs": [
    {
     "data": {
      "text/plain": [
       "<AxesSubplot:>"
      ]
     },
     "execution_count": 86,
     "metadata": {},
     "output_type": "execute_result"
    },
    {
     "data": {
      "image/png": "[encoded data removed]",
      "text/plain": [
       "<Figure size 432x288 with 2 Axes>"
      ]
     },
     "metadata": {
      "needs_background": "light"
     },
     "output_type": "display_data"
    }
   ],
   "source": [
    "knn_tfnum_cls = KNeighborsClassifier(n_neighbors=9, n_jobs=-1)\n",
    "knn_tfnum_cls.fit(tf_num_train, y_train) # fitting to the training set\n",
    "\n",
    "knn_tfnum_ypred = knn_tfnum_cls.predict(tf_num_test) # predicting on testset\n",
    "\n",
    "# Ploting Confusion Matrix\n",
    "cm = confusion_matrix(y_test, knn_tfnum_ypred)\n",
    "sn.heatmap(cm, annot=True, fmt=\"d\")"
   ]
  },
  {
   "cell_type": "code",
   "execution_count": 87,
   "id": "eb1a264b",
   "metadata": {},
   "outputs": [
    {
     "name": "stdout",
     "output_type": "stream",
     "text": [
      "              precision    recall  f1-score   support\n",
      "\n",
      "           0     0.8404    0.7212    0.7762      9855\n",
      "           1     0.7467    0.8571    0.7981      9449\n",
      "\n",
      "    accuracy                         0.7877     19304\n",
      "   macro avg     0.7935    0.7891    0.7872     19304\n",
      "weighted avg     0.7945    0.7877    0.7869     19304\n",
      "\n"
     ]
    }
   ],
   "source": [
    "# Classification report of test set\n",
    "print(classification_report(y_test, knn_tfnum_ypred, digits=4))"
   ]
  },
  {
   "cell_type": "code",
   "execution_count": 88,
   "id": "16f88f13",
   "metadata": {},
   "outputs": [
    {
     "name": "stdout",
     "output_type": "stream",
     "text": [
      "              precision    recall  f1-score   support\n",
      "\n",
      "           0     0.7140    0.5369    0.6129      2846\n",
      "           1     0.5669    0.7381    0.6413      2337\n",
      "\n",
      "    accuracy                         0.6276      5183\n",
      "   macro avg     0.6404    0.6375    0.6271      5183\n",
      "weighted avg     0.6477    0.6276    0.6257      5183\n",
      "\n"
     ]
    }
   ],
   "source": [
    "# Predicting on first test dataset\n",
    "test1_tfknn_ypred = knn_tfnum_cls.predict(test1_tf_num)\n",
    "print(classification_report(label_y1, test1_tfknn_ypred, digits = 4))"
   ]
  },
  {
   "cell_type": "code",
   "execution_count": 89,
   "id": "7fb8e30c",
   "metadata": {},
   "outputs": [
    {
     "name": "stdout",
     "output_type": "stream",
     "text": [
      "              precision    recall  f1-score   support\n",
      "\n",
      "           0     0.7001    0.7298    0.7146      3164\n",
      "           1     0.7185    0.6881    0.7030      3171\n",
      "\n",
      "    accuracy                         0.7089      6335\n",
      "   macro avg     0.7093    0.7089    0.7088      6335\n",
      "weighted avg     0.7093    0.7089    0.7088      6335\n",
      "\n"
     ]
    }
   ],
   "source": [
    "# Predicting on 2nd test dataset\n",
    "test2_tfknn_ypred = knn_tfnum_cls.predict(test2_tf_num)\n",
    "print(classification_report(label_y2, test2_tfknn_ypred, digits = 4))"
   ]
  },
  {
   "cell_type": "code",
   "execution_count": null,
   "id": "66e4e98f",
   "metadata": {},
   "outputs": [],
   "source": []
  },
  {
   "cell_type": "code",
   "execution_count": null,
   "id": "e81aa525",
   "metadata": {},
   "outputs": [],
   "source": []
  },
  {
   "cell_type": "markdown",
   "id": "e719a3a2",
   "metadata": {},
   "source": [
    "## Linear SVC"
   ]
  },
  {
   "cell_type": "code",
   "execution_count": null,
   "id": "8b9f8acf",
   "metadata": {},
   "outputs": [],
   "source": []
  },
  {
   "cell_type": "code",
   "execution_count": 90,
   "id": "ddf2e6f8",
   "metadata": {},
   "outputs": [
    {
     "data": {
      "text/plain": [
       "<AxesSubplot:>"
      ]
     },
     "execution_count": 90,
     "metadata": {},
     "output_type": "execute_result"
    },
    {
     "data": {
      "image/png": "[encoded data removed]",
      "text/plain": [
       "<Figure size 432x288 with 2 Axes>"
      ]
     },
     "metadata": {
      "needs_background": "light"
     },
     "output_type": "display_data"
    }
   ],
   "source": [
    "svc_tfnum_cls = LinearSVC(max_iter = 2500, loss = 'squared_hinge', C = 0.01) # creating class object\n",
    "svc_tfnum_cls.fit(tf_num_train, y_train) # fitting to the training set\n",
    "\n",
    "svc_tfnum_ypred = svc_tfnum_cls.predict(tf_num_test) # predicting on testset\n",
    "\n",
    "# Ploting Confusion Matrix\n",
    "cm = confusion_matrix(y_test, svc_tfnum_ypred)\n",
    "sn.heatmap(cm, annot=True, fmt=\"d\")"
   ]
  },
  {
   "cell_type": "code",
   "execution_count": 91,
   "id": "530e0f7b",
   "metadata": {},
   "outputs": [
    {
     "name": "stdout",
     "output_type": "stream",
     "text": [
      "              precision    recall  f1-score   support\n",
      "\n",
      "           0     0.8908    0.8903    0.8905      9855\n",
      "           1     0.8857    0.8861    0.8859      9449\n",
      "\n",
      "    accuracy                         0.8883     19304\n",
      "   macro avg     0.8882    0.8882    0.8882     19304\n",
      "weighted avg     0.8883    0.8883    0.8883     19304\n",
      "\n"
     ]
    }
   ],
   "source": [
    "# Classification report of test set\n",
    "print(classification_report(y_test, svc_tfnum_ypred, digits=4))"
   ]
  },
  {
   "cell_type": "code",
   "execution_count": 92,
   "id": "bd3661fd",
   "metadata": {},
   "outputs": [
    {
     "name": "stdout",
     "output_type": "stream",
     "text": [
      "              precision    recall  f1-score   support\n",
      "\n",
      "           0     0.6852    0.5966    0.6379      2846\n",
      "           1     0.5756    0.6662    0.6176      2337\n",
      "\n",
      "    accuracy                         0.6280      5183\n",
      "   macro avg     0.6304    0.6314    0.6277      5183\n",
      "weighted avg     0.6358    0.6280    0.6287      5183\n",
      "\n"
     ]
    }
   ],
   "source": [
    "# Predicting on first test dataset\n",
    "test1_tfsvc_ypred = svc_tfnum_cls.predict(test1_tf_num)\n",
    "print(classification_report(label_y1, test1_tfsvc_ypred, digits = 4))"
   ]
  },
  {
   "cell_type": "code",
   "execution_count": 93,
   "id": "48d6ad1e",
   "metadata": {},
   "outputs": [
    {
     "name": "stdout",
     "output_type": "stream",
     "text": [
      "              precision    recall  f1-score   support\n",
      "\n",
      "           0     0.6926    0.8815    0.7757      3164\n",
      "           1     0.8375    0.6096    0.7056      3171\n",
      "\n",
      "    accuracy                         0.7454      6335\n",
      "   macro avg     0.7650    0.7455    0.7406      6335\n",
      "weighted avg     0.7651    0.7454    0.7406      6335\n",
      "\n"
     ]
    }
   ],
   "source": [
    "# Predicting on 2nd test dataset\n",
    "test2_tfsvc_ypred = svc_tfnum_cls.predict(test2_tf_num)\n",
    "print(classification_report(label_y2, test2_tfsvc_ypred, digits = 4))"
   ]
  },
  {
   "cell_type": "code",
   "execution_count": null,
   "id": "4c7dde92",
   "metadata": {},
   "outputs": [],
   "source": []
  },
  {
   "cell_type": "code",
   "execution_count": null,
   "id": "74d05b5c",
   "metadata": {},
   "outputs": [],
   "source": []
  },
  {
   "cell_type": "markdown",
   "id": "a6c8cffd",
   "metadata": {},
   "source": [
    "## Passive Aggressive"
   ]
  },
  {
   "cell_type": "code",
   "execution_count": 94,
   "id": "a512182f",
   "metadata": {},
   "outputs": [
    {
     "data": {
      "text/plain": [
       "<AxesSubplot:>"
      ]
     },
     "execution_count": 94,
     "metadata": {},
     "output_type": "execute_result"
    },
    {
     "data": {
      "image/png": "[encoded data removed]",
      "text/plain": [
       "<Figure size 432x288 with 2 Axes>"
      ]
     },
     "metadata": {
      "needs_background": "light"
     },
     "output_type": "display_data"
    }
   ],
   "source": [
    "pac_tfnum_cls = PassiveAggressiveClassifier(max_iter=2500, C = 0.1, n_jobs=-1) # creating class object\n",
    "pac_tfnum_cls.fit(tf_num_train, y_train) # fitting to the training set\n",
    "\n",
    "pac_tfnum_ypred = pac_tfnum_cls.predict(tf_num_test) # predicting on testset\n",
    "\n",
    "# Ploting Confusion Matrix\n",
    "cm = confusion_matrix(y_test, pac_tfnum_ypred)\n",
    "sn.heatmap(cm, annot=True, fmt=\"d\")"
   ]
  },
  {
   "cell_type": "code",
   "execution_count": 95,
   "id": "17f817f3",
   "metadata": {},
   "outputs": [
    {
     "name": "stdout",
     "output_type": "stream",
     "text": [
      "              precision    recall  f1-score   support\n",
      "\n",
      "           0     0.9314    0.9375    0.9344      9855\n",
      "           1     0.9344    0.9279    0.9311      9449\n",
      "\n",
      "    accuracy                         0.9328     19304\n",
      "   macro avg     0.9329    0.9327    0.9328     19304\n",
      "weighted avg     0.9328    0.9328    0.9328     19304\n",
      "\n"
     ]
    }
   ],
   "source": [
    "# Classification report of test set\n",
    "print(classification_report(y_test, pac_tfnum_ypred, digits=4))"
   ]
  },
  {
   "cell_type": "code",
   "execution_count": 96,
   "id": "cba56b03",
   "metadata": {},
   "outputs": [
    {
     "name": "stdout",
     "output_type": "stream",
     "text": [
      "              precision    recall  f1-score   support\n",
      "\n",
      "           0     0.6730    0.5952    0.6317      2846\n",
      "           1     0.5679    0.6478    0.6052      2337\n",
      "\n",
      "    accuracy                         0.6189      5183\n",
      "   macro avg     0.6205    0.6215    0.6185      5183\n",
      "weighted avg     0.6256    0.6189    0.6198      5183\n",
      "\n"
     ]
    }
   ],
   "source": [
    "# Predicting on first test dataset\n",
    "test1_tfpac_ypred = pac_tfnum_cls.predict(test1_tf_num)\n",
    "print(classification_report(label_y1, test1_tfpac_ypred, digits = 4))"
   ]
  },
  {
   "cell_type": "code",
   "execution_count": 97,
   "id": "7912fd80",
   "metadata": {
    "scrolled": true
   },
   "outputs": [
    {
     "name": "stdout",
     "output_type": "stream",
     "text": [
      "              precision    recall  f1-score   support\n",
      "\n",
      "           0     0.7260    0.9722    0.8312      3164\n",
      "           1     0.9581    0.6339    0.7630      3171\n",
      "\n",
      "    accuracy                         0.8028      6335\n",
      "   macro avg     0.8420    0.8030    0.7971      6335\n",
      "weighted avg     0.8421    0.8028    0.7971      6335\n",
      "\n"
     ]
    }
   ],
   "source": [
    "# Predicting on 2nd test dataset\n",
    "test2_tfpac_ypred = pac_tfnum_cls.predict(test2_tf_num)\n",
    "print(classification_report(label_y2, test2_tfpac_ypred, digits = 4))"
   ]
  },
  {
   "cell_type": "code",
   "execution_count": null,
   "id": "81ea5879",
   "metadata": {},
   "outputs": [],
   "source": []
  },
  {
   "cell_type": "code",
   "execution_count": null,
   "id": "f04ce754",
   "metadata": {},
   "outputs": [],
   "source": []
  },
  {
   "cell_type": "markdown",
   "id": "cc1c9093",
   "metadata": {},
   "source": [
    "## Random Forest"
   ]
  },
  {
   "cell_type": "code",
   "execution_count": 98,
   "id": "b3a95e45",
   "metadata": {},
   "outputs": [
    {
     "data": {
      "text/plain": [
       "<AxesSubplot:>"
      ]
     },
     "execution_count": 98,
     "metadata": {},
     "output_type": "execute_result"
    },
    {
     "data": {
      "image/png": "[encoded data removed]",
      "text/plain": [
       "<Figure size 432x288 with 2 Axes>"
      ]
     },
     "metadata": {
      "needs_background": "light"
     },
     "output_type": "display_data"
    }
   ],
   "source": [
    "rand_tfnum_cls = RandomForestClassifier(n_estimators= 230, n_jobs = -1) # creating class object\n",
    "rand_tfnum_cls.fit(tf_num_train, y_train) # fitting to the training set\n",
    "\n",
    "rand_tfnum_ypred = rand_tfnum_cls.predict(tf_num_test) # predicting on testset\n",
    "\n",
    "# Ploting Confusion Matrix\n",
    "cm = confusion_matrix(y_test, rand_tfnum_ypred)\n",
    "sn.heatmap(cm, annot=True, fmt=\"d\")"
   ]
  },
  {
   "cell_type": "code",
   "execution_count": 99,
   "id": "538bfc4a",
   "metadata": {},
   "outputs": [
    {
     "name": "stdout",
     "output_type": "stream",
     "text": [
      "              precision    recall  f1-score   support\n",
      "\n",
      "           0     0.9428    0.9278    0.9352      9855\n",
      "           1     0.9259    0.9413    0.9335      9449\n",
      "\n",
      "    accuracy                         0.9344     19304\n",
      "   macro avg     0.9343    0.9345    0.9344     19304\n",
      "weighted avg     0.9345    0.9344    0.9344     19304\n",
      "\n"
     ]
    }
   ],
   "source": [
    "# Classification report of test set\n",
    "print(classification_report(y_test, rand_tfnum_ypred, digits=4))"
   ]
  },
  {
   "cell_type": "code",
   "execution_count": 100,
   "id": "9ef26478",
   "metadata": {},
   "outputs": [
    {
     "name": "stdout",
     "output_type": "stream",
     "text": [
      "              precision    recall  f1-score   support\n",
      "\n",
      "           0     0.7335    0.6170    0.6702      2846\n",
      "           1     0.6092    0.7270    0.6629      2337\n",
      "\n",
      "    accuracy                         0.6666      5183\n",
      "   macro avg     0.6713    0.6720    0.6666      5183\n",
      "weighted avg     0.6774    0.6666    0.6669      5183\n",
      "\n"
     ]
    }
   ],
   "source": [
    "# Predicting on first test dataset\n",
    "test1_tfrand_ypred = rand_tfnum_cls.predict(test1_tf_num)\n",
    "print(classification_report(label_y1, test1_tfrand_ypred, digits = 4))"
   ]
  },
  {
   "cell_type": "code",
   "execution_count": 101,
   "id": "9a41fced",
   "metadata": {},
   "outputs": [
    {
     "name": "stdout",
     "output_type": "stream",
     "text": [
      "              precision    recall  f1-score   support\n",
      "\n",
      "           0     0.7545    0.9627    0.8460      3164\n",
      "           1     0.9487    0.6875    0.7972      3171\n",
      "\n",
      "    accuracy                         0.8249      6335\n",
      "   macro avg     0.8516    0.8251    0.8216      6335\n",
      "weighted avg     0.8517    0.8249    0.8216      6335\n",
      "\n"
     ]
    }
   ],
   "source": [
    "# Predicting on 2nd test dataset\n",
    "test2_tfrand_ypred = rand_tfnum_cls.predict(test2_tf_num)\n",
    "print(classification_report(label_y2, test2_tfrand_ypred, digits = 4))"
   ]
  },
  {
   "cell_type": "code",
   "execution_count": null,
   "id": "6bf0a49f",
   "metadata": {},
   "outputs": [],
   "source": []
  },
  {
   "cell_type": "code",
   "execution_count": null,
   "id": "e983daf5",
   "metadata": {},
   "outputs": [],
   "source": []
  },
  {
   "cell_type": "markdown",
   "id": "75494246",
   "metadata": {},
   "source": [
    "## Gradient Boosting Classifier"
   ]
  },
  {
   "cell_type": "code",
   "execution_count": 102,
   "id": "53461952",
   "metadata": {},
   "outputs": [
    {
     "data": {
      "text/plain": [
       "<AxesSubplot:>"
      ]
     },
     "execution_count": 102,
     "metadata": {},
     "output_type": "execute_result"
    },
    {
     "data": {
      "image/png": "[encoded data removed]",
      "text/plain": [
       "<Figure size 432x288 with 2 Axes>"
      ]
     },
     "metadata": {
      "needs_background": "light"
     },
     "output_type": "display_data"
    }
   ],
   "source": [
    "gb_tfnum_cls = GradientBoostingClassifier(n_estimators=190, learning_rate=0.1) # creating class object\n",
    "gb_tfnum_cls.fit(tf_num_train, y_train) # fitting to the training set\n",
    "\n",
    "gb_tfnum_ypred = gb_tfnum_cls.predict(tf_num_test) # predicting on testset\n",
    "\n",
    "# Ploting Confusion Matrix\n",
    "cm = confusion_matrix(y_test, gb_tfnum_ypred)\n",
    "sn.heatmap(cm, annot=True, fmt=\"d\")"
   ]
  },
  {
   "cell_type": "code",
   "execution_count": 103,
   "id": "bb433847",
   "metadata": {},
   "outputs": [
    {
     "name": "stdout",
     "output_type": "stream",
     "text": [
      "              precision    recall  f1-score   support\n",
      "\n",
      "           0     0.9003    0.9050    0.9026      9855\n",
      "           1     0.9004    0.8954    0.8979      9449\n",
      "\n",
      "    accuracy                         0.9003     19304\n",
      "   macro avg     0.9003    0.9002    0.9003     19304\n",
      "weighted avg     0.9003    0.9003    0.9003     19304\n",
      "\n"
     ]
    }
   ],
   "source": [
    "# Classification report of test set\n",
    "print(classification_report(y_test, gb_tfnum_ypred, digits=4))"
   ]
  },
  {
   "cell_type": "code",
   "execution_count": 104,
   "id": "646d899d",
   "metadata": {},
   "outputs": [
    {
     "name": "stdout",
     "output_type": "stream",
     "text": [
      "              precision    recall  f1-score   support\n",
      "\n",
      "           0     0.6931    0.5857    0.6349      2846\n",
      "           1     0.5756    0.6842    0.6252      2337\n",
      "\n",
      "    accuracy                         0.6301      5183\n",
      "   macro avg     0.6344    0.6350    0.6301      5183\n",
      "weighted avg     0.6401    0.6301    0.6305      5183\n",
      "\n"
     ]
    }
   ],
   "source": [
    "# Predicting on first test dataset\n",
    "test1_tfgb_ypred = gb_tfnum_cls.predict(test1_tf_num)\n",
    "print(classification_report(label_y1, test1_tfgb_ypred, digits = 4))"
   ]
  },
  {
   "cell_type": "code",
   "execution_count": 105,
   "id": "0b6f6b68",
   "metadata": {
    "scrolled": true
   },
   "outputs": [
    {
     "name": "stdout",
     "output_type": "stream",
     "text": [
      "              precision    recall  f1-score   support\n",
      "\n",
      "           0     0.6732    0.9175    0.7766      3164\n",
      "           1     0.8710    0.5557    0.6785      3171\n",
      "\n",
      "    accuracy                         0.7364      6335\n",
      "   macro avg     0.7721    0.7366    0.7275      6335\n",
      "weighted avg     0.7722    0.7364    0.7275      6335\n",
      "\n"
     ]
    }
   ],
   "source": [
    "# Predicting on 2nd test dataset\n",
    "test2_tfgb_ypred = gb_tfnum_cls.predict(test2_tf_num)\n",
    "print(classification_report(label_y2, test2_tfgb_ypred, digits = 4))"
   ]
  },
  {
   "cell_type": "code",
   "execution_count": null,
   "id": "b96174f5",
   "metadata": {},
   "outputs": [],
   "source": []
  },
  {
   "cell_type": "code",
   "execution_count": null,
   "id": "08686e53",
   "metadata": {},
   "outputs": [],
   "source": []
  },
  {
   "cell_type": "markdown",
   "id": "175947cf",
   "metadata": {},
   "source": [
    "## XGBoost"
   ]
  },
  {
   "cell_type": "code",
   "execution_count": null,
   "id": "fab81ba5",
   "metadata": {},
   "outputs": [],
   "source": []
  },
  {
   "cell_type": "code",
   "execution_count": 106,
   "id": "8fb567bb",
   "metadata": {},
   "outputs": [
    {
     "name": "stdout",
     "output_type": "stream",
     "text": [
      "[13:16:58] WARNING: C:/Users/Administrator/workspace/xgboost-win64_release_1.5.1/src/learner.cc:1115: Starting in XGBoost 1.3.0, the default evaluation metric used with the objective 'binary:logistic' was changed from 'error' to 'logloss'. Explicitly set eval_metric if you'd like to restore the old behavior.\n"
     ]
    },
    {
     "data": {
      "text/plain": [
       "<AxesSubplot:>"
      ]
     },
     "execution_count": 106,
     "metadata": {},
     "output_type": "execute_result"
    },
    {
     "data": {
      "image/png": "[encoded data removed]",
      "text/plain": [
       "<Figure size 432x288 with 2 Axes>"
      ]
     },
     "metadata": {
      "needs_background": "light"
     },
     "output_type": "display_data"
    }
   ],
   "source": [
    "xgb_tfnum_cls = XGBClassifier(learning_rate = 0.1, max_depth = 11, tree_method = 'gpu_hist', gpu_id = 0, n_jobs = -1) # creating class object\n",
    "xgb_tfnum_cls.fit(tf_num_train, y_train) # fitting to the training set\n",
    "\n",
    "xgb_tfnum_ypred = xgb_tfnum_cls.predict(tf_num_test) # predicting on testset\n",
    "\n",
    "# Ploting Confusion Matrix\n",
    "cm = confusion_matrix(y_test, xgb_tfnum_ypred)\n",
    "sn.heatmap(cm, annot=True, fmt=\"d\")"
   ]
  },
  {
   "cell_type": "code",
   "execution_count": 107,
   "id": "14d8aa96",
   "metadata": {},
   "outputs": [
    {
     "name": "stdout",
     "output_type": "stream",
     "text": [
      "              precision    recall  f1-score   support\n",
      "\n",
      "           0     0.9378    0.9384    0.9381      9855\n",
      "           1     0.9357    0.9351    0.9354      9449\n",
      "\n",
      "    accuracy                         0.9368     19304\n",
      "   macro avg     0.9368    0.9368    0.9368     19304\n",
      "weighted avg     0.9368    0.9368    0.9368     19304\n",
      "\n"
     ]
    }
   ],
   "source": [
    "# Classification report of test set\n",
    "print(classification_report(y_test, xgb_tfnum_ypred, digits=4))"
   ]
  },
  {
   "cell_type": "code",
   "execution_count": 108,
   "id": "6e1c2a12",
   "metadata": {},
   "outputs": [
    {
     "name": "stdout",
     "output_type": "stream",
     "text": [
      "              precision    recall  f1-score   support\n",
      "\n",
      "           0     0.6909    0.5938    0.6387      2846\n",
      "           1     0.5776    0.6765    0.6232      2337\n",
      "\n",
      "    accuracy                         0.6311      5183\n",
      "   macro avg     0.6343    0.6352    0.6309      5183\n",
      "weighted avg     0.6398    0.6311    0.6317      5183\n",
      "\n"
     ]
    }
   ],
   "source": [
    "# Predicting on first test dataset\n",
    "test1_tfxgb_ypred = xgb_tfnum_cls.predict(test1_tf_num)\n",
    "print(classification_report(label_y1, test1_tfxgb_ypred, digits = 4))"
   ]
  },
  {
   "cell_type": "code",
   "execution_count": 109,
   "id": "2fa98d56",
   "metadata": {
    "scrolled": true
   },
   "outputs": [
    {
     "name": "stdout",
     "output_type": "stream",
     "text": [
      "              precision    recall  f1-score   support\n",
      "\n",
      "           0     0.6773    0.9757    0.7995      3164\n",
      "           1     0.9567    0.5361    0.6871      3171\n",
      "\n",
      "    accuracy                         0.7556      6335\n",
      "   macro avg     0.8170    0.7559    0.7433      6335\n",
      "weighted avg     0.8171    0.7556    0.7433      6335\n",
      "\n"
     ]
    }
   ],
   "source": [
    "# Predicting on 2nd test dataset\n",
    "test2_tfpac_ypred = xgb_tfnum_cls.predict(test2_tf_num)\n",
    "print(classification_report(label_y2, test2_tfpac_ypred, digits = 4))"
   ]
  },
  {
   "cell_type": "code",
   "execution_count": null,
   "id": "f3730f58",
   "metadata": {},
   "outputs": [],
   "source": []
  },
  {
   "cell_type": "code",
   "execution_count": null,
   "id": "5da64560",
   "metadata": {},
   "outputs": [],
   "source": []
  },
  {
   "cell_type": "markdown",
   "id": "5ee79949",
   "metadata": {},
   "source": [
    "# Results of TFIDF values + Numeric Features"
   ]
  },
  {
   "cell_type": "code",
   "execution_count": 112,
   "id": "937736f3",
   "metadata": {},
   "outputs": [
    {
     "name": "stdout",
     "output_type": "stream",
     "text": [
      "Prediction results of test set:\n"
     ]
    },
    {
     "data": {
      "text/html": [
       "<div>\n",
       "<style scoped>\n",
       "    .dataframe tbody tr th:only-of-type {\n",
       "        vertical-align: middle;\n",
       "    }\n",
       "\n",
       "    .dataframe tbody tr th {\n",
       "        vertical-align: top;\n",
       "    }\n",
       "\n",
       "    .dataframe thead th {\n",
       "        text-align: right;\n",
       "    }\n",
       "</style>\n",
       "<table border=\"1\" class=\"dataframe\">\n",
       "  <thead>\n",
       "    <tr style=\"text-align: right;\">\n",
       "      <th></th>\n",
       "      <th>Model</th>\n",
       "      <th>Score</th>\n",
       "    </tr>\n",
       "  </thead>\n",
       "  <tbody>\n",
       "    <tr>\n",
       "      <th>0</th>\n",
       "      <td>Logistic Regression</td>\n",
       "      <td>0.917116</td>\n",
       "    </tr>\n",
       "    <tr>\n",
       "      <th>1</th>\n",
       "      <td>KNN</td>\n",
       "      <td>0.787712</td>\n",
       "    </tr>\n",
       "    <tr>\n",
       "      <th>2</th>\n",
       "      <td>Linear SVM</td>\n",
       "      <td>0.888262</td>\n",
       "    </tr>\n",
       "    <tr>\n",
       "      <th>3</th>\n",
       "      <td>Random Forest</td>\n",
       "      <td>0.934366</td>\n",
       "    </tr>\n",
       "    <tr>\n",
       "      <th>4</th>\n",
       "      <td>Passive Aggressive</td>\n",
       "      <td>0.932812</td>\n",
       "    </tr>\n",
       "    <tr>\n",
       "      <th>5</th>\n",
       "      <td>Gradient Boosting</td>\n",
       "      <td>0.900332</td>\n",
       "    </tr>\n",
       "    <tr>\n",
       "      <th>6</th>\n",
       "      <td>XGBoost Classifier</td>\n",
       "      <td>0.936801</td>\n",
       "    </tr>\n",
       "  </tbody>\n",
       "</table>\n",
       "</div>"
      ],
      "text/plain": [
       "                 Model     Score\n",
       "0  Logistic Regression  0.917116\n",
       "1                  KNN  0.787712\n",
       "2           Linear SVM  0.888262\n",
       "3        Random Forest  0.934366\n",
       "4   Passive Aggressive  0.932812\n",
       "5    Gradient Boosting  0.900332\n",
       "6   XGBoost Classifier  0.936801"
      ]
     },
     "execution_count": 112,
     "metadata": {},
     "output_type": "execute_result"
    }
   ],
   "source": [
    "from sklearn.metrics import accuracy_score\n",
    "train_result = pd.DataFrame({\n",
    "    'Model' : ['Logistic Regression', 'KNN', 'Linear SVM', 'Random Forest', 'Passive Aggressive', 'Gradient Boosting', 'XGBoost Classifier'],\n",
    "    'Score' : [accuracy_score(y_test, log_tfnum_ypred), \n",
    "               accuracy_score(y_test, knn_tfnum_ypred),\n",
    "               accuracy_score(y_test, svc_tfnum_ypred),\n",
    "               accuracy_score(y_test, rand_tfnum_ypred),\n",
    "               accuracy_score(y_test, pac_tfnum_ypred),\n",
    "               accuracy_score(y_test, gb_tfnum_ypred),\n",
    "              accuracy_score(y_test, xgb_tfnum_ypred)]\n",
    "})\n",
    "\n",
    "print(\"Prediction results of test set:\")\n",
    "train_result"
   ]
  },
  {
   "cell_type": "markdown",
   "id": "85958ca1",
   "metadata": {},
   "source": [
    "> From above report of model prediction on test set we can see XGBoost, Random Forest and Passive Aggressive have almost same performance on test set. However with number XGBoost has the highest accuracy followed by Random Forest and Passive Aggressive"
   ]
  },
  {
   "cell_type": "code",
   "execution_count": null,
   "id": "b74bde1b",
   "metadata": {},
   "outputs": [],
   "source": []
  },
  {
   "cell_type": "code",
   "execution_count": null,
   "id": "7a3a4ccf",
   "metadata": {},
   "outputs": [],
   "source": []
  },
  {
   "cell_type": "code",
   "execution_count": 113,
   "id": "b14dd5b9",
   "metadata": {},
   "outputs": [
    {
     "name": "stdout",
     "output_type": "stream",
     "text": [
      "Predictions on 1st Test Dataset: \n"
     ]
    },
    {
     "data": {
      "text/html": [
       "<div>\n",
       "<style scoped>\n",
       "    .dataframe tbody tr th:only-of-type {\n",
       "        vertical-align: middle;\n",
       "    }\n",
       "\n",
       "    .dataframe tbody tr th {\n",
       "        vertical-align: top;\n",
       "    }\n",
       "\n",
       "    .dataframe thead th {\n",
       "        text-align: right;\n",
       "    }\n",
       "</style>\n",
       "<table border=\"1\" class=\"dataframe\">\n",
       "  <thead>\n",
       "    <tr style=\"text-align: right;\">\n",
       "      <th></th>\n",
       "      <th>Model</th>\n",
       "      <th>Score</th>\n",
       "    </tr>\n",
       "  </thead>\n",
       "  <tbody>\n",
       "    <tr>\n",
       "      <th>0</th>\n",
       "      <td>Logistic Regression</td>\n",
       "      <td>0.628208</td>\n",
       "    </tr>\n",
       "    <tr>\n",
       "      <th>1</th>\n",
       "      <td>KNN</td>\n",
       "      <td>0.627629</td>\n",
       "    </tr>\n",
       "    <tr>\n",
       "      <th>2</th>\n",
       "      <td>Linear SVM</td>\n",
       "      <td>0.628015</td>\n",
       "    </tr>\n",
       "    <tr>\n",
       "      <th>3</th>\n",
       "      <td>Random Forest</td>\n",
       "      <td>0.666602</td>\n",
       "    </tr>\n",
       "    <tr>\n",
       "      <th>4</th>\n",
       "      <td>Passive Aggressive</td>\n",
       "      <td>0.618947</td>\n",
       "    </tr>\n",
       "    <tr>\n",
       "      <th>5</th>\n",
       "      <td>Gradient Boosting</td>\n",
       "      <td>0.630137</td>\n",
       "    </tr>\n",
       "    <tr>\n",
       "      <th>6</th>\n",
       "      <td>XGBoost Classifier</td>\n",
       "      <td>0.631102</td>\n",
       "    </tr>\n",
       "  </tbody>\n",
       "</table>\n",
       "</div>"
      ],
      "text/plain": [
       "                 Model     Score\n",
       "0  Logistic Regression  0.628208\n",
       "1                  KNN  0.627629\n",
       "2           Linear SVM  0.628015\n",
       "3        Random Forest  0.666602\n",
       "4   Passive Aggressive  0.618947\n",
       "5    Gradient Boosting  0.630137\n",
       "6   XGBoost Classifier  0.631102"
      ]
     },
     "execution_count": 113,
     "metadata": {},
     "output_type": "execute_result"
    }
   ],
   "source": [
    "test1_result = pd.DataFrame({\n",
    "    'Model' : ['Logistic Regression', 'KNN', 'Linear SVM', 'Random Forest', 'Passive Aggressive', 'Gradient Boosting', 'XGBoost Classifier'],\n",
    "    'Score' : [accuracy_score(label_y1, test1_tflog_ypred),\n",
    "               accuracy_score(label_y1, test1_tfknn_ypred),\n",
    "               accuracy_score(label_y1, test1_tfsvc_ypred),\n",
    "               accuracy_score(label_y1, test1_tfrand_ypred),\n",
    "               accuracy_score(label_y1, test1_tfpac_ypred),\n",
    "               accuracy_score(label_y1, test1_tfgb_ypred),\n",
    "               accuracy_score(label_y1, test1_tfxgb_ypred)\n",
    "              ]\n",
    "\n",
    "})\n",
    "\n",
    "print(\"Predictions on 1st Test Dataset: \")\n",
    "test1_result"
   ]
  },
  {
   "cell_type": "markdown",
   "id": "c4414891",
   "metadata": {},
   "source": [
    "> From the above prediction results of various algoritms we can see Random Forest is performing better than any other algorithms on 1st Test Dataset"
   ]
  },
  {
   "cell_type": "code",
   "execution_count": null,
   "id": "8f5536db",
   "metadata": {},
   "outputs": [],
   "source": []
  },
  {
   "cell_type": "code",
   "execution_count": null,
   "id": "adbdddb7",
   "metadata": {},
   "outputs": [],
   "source": []
  },
  {
   "cell_type": "code",
   "execution_count": 114,
   "id": "16cb263d",
   "metadata": {},
   "outputs": [
    {
     "name": "stdout",
     "output_type": "stream",
     "text": [
      "Predictions on 2nd Test Dataset: \n"
     ]
    },
    {
     "data": {
      "text/html": [
       "<div>\n",
       "<style scoped>\n",
       "    .dataframe tbody tr th:only-of-type {\n",
       "        vertical-align: middle;\n",
       "    }\n",
       "\n",
       "    .dataframe tbody tr th {\n",
       "        vertical-align: top;\n",
       "    }\n",
       "\n",
       "    .dataframe thead th {\n",
       "        text-align: right;\n",
       "    }\n",
       "</style>\n",
       "<table border=\"1\" class=\"dataframe\">\n",
       "  <thead>\n",
       "    <tr style=\"text-align: right;\">\n",
       "      <th></th>\n",
       "      <th>Model</th>\n",
       "      <th>Score</th>\n",
       "    </tr>\n",
       "  </thead>\n",
       "  <tbody>\n",
       "    <tr>\n",
       "      <th>0</th>\n",
       "      <td>Logistic Regression</td>\n",
       "      <td>0.781847</td>\n",
       "    </tr>\n",
       "    <tr>\n",
       "      <th>1</th>\n",
       "      <td>KNN</td>\n",
       "      <td>0.708919</td>\n",
       "    </tr>\n",
       "    <tr>\n",
       "      <th>2</th>\n",
       "      <td>Linear SVM</td>\n",
       "      <td>0.758169</td>\n",
       "    </tr>\n",
       "    <tr>\n",
       "      <th>3</th>\n",
       "      <td>Random Forest</td>\n",
       "      <td>0.819890</td>\n",
       "    </tr>\n",
       "    <tr>\n",
       "      <th>4</th>\n",
       "      <td>Passive Aggressive</td>\n",
       "      <td>0.780900</td>\n",
       "    </tr>\n",
       "    <tr>\n",
       "      <th>5</th>\n",
       "      <td>Gradient Boosting</td>\n",
       "      <td>0.724230</td>\n",
       "    </tr>\n",
       "    <tr>\n",
       "      <th>6</th>\n",
       "      <td>XGBoost Classifier</td>\n",
       "      <td>0.748856</td>\n",
       "    </tr>\n",
       "  </tbody>\n",
       "</table>\n",
       "</div>"
      ],
      "text/plain": [
       "                 Model     Score\n",
       "0  Logistic Regression  0.781847\n",
       "1                  KNN  0.708919\n",
       "2           Linear SVM  0.758169\n",
       "3        Random Forest  0.819890\n",
       "4   Passive Aggressive  0.780900\n",
       "5    Gradient Boosting  0.724230\n",
       "6   XGBoost Classifier  0.748856"
      ]
     },
     "execution_count": 114,
     "metadata": {},
     "output_type": "execute_result"
    }
   ],
   "source": [
    "test2_result = pd.DataFrame({\n",
    "    'Model' : ['Logistic Regression', 'KNN', 'Linear SVM', 'Random Forest', 'Passive Aggressive', 'Gradient Boosting', 'XGBoost Classifier'],\n",
    "    'Score' : [accuracy_score(label_y2, test2_tflog_ypred),\n",
    "               accuracy_score(label_y2, test2_tfknn_ypred),\n",
    "              accuracy_score(label_y2, test2_svc_ypred),\n",
    "              accuracy_score(label_y2, test2_rand_ypred),\n",
    "               accuracy_score(label_y2, test2_pac_ypred),\n",
    "               accuracy_score(label_y2, test2_gb_ypred),\n",
    "               accuracy_score(label_y2, test2_xgb_ypred)\n",
    "               \n",
    "              ]\n",
    "\n",
    "})\n",
    "\n",
    "print(\"Predictions on 2nd Test Dataset: \")\n",
    "test2_result"
   ]
  },
  {
   "cell_type": "markdown",
   "id": "d99ce4b3",
   "metadata": {},
   "source": [
    "> From the above prediction results of various algorithms we can see Random Forest is performing better than any other algorithms on 2nd Test Dataset"
   ]
  },
  {
   "cell_type": "code",
   "execution_count": null,
   "id": "87f8e309",
   "metadata": {},
   "outputs": [],
   "source": []
  }
 ],
 "metadata": {
  "kernelspec": {
   "display_name": "Python 3",
   "language": "python",
   "name": "python3"
  },
  "language_info": {
   "codemirror_mode": {
    "name": "ipython",
    "version": 3
   },
   "file_extension": ".py",
   "mimetype": "text/x-python",
   "name": "python",
   "nbconvert_exporter": "python",
   "pygments_lexer": "ipython3",
   "version": "3.9.7"
  },
  "papermill": {
   "default_parameters": {},
   "duration": 3066.732761,
   "end_time": "2022-01-13T23:43:47.147102",
   "environment_variables": {},
   "exception": null,
   "input_path": "__notebook__.ipynb",
   "output_path": "__notebook__.ipynb",
   "parameters": {},
   "start_time": "2022-01-13T22:52:40.414341",
   "version": "2.3.3"
  }
 },
 "nbformat": 4,
 "nbformat_minor": 5
}
