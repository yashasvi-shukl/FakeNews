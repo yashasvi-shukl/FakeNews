{
 "cells": [
  {
   "cell_type": "code",
   "execution_count": 26,
   "id": "106e04f5",
   "metadata": {},
   "outputs": [
    {
     "name": "stdout",
     "output_type": "stream",
     "text": [
      "Requirement already satisfied: scikit-learn in c:\\users\\monster\\anaconda3\\envs\\tf-gpu\\lib\\site-packages (1.0.1)\n"
     ]
    },
    {
     "name": "stderr",
     "output_type": "stream",
     "text": [
      "ERROR: Could not install packages due to an OSError: [WinError 5] Access is denied: 'C:\\\\Users\\\\Monster\\\\Anaconda3\\\\envs\\\\tf-gpu\\\\Lib\\\\site-packages\\\\~klearn\\\\.libs\\\\vcomp140.dll'\n",
      "Consider using the `--user` option or check the permissions.\n",
      "\n"
     ]
    },
    {
     "name": "stdout",
     "output_type": "stream",
     "text": [
      "Collecting scikit-learn\n",
      "  Using cached scikit_learn-1.0.2-cp39-cp39-win_amd64.whl (7.2 MB)\n",
      "Requirement already satisfied: joblib>=0.11 in c:\\users\\monster\\anaconda3\\envs\\tf-gpu\\lib\\site-packages (from scikit-learn) (1.1.0)\n",
      "Requirement already satisfied: numpy>=1.14.6 in c:\\users\\monster\\anaconda3\\envs\\tf-gpu\\lib\\site-packages (from scikit-learn) (1.21.2)\n",
      "Requirement already satisfied: threadpoolctl>=2.0.0 in c:\\users\\monster\\anaconda3\\envs\\tf-gpu\\lib\\site-packages (from scikit-learn) (3.0.0)\n",
      "Requirement already satisfied: scipy>=1.1.0 in c:\\users\\monster\\anaconda3\\envs\\tf-gpu\\lib\\site-packages (from scikit-learn) (1.7.1)\n",
      "Installing collected packages: scikit-learn\n",
      "  Attempting uninstall: scikit-learn\n",
      "    Found existing installation: scikit-learn 1.0.1\n",
      "    Uninstalling scikit-learn-1.0.1:\n",
      "      Successfully uninstalled scikit-learn-1.0.1\n"
     ]
    }
   ],
   "source": [
    "!pip install -U scikit-learn"
   ]
  },
  {
   "cell_type": "code",
   "execution_count": 1,
   "id": "87290d98",
   "metadata": {},
   "outputs": [],
   "source": [
    "import warnings\n",
    "warnings.filterwarnings('ignore')\n",
    "\n",
    "import pandas as pd\n",
    "import numpy as np\n",
    "import seaborn as sn\n",
    "from sklearn.metrics import confusion_matrix, accuracy_score\n",
    "from sklearn.linear_model import LogisticRegression\n",
    "from sklearn.metrics import classification_report\n",
    "from sklearn import tree\n",
    "from sklearn.neighbors import KNeighborsClassifier\n",
    "from sklearn.svm import LinearSVC\n",
    "from sklearn.ensemble import GradientBoostingClassifier\n",
    "from sklearn.model_selection import GridSearchCV\n",
    "import xgboost as xgb\n",
    "from xgboost.sklearn import XGBClassifier\n",
    "from sklearn.feature_extraction.text import CountVectorizer\n",
    "from sklearn.feature_extraction.text import TfidfVectorizer\n",
    "from sklearn.pipeline import make_pipeline\n",
    "from sklearn.naive_bayes import MultinomialNB\n",
    "from sklearn.ensemble import ExtraTreesClassifier\n",
    "from sklearn.ensemble import RandomForestClassifier\n",
    "from sklearn.linear_model import PassiveAggressiveClassifier"
   ]
  },
  {
   "cell_type": "code",
   "execution_count": 2,
   "id": "5fc7cb20",
   "metadata": {},
   "outputs": [
    {
     "data": {
      "text/html": [
       "<div>\n",
       "<style scoped>\n",
       "    .dataframe tbody tr th:only-of-type {\n",
       "        vertical-align: middle;\n",
       "    }\n",
       "\n",
       "    .dataframe tbody tr th {\n",
       "        vertical-align: top;\n",
       "    }\n",
       "\n",
       "    .dataframe thead th {\n",
       "        text-align: right;\n",
       "    }\n",
       "</style>\n",
       "<table border=\"1\" class=\"dataframe\">\n",
       "  <thead>\n",
       "    <tr style=\"text-align: right;\">\n",
       "      <th></th>\n",
       "      <th>label</th>\n",
       "      <th>cleaned_article</th>\n",
       "      <th>num_punctuations</th>\n",
       "      <th>no_of_stopwords</th>\n",
       "      <th>no_of_quesMarks</th>\n",
       "      <th>no_of_exclamation</th>\n",
       "      <th>no_of_sentence</th>\n",
       "      <th>sentiment</th>\n",
       "      <th>cc_cd</th>\n",
       "      <th>determiner</th>\n",
       "      <th>...</th>\n",
       "      <th>noun</th>\n",
       "      <th>adverb</th>\n",
       "      <th>verb</th>\n",
       "      <th>article_len</th>\n",
       "      <th>negations</th>\n",
       "      <th>polarity</th>\n",
       "      <th>word_count</th>\n",
       "      <th>avg_word_len</th>\n",
       "      <th>num_unique_words</th>\n",
       "      <th>num_chars</th>\n",
       "    </tr>\n",
       "  </thead>\n",
       "  <tbody>\n",
       "    <tr>\n",
       "      <th>0</th>\n",
       "      <td>1</td>\n",
       "      <td>seeking best woman final return fridaysunday y...</td>\n",
       "      <td>139</td>\n",
       "      <td>634</td>\n",
       "      <td>5</td>\n",
       "      <td>0</td>\n",
       "      <td>41</td>\n",
       "      <td>Positive</td>\n",
       "      <td>37</td>\n",
       "      <td>98</td>\n",
       "      <td>...</td>\n",
       "      <td>236</td>\n",
       "      <td>27</td>\n",
       "      <td>150</td>\n",
       "      <td>4563</td>\n",
       "      <td>6</td>\n",
       "      <td>0.049887</td>\n",
       "      <td>357</td>\n",
       "      <td>6.392157</td>\n",
       "      <td>234</td>\n",
       "      <td>2638</td>\n",
       "    </tr>\n",
       "    <tr>\n",
       "      <th>1</th>\n",
       "      <td>0</td>\n",
       "      <td>harsh reality come taking responsibility life ...</td>\n",
       "      <td>112</td>\n",
       "      <td>702</td>\n",
       "      <td>2</td>\n",
       "      <td>3</td>\n",
       "      <td>37</td>\n",
       "      <td>Positive</td>\n",
       "      <td>53</td>\n",
       "      <td>79</td>\n",
       "      <td>...</td>\n",
       "      <td>196</td>\n",
       "      <td>85</td>\n",
       "      <td>230</td>\n",
       "      <td>5470</td>\n",
       "      <td>15</td>\n",
       "      <td>0.029320</td>\n",
       "      <td>347</td>\n",
       "      <td>6.573487</td>\n",
       "      <td>263</td>\n",
       "      <td>2627</td>\n",
       "    </tr>\n",
       "  </tbody>\n",
       "</table>\n",
       "<p>2 rows × 24 columns</p>\n",
       "</div>"
      ],
      "text/plain": [
       "   label                                    cleaned_article  num_punctuations  \\\n",
       "0      1  seeking best woman final return fridaysunday y...               139   \n",
       "1      0  harsh reality come taking responsibility life ...               112   \n",
       "\n",
       "   no_of_stopwords  no_of_quesMarks  no_of_exclamation  no_of_sentence  \\\n",
       "0              634                5                  0              41   \n",
       "1              702                2                  3              37   \n",
       "\n",
       "  sentiment  cc_cd  determiner  ...  noun  adverb  verb  article_len  \\\n",
       "0  Positive     37          98  ...   236      27   150         4563   \n",
       "1  Positive     53          79  ...   196      85   230         5470   \n",
       "\n",
       "   negations  polarity  word_count  avg_word_len  num_unique_words  num_chars  \n",
       "0          6  0.049887         357      6.392157               234       2638  \n",
       "1         15  0.029320         347      6.573487               263       2627  \n",
       "\n",
       "[2 rows x 24 columns]"
      ]
     },
     "execution_count": 2,
     "metadata": {},
     "output_type": "execute_result"
    }
   ],
   "source": [
    "df = pd.read_csv('training_set.csv')\n",
    "df.head(2)"
   ]
  },
  {
   "cell_type": "code",
   "execution_count": 3,
   "id": "7291e8d6",
   "metadata": {},
   "outputs": [],
   "source": [
    "# Sentiment is a categorical data, we have to encode it for model training\n",
    "from sklearn.preprocessing import OneHotEncoder\n",
    "def Encoding_sentiment(df):\n",
    "    encoder = OneHotEncoder(drop = 'first') # Creating object of OneHotEncoder class\n",
    "    encoded_sentiment = encoder.fit_transform(pd.DataFrame(df['sentiment'])).toarray().astype(int) # Fitting to the data\n",
    "    column_names = encoder.get_feature_names_out() # Getting feature name\n",
    "    encoded_sentiment = pd.DataFrame(encoded_sentiment, columns = column_names)  # Creating dataframe of encoded feature\n",
    "    df = pd.concat([df, encoded_sentiment], axis = 1) # Concatinating newly created sentiment dataframe into original dataframe\n",
    "    df.drop('sentiment', axis = 1, inplace = True) # dropping sentiment column as I have already encoded this categorical feature\n",
    "    return df"
   ]
  },
  {
   "cell_type": "code",
   "execution_count": 4,
   "id": "5dfacaca",
   "metadata": {},
   "outputs": [],
   "source": [
    "df = Encoding_sentiment(df) # Calling the function to encode Sentiment column which is a categorial feature"
   ]
  },
  {
   "cell_type": "code",
   "execution_count": 5,
   "id": "608419a2",
   "metadata": {},
   "outputs": [],
   "source": [
    "#num_fea = df.drop(['cleaned_article', 'label'], axis = 1).values # Training features\n",
    "#y = df['label'].values # Target variable"
   ]
  },
  {
   "cell_type": "code",
   "execution_count": 6,
   "id": "8b086084",
   "metadata": {},
   "outputs": [],
   "source": [
    "X = df['cleaned_article']\n",
    "y = df['label']"
   ]
  },
  {
   "cell_type": "code",
   "execution_count": null,
   "id": "07099d7e",
   "metadata": {},
   "outputs": [],
   "source": []
  },
  {
   "cell_type": "code",
   "execution_count": null,
   "id": "7471285b",
   "metadata": {},
   "outputs": [],
   "source": []
  },
  {
   "cell_type": "markdown",
   "id": "8587e17c",
   "metadata": {},
   "source": [
    "## Test Set 1"
   ]
  },
  {
   "cell_type": "code",
   "execution_count": 7,
   "id": "5d9c21c8",
   "metadata": {},
   "outputs": [],
   "source": [
    "# Importing testing dataset 1\n",
    "test_df1 = pd.read_csv('Test/test1.csv') \n",
    "test_df1 = Encoding_sentiment(test_df1) # Encoding categorical features\n",
    "test_df1.drop(index = list(test_df1[test_df1['word_count']==0].index),inplace = True, axis = 0) # dropping all those rows which have word count zero in other words rows which have empty article\n",
    "test1_num = test_df1.drop(['cleaned_article','label'], axis = 1).values # Testing features\n",
    "label_y1 = test_df1['label'].values # Testing labels\n",
    "#test1_num = sc.transform(test1_num) # scaling features"
   ]
  },
  {
   "cell_type": "markdown",
   "id": "9a66abf6",
   "metadata": {},
   "source": [
    "## Test Set 2"
   ]
  },
  {
   "cell_type": "code",
   "execution_count": 8,
   "id": "c8d89a61",
   "metadata": {},
   "outputs": [],
   "source": [
    "# Importing testing dataset 2\n",
    "test_df2 = pd.read_csv('Test/test2.csv')\n",
    "test_df2 = Encoding_sentiment(test_df2)\n",
    "test_df2.drop(index = list(test_df2[test_df2['word_count']==0].index),inplace = True, axis = 0)\n",
    "test2_num = test_df2.drop(['cleaned_article','label'], axis = 1).values\n",
    "test_df2.dropna(inplace = True)\n",
    "label_y2 = test_df2['label'].values\n",
    "#test2_num = sc.transform(test2_num)"
   ]
  },
  {
   "cell_type": "markdown",
   "id": "495209dc",
   "metadata": {},
   "source": [
    "## Count Vectorization"
   ]
  },
  {
   "cell_type": "code",
   "execution_count": null,
   "id": "cbcda4a8",
   "metadata": {},
   "outputs": [],
   "source": []
  },
  {
   "cell_type": "code",
   "execution_count": 9,
   "id": "1ec35f0d",
   "metadata": {},
   "outputs": [],
   "source": [
    "# Creating train and test data for model training\n",
    "from sklearn.model_selection import train_test_split\n",
    "X_train, X_test, y_train, y_test = train_test_split(df.drop('label',axis = 1), df['label'], test_size=0.2, random_state=20)"
   ]
  },
  {
   "cell_type": "code",
   "execution_count": 10,
   "id": "8b40292b",
   "metadata": {},
   "outputs": [
    {
     "data": {
      "text/plain": [
       "CountVectorizer()"
      ]
     },
     "execution_count": 10,
     "metadata": {},
     "output_type": "execute_result"
    }
   ],
   "source": [
    "# Fiting vectorizer on training dataset\n",
    "\n",
    "vectorizer = CountVectorizer()\n",
    "vectorizer.fit(df['cleaned_article']) # trump : 1"
   ]
  },
  {
   "cell_type": "code",
   "execution_count": 11,
   "id": "6c17ee8a",
   "metadata": {},
   "outputs": [],
   "source": [
    "import pickle\n",
    "pickle.dump(vectorizer, open(\"vectorizer.pickle\", \"wb\"))"
   ]
  },
  {
   "cell_type": "code",
   "execution_count": 12,
   "id": "db907dfc",
   "metadata": {},
   "outputs": [],
   "source": [
    "# Transforming \n",
    "train_vec = vectorizer.transform(X_train.cleaned_article)\n",
    "test_vec = vectorizer.transform(X_test.cleaned_article)"
   ]
  },
  {
   "cell_type": "code",
   "execution_count": 13,
   "id": "119a7353",
   "metadata": {},
   "outputs": [],
   "source": [
    "test_set1_vec = vectorizer.transform(test_df1['cleaned_article'])\n",
    "test_set2_vec = vectorizer.transform(test_df2['cleaned_article'])"
   ]
  },
  {
   "cell_type": "markdown",
   "id": "407e1941",
   "metadata": {},
   "source": [
    "## Logistic Regression"
   ]
  },
  {
   "cell_type": "code",
   "execution_count": 20,
   "id": "38b02958",
   "metadata": {
    "scrolled": true
   },
   "outputs": [
    {
     "data": {
      "text/plain": [
       "<AxesSubplot:>"
      ]
     },
     "execution_count": 20,
     "metadata": {},
     "output_type": "execute_result"
    },
    {
     "data": {
      "image/png": "[encoded data removed]",
      "text/plain": [
       "<Figure size 432x288 with 2 Axes>"
      ]
     },
     "metadata": {
      "needs_background": "light"
     },
     "output_type": "display_data"
    }
   ],
   "source": [
    "log_cls = LogisticRegression(penalty='l2', max_iter=500, solver = 'liblinear') # creating class object\n",
    "log_cls.fit(train_vec, y_train) # fitting to the training set\n",
    "\n",
    "log_ypred = log_cls.predict(test_vec) # predicting on testset\n",
    "\n",
    "# Ploting Confusion Matrix\n",
    "cm = confusion_matrix(y_test, log_ypred)\n",
    "sn.heatmap(cm, annot=True, fmt=\"d\")"
   ]
  },
  {
   "cell_type": "code",
   "execution_count": 21,
   "id": "04c56abc",
   "metadata": {},
   "outputs": [
    {
     "name": "stdout",
     "output_type": "stream",
     "text": [
      "              precision    recall  f1-score   support\n",
      "\n",
      "           0     0.9334    0.9376    0.9355      9714\n",
      "           1     0.9365    0.9322    0.9344      9590\n",
      "\n",
      "    accuracy                         0.9349     19304\n",
      "   macro avg     0.9350    0.9349    0.9349     19304\n",
      "weighted avg     0.9349    0.9349    0.9349     19304\n",
      "\n"
     ]
    }
   ],
   "source": [
    "print(classification_report(y_test, log_ypred, digits = 4))"
   ]
  },
  {
   "cell_type": "code",
   "execution_count": 22,
   "id": "4dc704bc",
   "metadata": {},
   "outputs": [
    {
     "name": "stdout",
     "output_type": "stream",
     "text": [
      "              precision    recall  f1-score   support\n",
      "\n",
      "           0     0.6565    0.6037    0.6290      2846\n",
      "           1     0.5604    0.6153    0.5866      2337\n",
      "\n",
      "    accuracy                         0.6089      5183\n",
      "   macro avg     0.6084    0.6095    0.6078      5183\n",
      "weighted avg     0.6132    0.6089    0.6098      5183\n",
      "\n"
     ]
    }
   ],
   "source": [
    "# Predicting on first test set\n",
    "test1_log_ypred = log_cls.predict(test_set1_vec)\n",
    "print(classification_report(label_y1, test1_log_ypred, digits = 4))"
   ]
  },
  {
   "cell_type": "code",
   "execution_count": 23,
   "id": "82a95e1d",
   "metadata": {},
   "outputs": [
    {
     "name": "stdout",
     "output_type": "stream",
     "text": [
      "              precision    recall  f1-score   support\n",
      "\n",
      "           0     0.6839    0.9757    0.8041      3164\n",
      "           1     0.9577    0.5500    0.6987      3171\n",
      "\n",
      "    accuracy                         0.7626      6335\n",
      "   macro avg     0.8208    0.7628    0.7514      6335\n",
      "weighted avg     0.8209    0.7626    0.7514      6335\n",
      "\n"
     ]
    }
   ],
   "source": [
    "# Predicting on 2nd test set\n",
    "test2_log_pred = log_cls.predict(test_set2_vec)\n",
    "print(classification_report(label_y2, test2_log_pred, digits = 4))"
   ]
  },
  {
   "cell_type": "code",
   "execution_count": null,
   "id": "6f92b6ec",
   "metadata": {},
   "outputs": [],
   "source": []
  },
  {
   "cell_type": "code",
   "execution_count": null,
   "id": "9da100f9",
   "metadata": {},
   "outputs": [],
   "source": []
  },
  {
   "cell_type": "code",
   "execution_count": 24,
   "id": "29dc2f98",
   "metadata": {},
   "outputs": [],
   "source": [
    "import pickle\n",
    "pickle.dump(log_cls, open(\"LR_model.pkl\", \"wb\"))\n",
    "pickle.dump(vectorizer, open(\"Count_vector.pkl\", \"wb\"))"
   ]
  },
  {
   "cell_type": "code",
   "execution_count": null,
   "id": "7475ce01",
   "metadata": {},
   "outputs": [],
   "source": []
  },
  {
   "cell_type": "code",
   "execution_count": null,
   "id": "6d7690cc",
   "metadata": {},
   "outputs": [],
   "source": []
  },
  {
   "cell_type": "markdown",
   "id": "af2a1477",
   "metadata": {},
   "source": [
    "## KNN"
   ]
  },
  {
   "cell_type": "code",
   "execution_count": 30,
   "id": "87ea90ab",
   "metadata": {},
   "outputs": [
    {
     "data": {
      "text/plain": [
       "<AxesSubplot:>"
      ]
     },
     "execution_count": 30,
     "metadata": {},
     "output_type": "execute_result"
    },
    {
     "data": {
      "image/png": "[encoded data removed]",
      "text/plain": [
       "<Figure size 432x288 with 2 Axes>"
      ]
     },
     "metadata": {
      "needs_background": "light"
     },
     "output_type": "display_data"
    }
   ],
   "source": [
    "knn_cls = KNeighborsClassifier(n_neighbors=7, n_jobs=-1)\n",
    "knn_cls.fit(train_vec, y_train)\n",
    "knn_ypred = knn_cls.predict(test_vec)\n",
    "\n",
    "cm = confusion_matrix(y_test, knn_ypred)\n",
    "sn.heatmap(cm, annot=True, fmt=\"d\")"
   ]
  },
  {
   "cell_type": "code",
   "execution_count": 31,
   "id": "37453fd7",
   "metadata": {},
   "outputs": [
    {
     "name": "stdout",
     "output_type": "stream",
     "text": [
      "              precision    recall  f1-score   support\n",
      "\n",
      "           0     0.7107    0.8173    0.7603      9714\n",
      "           1     0.7818    0.6631    0.7176      9590\n",
      "\n",
      "    accuracy                         0.7407     19304\n",
      "   macro avg     0.7463    0.7402    0.7389     19304\n",
      "weighted avg     0.7460    0.7407    0.7391     19304\n",
      "\n"
     ]
    }
   ],
   "source": [
    "# Classification report on train-test data\n",
    "print(classification_report(y_test, knn_ypred, digits = 4))"
   ]
  },
  {
   "cell_type": "code",
   "execution_count": 32,
   "id": "93d2f561",
   "metadata": {},
   "outputs": [
    {
     "name": "stdout",
     "output_type": "stream",
     "text": [
      "              precision    recall  f1-score   support\n",
      "\n",
      "           0     0.6485    0.6989    0.6728      2846\n",
      "           1     0.5950    0.5387    0.5655      2337\n",
      "\n",
      "    accuracy                         0.6267      5183\n",
      "   macro avg     0.6218    0.6188    0.6191      5183\n",
      "weighted avg     0.6244    0.6267    0.6244      5183\n",
      "\n"
     ]
    }
   ],
   "source": [
    "test1_knn_ypred = knn_cls.predict(test_set1_vec)\n",
    "print(classification_report(label_y1, test1_knn_ypred, digits = 4))"
   ]
  },
  {
   "cell_type": "code",
   "execution_count": 33,
   "id": "dea78a9a",
   "metadata": {},
   "outputs": [
    {
     "name": "stdout",
     "output_type": "stream",
     "text": [
      "              precision    recall  f1-score   support\n",
      "\n",
      "           0     0.6626    0.8790    0.7556      3164\n",
      "           1     0.8209    0.5535    0.6611      3171\n",
      "\n",
      "    accuracy                         0.7160      6335\n",
      "   macro avg     0.7417    0.7162    0.7084      6335\n",
      "weighted avg     0.7418    0.7160    0.7083      6335\n",
      "\n"
     ]
    }
   ],
   "source": [
    "test2_knn_ypred = knn_cls.predict(test_set2_vec)\n",
    "print(classification_report(label_y2, test2_knn_ypred, digits = 4))"
   ]
  },
  {
   "cell_type": "code",
   "execution_count": null,
   "id": "c7db2b73",
   "metadata": {},
   "outputs": [],
   "source": []
  },
  {
   "cell_type": "code",
   "execution_count": null,
   "id": "bfd7df2f",
   "metadata": {},
   "outputs": [],
   "source": []
  },
  {
   "cell_type": "code",
   "execution_count": null,
   "id": "ff47848c",
   "metadata": {},
   "outputs": [],
   "source": []
  },
  {
   "cell_type": "markdown",
   "id": "609ab660",
   "metadata": {},
   "source": [
    "## Linear SVC"
   ]
  },
  {
   "cell_type": "code",
   "execution_count": 57,
   "id": "28f68818",
   "metadata": {},
   "outputs": [
    {
     "data": {
      "text/plain": [
       "<AxesSubplot:>"
      ]
     },
     "execution_count": 57,
     "metadata": {},
     "output_type": "execute_result"
    },
    {
     "data": {
      "image/png": "[encoded data removed]",
      "text/plain": [
       "<Figure size 432x288 with 2 Axes>"
      ]
     },
     "metadata": {
      "needs_background": "light"
     },
     "output_type": "display_data"
    }
   ],
   "source": [
    "svm_clf = LinearSVC(max_iter = 2500, loss = 'squared_hinge', C = 0.01)\n",
    "svm_clf.fit(train_vec, y_train)\n",
    "svm_ypred = svm_clf.predict(test_vec)\n",
    "\n",
    "cm = confusion_matrix(y_test, svm_ypred)\n",
    "sn.heatmap(cm, annot=True, fmt=\"d\")"
   ]
  },
  {
   "cell_type": "code",
   "execution_count": 58,
   "id": "8a1a0f41",
   "metadata": {
    "scrolled": true
   },
   "outputs": [
    {
     "name": "stdout",
     "output_type": "stream",
     "text": [
      "              precision    recall  f1-score   support\n",
      "\n",
      "           0     0.9162    0.9437    0.9297      9714\n",
      "           1     0.9412    0.9125    0.9266      9590\n",
      "\n",
      "    accuracy                         0.9282     19304\n",
      "   macro avg     0.9287    0.9281    0.9282     19304\n",
      "weighted avg     0.9286    0.9282    0.9282     19304\n",
      "\n"
     ]
    }
   ],
   "source": [
    "print(classification_report(y_test, svm_ypred, digits = 4))"
   ]
  },
  {
   "cell_type": "code",
   "execution_count": 59,
   "id": "f70a9075",
   "metadata": {},
   "outputs": [
    {
     "name": "stdout",
     "output_type": "stream",
     "text": [
      "              precision    recall  f1-score   support\n",
      "\n",
      "           0     0.6634    0.6114    0.6363      2846\n",
      "           1     0.5680    0.6222    0.5938      2337\n",
      "\n",
      "    accuracy                         0.6162      5183\n",
      "   macro avg     0.6157    0.6168    0.6151      5183\n",
      "weighted avg     0.6203    0.6162    0.6172      5183\n",
      "\n"
     ]
    }
   ],
   "source": [
    "test1_svc_ypred = svm_clf.predict(test_set1_vec)\n",
    "print(classification_report(label_y1, test1_svc_ypred, digits = 4))"
   ]
  },
  {
   "cell_type": "code",
   "execution_count": 60,
   "id": "3e4450db",
   "metadata": {
    "scrolled": true
   },
   "outputs": [
    {
     "name": "stdout",
     "output_type": "stream",
     "text": [
      "              precision    recall  f1-score   support\n",
      "\n",
      "           0     0.6770    0.9766    0.7997      3164\n",
      "           1     0.9582    0.5352    0.6868      3171\n",
      "\n",
      "    accuracy                         0.7556      6335\n",
      "   macro avg     0.8176    0.7559    0.7432      6335\n",
      "weighted avg     0.8178    0.7556    0.7432      6335\n",
      "\n"
     ]
    }
   ],
   "source": [
    "test2_svc_ypred = svm_clf.predict(test_set2_vec)\n",
    "print(classification_report(label_y2, test2_svc_ypred, digits = 4))"
   ]
  },
  {
   "cell_type": "code",
   "execution_count": null,
   "id": "824dbfad",
   "metadata": {},
   "outputs": [],
   "source": []
  },
  {
   "cell_type": "code",
   "execution_count": null,
   "id": "cd00d9e0",
   "metadata": {},
   "outputs": [],
   "source": []
  },
  {
   "cell_type": "code",
   "execution_count": null,
   "id": "3da28844",
   "metadata": {},
   "outputs": [],
   "source": []
  },
  {
   "cell_type": "markdown",
   "id": "9ccf18ad",
   "metadata": {},
   "source": [
    "## Passive Regressive"
   ]
  },
  {
   "cell_type": "code",
   "execution_count": 40,
   "id": "b035e43f",
   "metadata": {},
   "outputs": [
    {
     "name": "stdout",
     "output_type": "stream",
     "text": [
      "Accuracy: 90.46%\n"
     ]
    }
   ],
   "source": [
    "from sklearn.linear_model import PassiveAggressiveClassifier\n",
    "#DataFlair - Initialize a PassiveAggressiveClassifier\n",
    "pac=PassiveAggressiveClassifier(max_iter=2500)\n",
    "pac.fit(train_vec, y_train)\n",
    "\n",
    "#DataFlair - Predict on the test set and calculate accuracy\n",
    "pac_ypred=pac.predict(test_vec)\n",
    "score=accuracy_score(y_test,pac_ypred)\n",
    "print(f'Accuracy: {round(score*100,2)}%')"
   ]
  },
  {
   "cell_type": "code",
   "execution_count": 41,
   "id": "965b452e",
   "metadata": {},
   "outputs": [
    {
     "name": "stdout",
     "output_type": "stream",
     "text": [
      "              precision    recall  f1-score   support\n",
      "\n",
      "           0     0.9134    0.8952    0.9042      9714\n",
      "           1     0.8960    0.9141    0.9049      9590\n",
      "\n",
      "    accuracy                         0.9046     19304\n",
      "   macro avg     0.9047    0.9046    0.9046     19304\n",
      "weighted avg     0.9048    0.9046    0.9046     19304\n",
      "\n"
     ]
    }
   ],
   "source": [
    "print(classification_report(y_test, pac_ypred, digits = 4))"
   ]
  },
  {
   "cell_type": "code",
   "execution_count": 42,
   "id": "65efcb0c",
   "metadata": {},
   "outputs": [
    {
     "name": "stdout",
     "output_type": "stream",
     "text": [
      "              precision    recall  f1-score   support\n",
      "\n",
      "           0     0.6393    0.5611    0.5977      2846\n",
      "           1     0.5348    0.6145    0.5719      2337\n",
      "\n",
      "    accuracy                         0.5852      5183\n",
      "   macro avg     0.5871    0.5878    0.5848      5183\n",
      "weighted avg     0.5922    0.5852    0.5860      5183\n",
      "\n"
     ]
    }
   ],
   "source": [
    "test1_pac_ypred = pac.predict(test_set1_vec)\n",
    "print(classification_report(label_y1, test1_pac_ypred, digits = 4))"
   ]
  },
  {
   "cell_type": "code",
   "execution_count": 43,
   "id": "c9fc6eef",
   "metadata": {
    "scrolled": true
   },
   "outputs": [
    {
     "name": "stdout",
     "output_type": "stream",
     "text": [
      "              precision    recall  f1-score   support\n",
      "\n",
      "           0     0.7149    0.9453    0.8141      3164\n",
      "           1     0.9196    0.6238    0.7433      3171\n",
      "\n",
      "    accuracy                         0.7844      6335\n",
      "   macro avg     0.8172    0.7846    0.7787      6335\n",
      "weighted avg     0.8173    0.7844    0.7787      6335\n",
      "\n"
     ]
    }
   ],
   "source": [
    "test2_pac_ypred = pac.predict(test_set2_vec)\n",
    "print(classification_report(label_y2, test2_pac_ypred, digits = 4))"
   ]
  },
  {
   "cell_type": "markdown",
   "id": "be98fd98",
   "metadata": {},
   "source": [
    "## Random Forest"
   ]
  },
  {
   "cell_type": "code",
   "execution_count": 14,
   "id": "63ccb84e",
   "metadata": {},
   "outputs": [
    {
     "data": {
      "text/plain": [
       "<AxesSubplot:>"
      ]
     },
     "execution_count": 14,
     "metadata": {},
     "output_type": "execute_result"
    },
    {
     "data": {
      "image/png": "[encoded data removed]",
      "text/plain": [
       "<Figure size 432x288 with 2 Axes>"
      ]
     },
     "metadata": {
      "needs_background": "light"
     },
     "output_type": "display_data"
    }
   ],
   "source": [
    "rand_forest_cls = RandomForestClassifier(n_estimators = 270, n_jobs = -1)\n",
    "rand_forest_cls.fit(train_vec, y_train)\n",
    "randForest_ypred = rand_forest_cls.predict(test_vec)\n",
    "\n",
    "cm = confusion_matrix(y_test, randForest_ypred)\n",
    "sn.heatmap(cm, annot=True, fmt=\"d\")\n"
   ]
  },
  {
   "cell_type": "code",
   "execution_count": 15,
   "id": "a66efbf7",
   "metadata": {},
   "outputs": [
    {
     "name": "stdout",
     "output_type": "stream",
     "text": [
      "              precision    recall  f1-score   support\n",
      "\n",
      "           0     0.9473    0.9203    0.9336      9714\n",
      "           1     0.9216    0.9482    0.9347      9590\n",
      "\n",
      "    accuracy                         0.9342     19304\n",
      "   macro avg     0.9344    0.9342    0.9342     19304\n",
      "weighted avg     0.9345    0.9342    0.9342     19304\n",
      "\n"
     ]
    }
   ],
   "source": [
    "print(classification_report(y_test, randForest_ypred, digits = 4))"
   ]
  },
  {
   "cell_type": "code",
   "execution_count": 16,
   "id": "4c41a490",
   "metadata": {},
   "outputs": [
    {
     "name": "stdout",
     "output_type": "stream",
     "text": [
      "              precision    recall  f1-score   support\n",
      "\n",
      "           0     0.7164    0.5903    0.6473      2846\n",
      "           1     0.5891    0.7154    0.6462      2337\n",
      "\n",
      "    accuracy                         0.6467      5183\n",
      "   macro avg     0.6528    0.6529    0.6467      5183\n",
      "weighted avg     0.6590    0.6467    0.6468      5183\n",
      "\n"
     ]
    }
   ],
   "source": [
    "test1_rand_ypred = rand_forest_cls.predict(test_set1_vec)\n",
    "print(classification_report(label_y1, test1_rand_ypred, digits = 4))"
   ]
  },
  {
   "cell_type": "code",
   "execution_count": 17,
   "id": "3c9673da",
   "metadata": {},
   "outputs": [
    {
     "name": "stdout",
     "output_type": "stream",
     "text": [
      "              precision    recall  f1-score   support\n",
      "\n",
      "           0     0.7726    0.9608    0.8565      3164\n",
      "           1     0.9483    0.7178    0.8171      3171\n",
      "\n",
      "    accuracy                         0.8391      6335\n",
      "   macro avg     0.8604    0.8393    0.8368      6335\n",
      "weighted avg     0.8605    0.8391    0.8368      6335\n",
      "\n"
     ]
    }
   ],
   "source": [
    "test2_rand_ypred = rand_forest_cls.predict(test_set2_vec)\n",
    "print(classification_report(label_y2, test2_rand_ypred, digits = 4))"
   ]
  },
  {
   "cell_type": "code",
   "execution_count": null,
   "id": "95c58b93",
   "metadata": {},
   "outputs": [],
   "source": []
  },
  {
   "cell_type": "code",
   "execution_count": 19,
   "id": "6ee63cce",
   "metadata": {},
   "outputs": [],
   "source": [
    "import pickle\n",
    "pickle.dump(rand_forest_cls, open(\"RF_model.pkl\", \"wb\"))\n",
    "pickle.dump(vectorizer, open(\"Count_vector.pkl\", \"wb\"))"
   ]
  },
  {
   "cell_type": "code",
   "execution_count": null,
   "id": "b0ddff8c",
   "metadata": {},
   "outputs": [],
   "source": []
  },
  {
   "cell_type": "code",
   "execution_count": null,
   "id": "1464b025",
   "metadata": {},
   "outputs": [],
   "source": []
  },
  {
   "cell_type": "markdown",
   "id": "d4b7ff2c",
   "metadata": {},
   "source": [
    "## Gradient Boosting"
   ]
  },
  {
   "cell_type": "code",
   "execution_count": 26,
   "id": "85e2ac44",
   "metadata": {},
   "outputs": [
    {
     "data": {
      "text/plain": [
       "<AxesSubplot:>"
      ]
     },
     "execution_count": 26,
     "metadata": {},
     "output_type": "execute_result"
    },
    {
     "data": {
      "image/png": "[encoded data removed]",
      "text/plain": [
       "<Figure size 432x288 with 2 Axes>"
      ]
     },
     "metadata": {
      "needs_background": "light"
     },
     "output_type": "display_data"
    }
   ],
   "source": [
    "gb_clf = GradientBoostingClassifier(n_estimators=210, learning_rate=0.1)\n",
    "gb_clf.fit(train_vec, y_train)\n",
    "gb_ypred = gb_clf.predict(test_vec)\n",
    "\n",
    "cm = confusion_matrix(y_test, gb_ypred)\n",
    "sn.heatmap(cm, annot=True, fmt=\"d\")"
   ]
  },
  {
   "cell_type": "code",
   "execution_count": 27,
   "id": "13d418fe",
   "metadata": {},
   "outputs": [
    {
     "name": "stdout",
     "output_type": "stream",
     "text": [
      "              precision    recall  f1-score   support\n",
      "\n",
      "           0     0.8698    0.9141    0.8914      9714\n",
      "           1     0.9083    0.8614    0.8842      9590\n",
      "\n",
      "    accuracy                         0.8880     19304\n",
      "   macro avg     0.8891    0.8878    0.8878     19304\n",
      "weighted avg     0.8889    0.8880    0.8879     19304\n",
      "\n"
     ]
    }
   ],
   "source": [
    "print(classification_report(y_test, gb_ypred, digits = 4))"
   ]
  },
  {
   "cell_type": "code",
   "execution_count": 28,
   "id": "e1c5323d",
   "metadata": {},
   "outputs": [
    {
     "name": "stdout",
     "output_type": "stream",
     "text": [
      "              precision    recall  f1-score   support\n",
      "\n",
      "           0     0.6832    0.5871    0.6315      2846\n",
      "           1     0.5707    0.6684    0.6157      2337\n",
      "\n",
      "    accuracy                         0.6238      5183\n",
      "   macro avg     0.6269    0.6278    0.6236      5183\n",
      "weighted avg     0.6324    0.6238    0.6244      5183\n",
      "\n"
     ]
    }
   ],
   "source": [
    "test1_gb_ypred = gb_clf.predict(test_set1_vec)\n",
    "print(classification_report(label_y1, test1_gb_ypred, digits = 4))"
   ]
  },
  {
   "cell_type": "code",
   "execution_count": 29,
   "id": "ac85fdce",
   "metadata": {},
   "outputs": [
    {
     "name": "stdout",
     "output_type": "stream",
     "text": [
      "              precision    recall  f1-score   support\n",
      "\n",
      "           0     0.6517    0.9194    0.7627      3164\n",
      "           1     0.8637    0.5096    0.6410      3171\n",
      "\n",
      "    accuracy                         0.7143      6335\n",
      "   macro avg     0.7577    0.7145    0.7019      6335\n",
      "weighted avg     0.7578    0.7143    0.7018      6335\n",
      "\n"
     ]
    }
   ],
   "source": [
    "test2_gb_ypred = gb_clf.predict(test_set2_vec)\n",
    "print(classification_report(label_y2, test2_gb_ypred, digits = 4))"
   ]
  },
  {
   "cell_type": "code",
   "execution_count": null,
   "id": "0f767abe",
   "metadata": {},
   "outputs": [],
   "source": []
  },
  {
   "cell_type": "code",
   "execution_count": null,
   "id": "5d103281",
   "metadata": {},
   "outputs": [],
   "source": []
  },
  {
   "cell_type": "markdown",
   "id": "bd356c9f",
   "metadata": {},
   "source": [
    "## XGBoost"
   ]
  },
  {
   "cell_type": "code",
   "execution_count": 24,
   "id": "4feb3320",
   "metadata": {},
   "outputs": [
    {
     "name": "stdout",
     "output_type": "stream",
     "text": [
      "[00:28:43] WARNING: C:/Users/Administrator/workspace/xgboost-win64_release_1.5.1/src/learner.cc:1115: Starting in XGBoost 1.3.0, the default evaluation metric used with the objective 'binary:logistic' was changed from 'error' to 'logloss'. Explicitly set eval_metric if you'd like to restore the old behavior.\n"
     ]
    },
    {
     "data": {
      "text/plain": [
       "<AxesSubplot:>"
      ]
     },
     "execution_count": 24,
     "metadata": {},
     "output_type": "execute_result"
    },
    {
     "data": {
      "image/png": "[encoded data removed]",
      "text/plain": [
       "<Figure size 432x288 with 2 Axes>"
      ]
     },
     "metadata": {
      "needs_background": "light"
     },
     "output_type": "display_data"
    }
   ],
   "source": [
    "xgb1 = XGBClassifier(n_estimators = 150, gpu_id = 0, max_depth = 19, n_jobs = -1, tree_method='gpu_hist')\n",
    "\n",
    "xgb1.fit(train_vec, y_train)\n",
    "xgb_ypred = xgb1.predict(test_vec)\n",
    "\n",
    "cm = confusion_matrix(y_test, xgb_ypred)\n",
    "sn.heatmap(cm, annot=True, fmt=\"d\")"
   ]
  },
  {
   "cell_type": "code",
   "execution_count": 21,
   "id": "3779a47a",
   "metadata": {},
   "outputs": [
    {
     "name": "stdout",
     "output_type": "stream",
     "text": [
      "              precision    recall  f1-score   support\n",
      "\n",
      "           0     0.9053    0.9358    0.9203      9714\n",
      "           1     0.9326    0.9008    0.9165      9590\n",
      "\n",
      "    accuracy                         0.9184     19304\n",
      "   macro avg     0.9190    0.9183    0.9184     19304\n",
      "weighted avg     0.9189    0.9184    0.9184     19304\n",
      "\n"
     ]
    }
   ],
   "source": [
    "print(classification_report(y_test, xgb_ypred, digits = 4))"
   ]
  },
  {
   "cell_type": "code",
   "execution_count": 22,
   "id": "133c49ca",
   "metadata": {},
   "outputs": [
    {
     "name": "stdout",
     "output_type": "stream",
     "text": [
      "              precision    recall  f1-score   support\n",
      "\n",
      "           0     0.6876    0.6033    0.6427      2846\n",
      "           1     0.5797    0.6662    0.6199      2337\n",
      "\n",
      "    accuracy                         0.6317      5183\n",
      "   macro avg     0.6336    0.6348    0.6313      5183\n",
      "weighted avg     0.6389    0.6317    0.6324      5183\n",
      "\n"
     ]
    }
   ],
   "source": [
    "test1_xgb_ypred = xgb1.predict(test_set1_vec)\n",
    "print(classification_report(label_y1, test1_xgb_ypred, digits = 4))"
   ]
  },
  {
   "cell_type": "code",
   "execution_count": 23,
   "id": "a0208348",
   "metadata": {
    "scrolled": true
   },
   "outputs": [
    {
     "name": "stdout",
     "output_type": "stream",
     "text": [
      "              precision    recall  f1-score   support\n",
      "\n",
      "           0     0.6520    0.9646    0.7781      3164\n",
      "           1     0.9323    0.4863    0.6392      3171\n",
      "\n",
      "    accuracy                         0.7252      6335\n",
      "   macro avg     0.7921    0.7254    0.7086      6335\n",
      "weighted avg     0.7923    0.7252    0.7085      6335\n",
      "\n"
     ]
    }
   ],
   "source": [
    "test2_xgb_ypred = xgb1.predict(test_set2_vec)\n",
    "print(classification_report(label_y2, test2_xgb_ypred, digits = 4))"
   ]
  },
  {
   "cell_type": "code",
   "execution_count": null,
   "id": "c8aea59d",
   "metadata": {},
   "outputs": [],
   "source": []
  },
  {
   "cell_type": "code",
   "execution_count": null,
   "id": "ef79c9af",
   "metadata": {},
   "outputs": [],
   "source": []
  },
  {
   "cell_type": "code",
   "execution_count": null,
   "id": "49be81af",
   "metadata": {},
   "outputs": [],
   "source": []
  },
  {
   "cell_type": "markdown",
   "id": "174130e8",
   "metadata": {},
   "source": [
    "# Count Vector + Numeric Features"
   ]
  },
  {
   "cell_type": "code",
   "execution_count": 13,
   "id": "28cc5ed4",
   "metadata": {},
   "outputs": [],
   "source": [
    "num_feature_xtrain = X_train.drop(['cleaned_article'], axis = 1).values # Training features\n",
    "num_feature_xtest = X_test.drop(['cleaned_article'], axis = 1).values"
   ]
  },
  {
   "cell_type": "code",
   "execution_count": 14,
   "id": "75f466c4",
   "metadata": {},
   "outputs": [],
   "source": [
    "# Scaling the data using Standard Scaler with mean = 0 and variance = 1\n",
    "from sklearn.preprocessing import StandardScaler\n",
    "sc = StandardScaler()\n",
    "sc.fit(num_feature_xtrain)\n",
    "num_feature_xtrain = sc.transform(num_feature_xtrain)"
   ]
  },
  {
   "cell_type": "code",
   "execution_count": 15,
   "id": "916f06bf",
   "metadata": {},
   "outputs": [],
   "source": [
    "num_feature_xtest = sc.transform(num_feature_xtest)\n",
    "test1_num = sc.transform(test1_num)\n",
    "test2_num = sc.transform(test2_num)"
   ]
  },
  {
   "cell_type": "code",
   "execution_count": 17,
   "id": "8a0a53aa",
   "metadata": {},
   "outputs": [],
   "source": [
    "from scipy.sparse import coo_matrix, hstack\n",
    "cv_num_train = hstack([train_vec, num_feature_xtrain])\n",
    "cv_num_test = hstack([test_vec, num_feature_xtest])\n",
    "\n",
    "test1_cv_num = hstack([test_set1_vec, test1_num])\n",
    "test2_cv_num = hstack([test_set2_vec, test2_num])\n"
   ]
  },
  {
   "cell_type": "markdown",
   "id": "1913be33",
   "metadata": {},
   "source": [
    "## Logistic Regression"
   ]
  },
  {
   "cell_type": "code",
   "execution_count": 18,
   "id": "34f41fa1",
   "metadata": {},
   "outputs": [
    {
     "data": {
      "text/plain": [
       "<AxesSubplot:>"
      ]
     },
     "execution_count": 18,
     "metadata": {},
     "output_type": "execute_result"
    },
    {
     "data": {
      "image/png": "[encoded data removed]",
      "text/plain": [
       "<Figure size 432x288 with 2 Axes>"
      ]
     },
     "metadata": {
      "needs_background": "light"
     },
     "output_type": "display_data"
    }
   ],
   "source": [
    "log_cvnum_cls = LogisticRegression(penalty='l2', max_iter=500, solver = 'liblinear') # creating class object\n",
    "log_cvnum_cls.fit(cv_num_train, y_train) # fitting to the training set\n",
    "\n",
    "log_cvnum_ypred = log_cvnum_cls.predict(cv_num_test) # predicting on testset\n",
    "\n",
    "# Ploting Confusion Matrix\n",
    "cm = confusion_matrix(y_test, log_cvnum_ypred)\n",
    "sn.heatmap(cm, annot=True, fmt=\"d\")"
   ]
  },
  {
   "cell_type": "code",
   "execution_count": 23,
   "id": "f5d44330",
   "metadata": {},
   "outputs": [
    {
     "name": "stdout",
     "output_type": "stream",
     "text": [
      "              precision    recall  f1-score   support\n",
      "\n",
      "           0     0.9371    0.9358    0.9364      9728\n",
      "           1     0.9348    0.9362    0.9355      9576\n",
      "\n",
      "    accuracy                         0.9360     19304\n",
      "   macro avg     0.9360    0.9360    0.9360     19304\n",
      "weighted avg     0.9360    0.9360    0.9360     19304\n",
      "\n"
     ]
    }
   ],
   "source": [
    "print(classification_report(log_cvnum_ypred, y_test, digits = 4))"
   ]
  },
  {
   "cell_type": "code",
   "execution_count": 24,
   "id": "ed4b351a",
   "metadata": {},
   "outputs": [
    {
     "name": "stdout",
     "output_type": "stream",
     "text": [
      "              precision    recall  f1-score   support\n",
      "\n",
      "           0     0.6649    0.6079    0.6351      2846\n",
      "           1     0.5676    0.6269    0.5958      2337\n",
      "\n",
      "    accuracy                         0.6164      5183\n",
      "   macro avg     0.6162    0.6174    0.6154      5183\n",
      "weighted avg     0.6210    0.6164    0.6174      5183\n",
      "\n"
     ]
    }
   ],
   "source": [
    "test1_cv_ypred = log_cvnum_cls.predict(test1_cv_num)\n",
    "print(classification_report(label_y1, test1_cv_ypred, digits = 4))"
   ]
  },
  {
   "cell_type": "code",
   "execution_count": 25,
   "id": "5c0a2eb1",
   "metadata": {},
   "outputs": [
    {
     "name": "stdout",
     "output_type": "stream",
     "text": [
      "              precision    recall  f1-score   support\n",
      "\n",
      "           0     0.6850    0.9772    0.8054      3164\n",
      "           1     0.9605    0.5516    0.7007      3171\n",
      "\n",
      "    accuracy                         0.7642      6335\n",
      "   macro avg     0.8227    0.7644    0.7531      6335\n",
      "weighted avg     0.8229    0.7642    0.7530      6335\n",
      "\n"
     ]
    }
   ],
   "source": [
    "test2_cv_ypred = log_cvnum_cls.predict(test2_cv_num)\n",
    "print(classification_report(label_y2, test2_cv_ypred, digits = 4))"
   ]
  },
  {
   "cell_type": "code",
   "execution_count": null,
   "id": "916f36ee",
   "metadata": {},
   "outputs": [],
   "source": []
  },
  {
   "cell_type": "code",
   "execution_count": null,
   "id": "a1a5868d",
   "metadata": {},
   "outputs": [],
   "source": []
  },
  {
   "cell_type": "markdown",
   "id": "6bfb410d",
   "metadata": {},
   "source": [
    "## KNN"
   ]
  },
  {
   "cell_type": "code",
   "execution_count": 34,
   "id": "018dafb4",
   "metadata": {},
   "outputs": [
    {
     "data": {
      "text/plain": [
       "<AxesSubplot:>"
      ]
     },
     "execution_count": 34,
     "metadata": {},
     "output_type": "execute_result"
    },
    {
     "data": {
      "image/png": "[encoded data removed]",
      "text/plain": [
       "<Figure size 432x288 with 2 Axes>"
      ]
     },
     "metadata": {
      "needs_background": "light"
     },
     "output_type": "display_data"
    }
   ],
   "source": [
    "knn_cvnum_cls = KNeighborsClassifier(n_neighbors=5, n_jobs=-1)\n",
    "knn_cvnum_cls.fit(cv_num_train, y_train) # fitting to the training set\n",
    "\n",
    "knn_cvnum_ypred = knn_cvnum_cls.predict(cv_num_test) # predicting on testset\n",
    "\n",
    "# Ploting Confusion Matrix\n",
    "cm = confusion_matrix(y_test, knn_cvnum_ypred)\n",
    "sn.heatmap(cm, annot=True, fmt=\"d\")"
   ]
  },
  {
   "cell_type": "code",
   "execution_count": 35,
   "id": "f177a7e2",
   "metadata": {},
   "outputs": [
    {
     "name": "stdout",
     "output_type": "stream",
     "text": [
      "              precision    recall  f1-score   support\n",
      "\n",
      "           0     0.7365    0.8016    0.7677      9714\n",
      "           1     0.7793    0.7095    0.7428      9590\n",
      "\n",
      "    accuracy                         0.7559     19304\n",
      "   macro avg     0.7579    0.7556    0.7552     19304\n",
      "weighted avg     0.7578    0.7559    0.7553     19304\n",
      "\n"
     ]
    }
   ],
   "source": [
    "print(classification_report(y_test, knn_cvnum_ypred, digits = 4))"
   ]
  },
  {
   "cell_type": "code",
   "execution_count": 36,
   "id": "d3737a77",
   "metadata": {},
   "outputs": [
    {
     "name": "stdout",
     "output_type": "stream",
     "text": [
      "              precision    recall  f1-score   support\n",
      "\n",
      "           0     0.6356    0.6644    0.6497      2846\n",
      "           1     0.5675    0.5362    0.5514      2337\n",
      "\n",
      "    accuracy                         0.6066      5183\n",
      "   macro avg     0.6016    0.6003    0.6005      5183\n",
      "weighted avg     0.6049    0.6066    0.6054      5183\n",
      "\n"
     ]
    }
   ],
   "source": [
    "# Predicting on first test set\n",
    "test1_cvknn_ypred = knn_cvnum_cls.predict(test1_cv_num)\n",
    "print(classification_report(label_y1, test1_cvknn_ypred, digits = 4))"
   ]
  },
  {
   "cell_type": "code",
   "execution_count": 37,
   "id": "a5ef92e1",
   "metadata": {},
   "outputs": [
    {
     "name": "stdout",
     "output_type": "stream",
     "text": [
      "              precision    recall  f1-score   support\n",
      "\n",
      "           0     0.6648    0.8793    0.7571      3164\n",
      "           1     0.8223    0.5576    0.6645      3171\n",
      "\n",
      "    accuracy                         0.7182      6335\n",
      "   macro avg     0.7435    0.7184    0.7108      6335\n",
      "weighted avg     0.7436    0.7182    0.7108      6335\n",
      "\n"
     ]
    }
   ],
   "source": [
    "# Predicting on 2nd test set\n",
    "test2_cvknn_ypred = knn_cvnum_cls.predict(test2_cv_num)\n",
    "print(classification_report(label_y2, test2_cvknn_ypred, digits = 4))"
   ]
  },
  {
   "cell_type": "code",
   "execution_count": null,
   "id": "cf1fa11b",
   "metadata": {},
   "outputs": [],
   "source": []
  },
  {
   "cell_type": "code",
   "execution_count": null,
   "id": "d7b17b39",
   "metadata": {},
   "outputs": [],
   "source": []
  },
  {
   "cell_type": "markdown",
   "id": "491bca5b",
   "metadata": {},
   "source": [
    "## Linear SVC"
   ]
  },
  {
   "cell_type": "code",
   "execution_count": 38,
   "id": "65f7c3c9",
   "metadata": {},
   "outputs": [
    {
     "data": {
      "text/plain": [
       "<AxesSubplot:>"
      ]
     },
     "execution_count": 38,
     "metadata": {},
     "output_type": "execute_result"
    },
    {
     "data": {
      "image/png": "[encoded data removed]",
      "text/plain": [
       "<Figure size 432x288 with 2 Axes>"
      ]
     },
     "metadata": {
      "needs_background": "light"
     },
     "output_type": "display_data"
    }
   ],
   "source": [
    "svc_cvnum_cls = LinearSVC(max_iter = 2500, loss = 'squared_hinge', C = 0.01) # creating class object\n",
    "svc_cvnum_cls.fit(cv_num_train, y_train) # fitting to the training set\n",
    "\n",
    "svc_cvnum_ypred = svc_cvnum_cls.predict(cv_num_test) # predicting on testset\n",
    "\n",
    "# Ploting Confusion Matrix\n",
    "cm = confusion_matrix(y_test, svc_cvnum_ypred)\n",
    "sn.heatmap(cm, annot=True, fmt=\"d\")"
   ]
  },
  {
   "cell_type": "code",
   "execution_count": 39,
   "id": "c1573cbe",
   "metadata": {},
   "outputs": [
    {
     "name": "stdout",
     "output_type": "stream",
     "text": [
      "              precision    recall  f1-score   support\n",
      "\n",
      "           0     0.9240    0.9410    0.9324      9714\n",
      "           1     0.9391    0.9216    0.9303      9590\n",
      "\n",
      "    accuracy                         0.9314     19304\n",
      "   macro avg     0.9316    0.9313    0.9313     19304\n",
      "weighted avg     0.9315    0.9314    0.9314     19304\n",
      "\n"
     ]
    }
   ],
   "source": [
    "print(classification_report(y_test, svc_cvnum_ypred, digits = 4))"
   ]
  },
  {
   "cell_type": "code",
   "execution_count": 40,
   "id": "6fb1dce8",
   "metadata": {},
   "outputs": [
    {
     "name": "stdout",
     "output_type": "stream",
     "text": [
      "              precision    recall  f1-score   support\n",
      "\n",
      "           0     0.6687    0.6121    0.6391      2846\n",
      "           1     0.5718    0.6307    0.5998      2337\n",
      "\n",
      "    accuracy                         0.6205      5183\n",
      "   macro avg     0.6202    0.6214    0.6195      5183\n",
      "weighted avg     0.6250    0.6205    0.6214      5183\n",
      "\n"
     ]
    }
   ],
   "source": [
    "# Predicting on first test set\n",
    "test1_cvsvc_ypred = svc_cvnum_cls.predict(test1_cv_num)\n",
    "print(classification_report(label_y1, test1_cvsvc_ypred, digits = 4))"
   ]
  },
  {
   "cell_type": "code",
   "execution_count": 41,
   "id": "d66df73a",
   "metadata": {
    "scrolled": true
   },
   "outputs": [
    {
     "name": "stdout",
     "output_type": "stream",
     "text": [
      "              precision    recall  f1-score   support\n",
      "\n",
      "           0     0.6801    0.9779    0.8023      3164\n",
      "           1     0.9608    0.5412    0.6924      3171\n",
      "\n",
      "    accuracy                         0.7593      6335\n",
      "   macro avg     0.8205    0.7595    0.7473      6335\n",
      "weighted avg     0.8206    0.7593    0.7473      6335\n",
      "\n"
     ]
    }
   ],
   "source": [
    "# Predicting on 2nd test set\n",
    "test2_cvsvc_ypred = svc_cvnum_cls.predict(test2_cv_num)\n",
    "print(classification_report(label_y2, test2_cvsvc_ypred, digits = 4))"
   ]
  },
  {
   "cell_type": "code",
   "execution_count": null,
   "id": "4ce0e2bd",
   "metadata": {},
   "outputs": [],
   "source": []
  },
  {
   "cell_type": "code",
   "execution_count": null,
   "id": "0e27c581",
   "metadata": {},
   "outputs": [],
   "source": []
  },
  {
   "cell_type": "markdown",
   "id": "9cf7835d",
   "metadata": {},
   "source": [
    "## Passive Aggressive"
   ]
  },
  {
   "cell_type": "code",
   "execution_count": 52,
   "id": "2f1c3a35",
   "metadata": {},
   "outputs": [
    {
     "data": {
      "text/plain": [
       "<AxesSubplot:>"
      ]
     },
     "execution_count": 52,
     "metadata": {},
     "output_type": "execute_result"
    },
    {
     "data": {
      "image/png": "[encoded data removed]",
      "text/plain": [
       "<Figure size 432x288 with 2 Axes>"
      ]
     },
     "metadata": {
      "needs_background": "light"
     },
     "output_type": "display_data"
    }
   ],
   "source": [
    "pac_cvnum_cls = PassiveAggressiveClassifier(max_iter=1000, C = 0.1, n_jobs=-1) # creating class object\n",
    "pac_cvnum_cls.fit(cv_num_train, y_train) # fitting to the training set\n",
    "\n",
    "pac_cvnum_ypred = pac_cvnum_cls.predict(cv_num_test) # predicting on testset\n",
    "\n",
    "# Ploting Confusion Matrix\n",
    "cm = confusion_matrix(y_test, pac_cvnum_ypred)\n",
    "sn.heatmap(cm, annot=True, fmt=\"d\")"
   ]
  },
  {
   "cell_type": "code",
   "execution_count": 53,
   "id": "5f75cb2b",
   "metadata": {},
   "outputs": [
    {
     "name": "stdout",
     "output_type": "stream",
     "text": [
      "              precision    recall  f1-score   support\n",
      "\n",
      "           0     0.8967    0.9303    0.9132      9714\n",
      "           1     0.9266    0.8914    0.9087      9590\n",
      "\n",
      "    accuracy                         0.9110     19304\n",
      "   macro avg     0.9117    0.9109    0.9109     19304\n",
      "weighted avg     0.9116    0.9110    0.9110     19304\n",
      "\n"
     ]
    }
   ],
   "source": [
    "print(classification_report(y_test, pac_cvnum_ypred, digits = 4))"
   ]
  },
  {
   "cell_type": "code",
   "execution_count": 54,
   "id": "a716d30d",
   "metadata": {},
   "outputs": [
    {
     "name": "stdout",
     "output_type": "stream",
     "text": [
      "              precision    recall  f1-score   support\n",
      "\n",
      "           0     0.6505    0.5945    0.6213      2846\n",
      "           1     0.5531    0.6110    0.5806      2337\n",
      "\n",
      "    accuracy                         0.6020      5183\n",
      "   macro avg     0.6018    0.6028    0.6009      5183\n",
      "weighted avg     0.6066    0.6020    0.6029      5183\n",
      "\n"
     ]
    }
   ],
   "source": [
    "# Predicting on first test set\n",
    "test1_cvpac_ypred = pac_cvnum_cls.predict(test1_cv_num)\n",
    "print(classification_report(label_y1, test1_cvpac_ypred, digits = 4))"
   ]
  },
  {
   "cell_type": "code",
   "execution_count": 55,
   "id": "95d4b727",
   "metadata": {
    "scrolled": false
   },
   "outputs": [
    {
     "name": "stdout",
     "output_type": "stream",
     "text": [
      "              precision    recall  f1-score   support\n",
      "\n",
      "           0     0.6868    0.9618    0.8013      3164\n",
      "           1     0.9364    0.5623    0.7027      3171\n",
      "\n",
      "    accuracy                         0.7618      6335\n",
      "   macro avg     0.8116    0.7620    0.7520      6335\n",
      "weighted avg     0.8117    0.7618    0.7519      6335\n",
      "\n"
     ]
    }
   ],
   "source": [
    "# Predicting on 2nd test set\n",
    "test2_cvpac_ypred = pac_cvnum_cls.predict(test2_cv_num)\n",
    "print(classification_report(label_y2, test2_cvpac_ypred, digits = 4))"
   ]
  },
  {
   "cell_type": "code",
   "execution_count": null,
   "id": "3677921c",
   "metadata": {},
   "outputs": [],
   "source": []
  },
  {
   "cell_type": "code",
   "execution_count": null,
   "id": "7b0331a7",
   "metadata": {},
   "outputs": [],
   "source": []
  },
  {
   "cell_type": "markdown",
   "id": "b8e0af32",
   "metadata": {},
   "source": [
    "## Random Forest"
   ]
  },
  {
   "cell_type": "code",
   "execution_count": 56,
   "id": "bdf35ea4",
   "metadata": {},
   "outputs": [
    {
     "data": {
      "text/plain": [
       "<AxesSubplot:>"
      ]
     },
     "execution_count": 56,
     "metadata": {},
     "output_type": "execute_result"
    },
    {
     "data": {
      "image/png": "[encoded data removed]",
      "text/plain": [
       "<Figure size 432x288 with 2 Axes>"
      ]
     },
     "metadata": {
      "needs_background": "light"
     },
     "output_type": "display_data"
    }
   ],
   "source": [
    "rand_cvnum_cls = RandomForestClassifier(n_estimators= 230, n_jobs = -1) # creating class object\n",
    "rand_cvnum_cls.fit(cv_num_train, y_train) # fitting to the training set\n",
    "\n",
    "rand_cvnum_ypred = rand_cvnum_cls.predict(cv_num_test) # predicting on testset\n",
    "\n",
    "# Ploting Confusion Matrix\n",
    "cm = confusion_matrix(y_test, rand_cvnum_ypred)\n",
    "sn.heatmap(cm, annot=True, fmt=\"d\")"
   ]
  },
  {
   "cell_type": "code",
   "execution_count": 57,
   "id": "968570ea",
   "metadata": {},
   "outputs": [
    {
     "name": "stdout",
     "output_type": "stream",
     "text": [
      "              precision    recall  f1-score   support\n",
      "\n",
      "           0     0.9483    0.9216    0.9347      9714\n",
      "           1     0.9227    0.9491    0.9357      9590\n",
      "\n",
      "    accuracy                         0.9352     19304\n",
      "   macro avg     0.9355    0.9353    0.9352     19304\n",
      "weighted avg     0.9356    0.9352    0.9352     19304\n",
      "\n"
     ]
    }
   ],
   "source": [
    "print(classification_report(y_test, rand_cvnum_ypred, digits = 4))"
   ]
  },
  {
   "cell_type": "code",
   "execution_count": 58,
   "id": "39a7c9b8",
   "metadata": {},
   "outputs": [
    {
     "name": "stdout",
     "output_type": "stream",
     "text": [
      "              precision    recall  f1-score   support\n",
      "\n",
      "           0     0.7395    0.6103    0.6687      2846\n",
      "           1     0.6087    0.7381    0.6672      2337\n",
      "\n",
      "    accuracy                         0.6680      5183\n",
      "   macro avg     0.6741    0.6742    0.6680      5183\n",
      "weighted avg     0.6805    0.6680    0.6680      5183\n",
      "\n"
     ]
    }
   ],
   "source": [
    "# Predicting on first test set\n",
    "test1_cvrand_ypred = rand_cvnum_cls.predict(test1_cv_num)\n",
    "print(classification_report(label_y1, test1_cvrand_ypred, digits = 4))"
   ]
  },
  {
   "cell_type": "code",
   "execution_count": 59,
   "id": "d694ffca",
   "metadata": {
    "scrolled": false
   },
   "outputs": [
    {
     "name": "stdout",
     "output_type": "stream",
     "text": [
      "              precision    recall  f1-score   support\n",
      "\n",
      "           0     0.7704    0.9576    0.8539      3164\n",
      "           1     0.9442    0.7152    0.8139      3171\n",
      "\n",
      "    accuracy                         0.8363      6335\n",
      "   macro avg     0.8573    0.8364    0.8339      6335\n",
      "weighted avg     0.8574    0.8363    0.8339      6335\n",
      "\n"
     ]
    }
   ],
   "source": [
    "# Predicting on 2nd test set\n",
    "test2_cvrand_ypred = rand_cvnum_cls.predict(test2_cv_num)\n",
    "print(classification_report(label_y2, test2_cvrand_ypred, digits = 4))"
   ]
  },
  {
   "cell_type": "code",
   "execution_count": null,
   "id": "e9457b6a",
   "metadata": {},
   "outputs": [],
   "source": []
  },
  {
   "cell_type": "code",
   "execution_count": null,
   "id": "ce3e7942",
   "metadata": {},
   "outputs": [],
   "source": []
  },
  {
   "cell_type": "markdown",
   "id": "a38f5085",
   "metadata": {},
   "source": [
    "## Gradient Boosting Classifier"
   ]
  },
  {
   "cell_type": "code",
   "execution_count": 60,
   "id": "f0697550",
   "metadata": {},
   "outputs": [
    {
     "data": {
      "text/plain": [
       "<AxesSubplot:>"
      ]
     },
     "execution_count": 60,
     "metadata": {},
     "output_type": "execute_result"
    },
    {
     "data": {
      "image/png": "[encoded data removed]",
      "text/plain": [
       "<Figure size 432x288 with 2 Axes>"
      ]
     },
     "metadata": {
      "needs_background": "light"
     },
     "output_type": "display_data"
    }
   ],
   "source": [
    "gb_cvnum_cls = GradientBoostingClassifier(n_estimators=190, learning_rate=0.1) # creating class object\n",
    "gb_cvnum_cls.fit(cv_num_train, y_train) # fitting to the training set\n",
    "\n",
    "gb_cvnum_ypred = gb_cvnum_cls.predict(cv_num_test) # predicting on testset\n",
    "\n",
    "# Ploting Confusion Matrix\n",
    "cm = confusion_matrix(y_test, gb_cvnum_ypred)\n",
    "sn.heatmap(cm, annot=True, fmt=\"d\")"
   ]
  },
  {
   "cell_type": "code",
   "execution_count": 61,
   "id": "c4851c75",
   "metadata": {},
   "outputs": [
    {
     "name": "stdout",
     "output_type": "stream",
     "text": [
      "              precision    recall  f1-score   support\n",
      "\n",
      "           0     0.8927    0.9069    0.8998      9714\n",
      "           1     0.9042    0.8896    0.8968      9590\n",
      "\n",
      "    accuracy                         0.8983     19304\n",
      "   macro avg     0.8984    0.8983    0.8983     19304\n",
      "weighted avg     0.8984    0.8983    0.8983     19304\n",
      "\n"
     ]
    }
   ],
   "source": [
    "print(classification_report(y_test, gb_cvnum_ypred, digits = 4))"
   ]
  },
  {
   "cell_type": "code",
   "execution_count": 62,
   "id": "8a0c549d",
   "metadata": {},
   "outputs": [
    {
     "name": "stdout",
     "output_type": "stream",
     "text": [
      "              precision    recall  f1-score   support\n",
      "\n",
      "           0     0.6926    0.5850    0.6343      2846\n",
      "           1     0.5750    0.6838    0.6247      2337\n",
      "\n",
      "    accuracy                         0.6296      5183\n",
      "   macro avg     0.6338    0.6344    0.6295      5183\n",
      "weighted avg     0.6396    0.6296    0.6300      5183\n",
      "\n"
     ]
    }
   ],
   "source": [
    "# Predicting on first test set\n",
    "test1_cvgb_ypred = gb_cvnum_cls.predict(test1_cv_num)\n",
    "print(classification_report(label_y1, test1_cvgb_ypred, digits = 4))"
   ]
  },
  {
   "cell_type": "code",
   "execution_count": 63,
   "id": "85b67137",
   "metadata": {
    "scrolled": false
   },
   "outputs": [
    {
     "name": "stdout",
     "output_type": "stream",
     "text": [
      "              precision    recall  f1-score   support\n",
      "\n",
      "           0     0.6685    0.9115    0.7713      3164\n",
      "           1     0.8615    0.5490    0.6706      3171\n",
      "\n",
      "    accuracy                         0.7301      6335\n",
      "   macro avg     0.7650    0.7303    0.7210      6335\n",
      "weighted avg     0.7651    0.7301    0.7209      6335\n",
      "\n"
     ]
    }
   ],
   "source": [
    "# Predicting on 2nd test set\n",
    "test2_cvgb_ypred = gb_cvnum_cls.predict(test2_cv_num)\n",
    "print(classification_report(label_y2, test2_cvgb_ypred, digits = 4))"
   ]
  },
  {
   "cell_type": "code",
   "execution_count": null,
   "id": "f6bf21c4",
   "metadata": {},
   "outputs": [],
   "source": []
  },
  {
   "cell_type": "code",
   "execution_count": null,
   "id": "65dbd73f",
   "metadata": {},
   "outputs": [],
   "source": []
  },
  {
   "cell_type": "markdown",
   "id": "4fe9ee29",
   "metadata": {},
   "source": [
    "## XGBoost"
   ]
  },
  {
   "cell_type": "code",
   "execution_count": 92,
   "id": "4b772472",
   "metadata": {},
   "outputs": [
    {
     "name": "stdout",
     "output_type": "stream",
     "text": [
      "[17:32:22] WARNING: C:/Users/Administrator/workspace/xgboost-win64_release_1.5.1/src/learner.cc:1115: Starting in XGBoost 1.3.0, the default evaluation metric used with the objective 'binary:logistic' was changed from 'error' to 'logloss'. Explicitly set eval_metric if you'd like to restore the old behavior.\n"
     ]
    },
    {
     "data": {
      "text/plain": [
       "<AxesSubplot:>"
      ]
     },
     "execution_count": 92,
     "metadata": {},
     "output_type": "execute_result"
    },
    {
     "data": {
      "image/png": "[encoded data removed]",
      "text/plain": [
       "<Figure size 432x288 with 2 Axes>"
      ]
     },
     "metadata": {
      "needs_background": "light"
     },
     "output_type": "display_data"
    }
   ],
   "source": [
    "xgb_cvnum_cls = XGBClassifier(learning_rate = 1, tree_method = 'gpu_hist', gpu_id = 0, n_jobs = -1) # creating class object\n",
    "xgb_cvnum_cls.fit(cv_num_train, y_train) # fitting to the training set\n",
    "\n",
    "xgb_xgbnum_ypred = xgb_cvnum_cls.predict(cv_num_test) # predicting on testset\n",
    "\n",
    "# Ploting Confusion Matrix\n",
    "cm = confusion_matrix(y_test, xgb_xgbnum_ypred)\n",
    "sn.heatmap(cm, annot=True, fmt=\"d\")"
   ]
  },
  {
   "cell_type": "code",
   "execution_count": 93,
   "id": "a879aa19",
   "metadata": {},
   "outputs": [
    {
     "name": "stdout",
     "output_type": "stream",
     "text": [
      "              precision    recall  f1-score   support\n",
      "\n",
      "           0     0.9399    0.9387    0.9393      9714\n",
      "           1     0.9380    0.9392    0.9386      9590\n",
      "\n",
      "    accuracy                         0.9390     19304\n",
      "   macro avg     0.9390    0.9390    0.9390     19304\n",
      "weighted avg     0.9390    0.9390    0.9390     19304\n",
      "\n"
     ]
    }
   ],
   "source": [
    "print(classification_report(y_test, xgb_xgbnum_ypred, digits = 4))"
   ]
  },
  {
   "cell_type": "code",
   "execution_count": 94,
   "id": "64e57e38",
   "metadata": {},
   "outputs": [
    {
     "name": "stdout",
     "output_type": "stream",
     "text": [
      "              precision    recall  f1-score   support\n",
      "\n",
      "           0     0.6878    0.6068    0.6448      2846\n",
      "           1     0.5812    0.6645    0.6201      2337\n",
      "\n",
      "    accuracy                         0.6328      5183\n",
      "   macro avg     0.6345    0.6357    0.6324      5183\n",
      "weighted avg     0.6397    0.6328    0.6336      5183\n",
      "\n"
     ]
    }
   ],
   "source": [
    "# Predicting on first test set\n",
    "test1_cvxgb_ypred = xgb_cvnum_cls.predict(test1_cv_num)\n",
    "print(classification_report(label_y1, test1_cvxgb_ypred, digits = 4))"
   ]
  },
  {
   "cell_type": "code",
   "execution_count": 95,
   "id": "b86e25cb",
   "metadata": {
    "scrolled": true
   },
   "outputs": [
    {
     "name": "stdout",
     "output_type": "stream",
     "text": [
      "              precision    recall  f1-score   support\n",
      "\n",
      "           0     0.6785    0.9804    0.8020      3164\n",
      "           1     0.9648    0.5364    0.6895      3171\n",
      "\n",
      "    accuracy                         0.7582      6335\n",
      "   macro avg     0.8217    0.7584    0.7457      6335\n",
      "weighted avg     0.8218    0.7582    0.7457      6335\n",
      "\n"
     ]
    }
   ],
   "source": [
    "# Predicting on 2nd test set\n",
    "test2_cvxgb_ypred = xgb_cvnum_cls.predict(test2_cv_num)\n",
    "print(classification_report(label_y2, test2_cvxgb_ypred, digits = 4))"
   ]
  },
  {
   "cell_type": "code",
   "execution_count": null,
   "id": "ac57a0cb",
   "metadata": {},
   "outputs": [],
   "source": []
  },
  {
   "cell_type": "code",
   "execution_count": null,
   "id": "767cd6a6",
   "metadata": {},
   "outputs": [],
   "source": []
  },
  {
   "cell_type": "code",
   "execution_count": null,
   "id": "407cc926",
   "metadata": {},
   "outputs": [],
   "source": []
  }
 ],
 "metadata": {
  "kernelspec": {
   "display_name": "Python 3",
   "language": "python",
   "name": "python3"
  },
  "language_info": {
   "codemirror_mode": {
    "name": "ipython",
    "version": 3
   },
   "file_extension": ".py",
   "mimetype": "text/x-python",
   "name": "python",
   "nbconvert_exporter": "python",
   "pygments_lexer": "ipython3",
   "version": "3.9.7"
  }
 },
 "nbformat": 4,
 "nbformat_minor": 5
}
